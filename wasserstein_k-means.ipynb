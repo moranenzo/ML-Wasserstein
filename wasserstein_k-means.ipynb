{
 "cells": [
  {
   "cell_type": "code",
   "execution_count": 1,
   "id": "25f95cdd",
   "metadata": {},
   "outputs": [],
   "source": [
    "#import\n",
    "import numpy as np\n",
    "import matplotlib.pyplot as plt\n",
    "import ot\n",
    "\n",
    "# for 3d plot\n",
    "from mpl_toolkits.mplot3d import Axes3D  # noqa\n",
    "from matplotlib.collections import PolyCollection"
   ]
  },
  {
   "cell_type": "markdown",
   "id": "0183af69",
   "metadata": {},
   "source": [
    "# Clustering based on barycenters"
   ]
  },
  {
   "cell_type": "code",
   "execution_count": null,
   "id": "37e7f8cb",
   "metadata": {},
   "outputs": [
    {
     "ename": "NameError",
     "evalue": "name 'x' is not defined",
     "output_type": "error",
     "traceback": [
      "\u001b[31m---------------------------------------------------------------------------\u001b[39m",
      "\u001b[31mNameError\u001b[39m                                 Traceback (most recent call last)",
      "\u001b[36mCell\u001b[39m\u001b[36m \u001b[39m\u001b[32mIn[2]\u001b[39m\u001b[32m, line 16\u001b[39m\n\u001b[32m     13\u001b[39m     density = np.exp(-\u001b[32m0.5\u001b[39m * ((x - m) / s)**\u001b[32m2\u001b[39m)\n\u001b[32m     14\u001b[39m     \u001b[38;5;28;01mreturn\u001b[39;00m density / density.sum()\n\u001b[32m---> \u001b[39m\u001b[32m16\u001b[39m distributions = np.array([\u001b[43mrandom_gaussian_on_grid\u001b[49m\u001b[43m(\u001b[49m\u001b[43m)\u001b[49m \u001b[38;5;28;01mfor\u001b[39;00m _ \u001b[38;5;129;01min\u001b[39;00m \u001b[38;5;28mrange\u001b[39m(n_distributions)])\n\u001b[32m     18\u001b[39m \u001b[38;5;66;03m# -------------------------\u001b[39;00m\n\u001b[32m     19\u001b[39m \u001b[38;5;66;03m# INITIALISATION DES CENTROÏDES (au hasard parmi les données)\u001b[39;00m\n\u001b[32m     20\u001b[39m \u001b[38;5;66;03m# -------------------------\u001b[39;00m\n\u001b[32m     22\u001b[39m indices = np.random.choice(n_distributions, k, replace=\u001b[38;5;28;01mFalse\u001b[39;00m)\n",
      "\u001b[36mCell\u001b[39m\u001b[36m \u001b[39m\u001b[32mIn[2]\u001b[39m\u001b[32m, line 13\u001b[39m, in \u001b[36mrandom_gaussian_on_grid\u001b[39m\u001b[34m()\u001b[39m\n\u001b[32m     11\u001b[39m m = np.random.uniform(\u001b[32m0.2\u001b[39m, \u001b[32m0.8\u001b[39m)\n\u001b[32m     12\u001b[39m s = np.random.uniform(\u001b[32m0.02\u001b[39m, \u001b[32m0.05\u001b[39m)\n\u001b[32m---> \u001b[39m\u001b[32m13\u001b[39m density = np.exp(-\u001b[32m0.5\u001b[39m * ((\u001b[43mx\u001b[49m - m) / s)**\u001b[32m2\u001b[39m)\n\u001b[32m     14\u001b[39m \u001b[38;5;28;01mreturn\u001b[39;00m density / density.sum()\n",
      "\u001b[31mNameError\u001b[39m: name 'x' is not defined"
     ]
    }
   ],
   "source": [
    "# parameters\n",
    "\n",
    "n_distributions = 30 # nombre de probas\n",
    "n_support = 100 # taille du support des probas \n",
    "reg = 1e-1\n",
    "n_iter = 20 # nombre d'itérations du k-means\n",
    "\n",
    "# génération des données\n",
    "x = np.linspace(0, 1, n_support)  # support commun\n",
    "\n",
    "def random_gaussian_on_grid():\n",
    "    m = np.random.uniform(0.2, 0.8)\n",
    "    s = np.random.uniform(0.02, 0.05)\n",
    "    density = np.exp(-0.5 * ((x - m) / s)**2)\n",
    "    return density / density.sum()\n",
    "\n",
    "distributions = np.array([random_gaussian_on_grid() for _ in range(n_distributions)])\n",
    "\n",
    "# initialisation des centroides \n",
    "indices = np.random.choice(n_distributions, k, replace=False)\n",
    "centroids = distributions[indices].copy()\n",
    "\n",
    "# algo\n",
    "for t in range(n_iter):\n",
    "    # Affectation : chaque distribution au centroïde le plus proche\n",
    "    assignments = []\n",
    "    for i in range(n_distributions):\n",
    "        dists = [ot.sinkhorn2(distributions[i], c, ot.dist(x[:, None], x[:, None])**2, reg) for c in centroids]\n",
    "        assignments.append(np.argmin(dists))\n",
    "    assignments = np.array(assignments)\n",
    "\n",
    "    # Mise à jour : recalcul des centroïdes comme barycentres de chaque cluster\n",
    "    new_centroids = []\n",
    "    for j in range(k):\n",
    "        members = distributions[assignments == j]\n",
    "        if len(members) == 0:\n",
    "            # éviter cluster vide\n",
    "            new_centroids.append(random_gaussian_on_grid())\n",
    "        else:\n",
    "            new_c = ot.bregman.barycenter(members.T, ot.dist(x[:, None], x[:, None])**2, reg)\n",
    "            new_centroids.append(new_c)\n",
    "    centroids = np.array(new_centroids)\n",
    "\n",
    "# -------------------------\n",
    "# AFFICHAGE\n",
    "# -------------------------\n",
    "\n",
    "colors = ['red', 'green', 'blue', 'purple', 'orange']\n",
    "plt.figure(figsize=(8, 4))\n",
    "for i in range(n_distributions):\n",
    "    plt.plot(x, distributions[i], color=colors[assignments[i] % len(colors)], alpha=0.5)\n",
    "\n",
    "for j in range(k):\n",
    "    plt.plot(x, centroids[j], color=colors[j % len(colors)], linewidth=3, label=f'Centroïde {j+1}')\n",
    "\n",
    "plt.title(\"Wasserstein k-means par barycentres (régularisé)\")\n",
    "plt.legend()\n",
    "plt.tight_layout()\n",
    "plt.show()\n"
   ]
  },
  {
   "cell_type": "code",
   "execution_count": null,
   "id": "5090b9ef",
   "metadata": {},
   "outputs": [],
   "source": []
  }
 ],
 "metadata": {
  "kernelspec": {
   "display_name": "Python 3",
   "language": "python",
   "name": "python3"
  },
  "language_info": {
   "codemirror_mode": {
    "name": "ipython",
    "version": 3
   },
   "file_extension": ".py",
   "mimetype": "text/x-python",
   "name": "python",
   "nbconvert_exporter": "python",
   "pygments_lexer": "ipython3",
   "version": "3.12.9"
  }
 },
 "nbformat": 4,
 "nbformat_minor": 5
}
