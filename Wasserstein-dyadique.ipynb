{
 "cells": [
  {
   "cell_type": "code",
   "execution_count": 12,
   "id": "844a70cf",
   "metadata": {},
   "outputs": [
    {
     "name": "stdout",
     "output_type": "stream",
     "text": [
      "Collecting pot\n",
      "  Downloading POT-0.9.5-cp312-cp312-manylinux_2_17_x86_64.manylinux2014_x86_64.whl.metadata (34 kB)\n",
      "Requirement already satisfied: numpy>=1.16 in /usr/local/lib/python3.12/site-packages (from pot) (2.2.6)\n",
      "Requirement already satisfied: scipy>=1.6 in /usr/local/lib/python3.12/site-packages (from pot) (1.15.3)\n",
      "Downloading POT-0.9.5-cp312-cp312-manylinux_2_17_x86_64.manylinux2014_x86_64.whl (901 kB)\n",
      "\u001b[2K   \u001b[90m━━━━━━━━━━━━━━━━━━━━━━━━━━━━━━━━━━━━━━━━\u001b[0m \u001b[32m901.7/901.7 kB\u001b[0m \u001b[31m45.5 MB/s\u001b[0m eta \u001b[36m0:00:00\u001b[0m\n",
      "\u001b[?25hInstalling collected packages: pot\n",
      "Successfully installed pot-0.9.5\n"
     ]
    }
   ],
   "source": [
    "!pip install pot"
   ]
  },
  {
   "cell_type": "code",
   "execution_count": null,
   "id": "98b5cda6",
   "metadata": {},
   "outputs": [],
   "source": [
    "#Import\n",
    "import numpy as np\n",
    "import matplotlib.pyplot as plt\n",
    "import ot"
   ]
  },
  {
   "cell_type": "code",
   "execution_count": null,
   "id": "259be85c",
   "metadata": {},
   "outputs": [],
   "source": [
    "# Parameters\n",
    "d = 3\n",
    "N = 10000\n",
    "\n",
    "# Moyennes et covariance pour les gaussiennes tronquées\n",
    "mean_p = np.array([0.3] * d)\n",
    "mean_q = np.array([0.7] * d)\n",
    "cov = 0.02 * np.eye(d)"
   ]
  },
  {
   "cell_type": "code",
   "execution_count": null,
   "id": "d3200512",
   "metadata": {},
   "outputs": [],
   "source": [
    "#Construction des mesures\n",
    "p_samples = []\n",
    "q_samples = []\n",
    "\n",
    "while len(p_samples) < N:\n",
    "    x = np.random.multivariate_normal(mean_p, cov)\n",
    "    if np.all((x >= 0) & (x <= 1)):\n",
    "        p_samples.append(x)\n",
    "\n",
    "while len(q_samples) < N:\n",
    "    x = np.random.multivariate_normal(mean_q, cov)\n",
    "    if np.all((x >= 0) & (x <= 1)):\n",
    "        q_samples.append(x)\n",
    "        \n",
    "p_samples = np.array(p_samples)\n",
    "q_samples = np.array(q_samples)"
   ]
  },
  {
   "cell_type": "code",
   "execution_count": 32,
   "id": "5d0fc300",
   "metadata": {},
   "outputs": [
    {
     "name": "stdout",
     "output_type": "stream",
     "text": [
      "0.46323944567470493\n"
     ]
    },
    {
     "name": "stderr",
     "output_type": "stream",
     "text": [
      "/usr/local/lib/python3.12/site-packages/ot/lp/__init__.py:630: UserWarning: numItermax reached before optimality. Try to increase numItermax.\n",
      "  check_result(result_code)\n"
     ]
    }
   ],
   "source": [
    "# Distance de Wasserstein exacte avec POT\n",
    "M = ot.dist(p_samples, q_samples)\n",
    "a = b = np.ones(N) / N\n",
    "W1 = ot.emd2(a, b, M)\n",
    "\n",
    "print(W1)"
   ]
  },
  {
   "cell_type": "code",
   "execution_count": null,
   "id": "8ccf232a",
   "metadata": {},
   "outputs": [],
   "source": [
    "# Approximation dyadique\n",
    "def dyadic_w1(p, q, eps, max_power=5):\n",
    "    m = int(np.ceil(np.log2(2 * d / eps)))\n",
    "    W1 = 0\n",
    "    for i in range(1, m + 1):\n",
    "        bins = [np.linspace(0, 1, 2**i + 1) for i in range(d)]\n",
    "\n",
    "        p_hist, _ = np.histogramdd(p, bins=bins)\n",
    "        q_hist, _ = np.histogramdd(q, bins=bins)\n",
    "\n",
    "        p_hist = p_hist / p_hist.sum()\n",
    "        q_hist = q_hist / q_hist.sum()\n",
    "\n",
    "        l1 = np.sum(np.abs(p_hist - q_hist))\n",
    "\n",
    "        W1 += (1 / 2**i) * l1\n",
    "    return 2 * d * W1 + eps / 2"
   ]
  },
  {
   "cell_type": "code",
   "execution_count": 36,
   "id": "11d2ee6d",
   "metadata": {},
   "outputs": [
    {
     "name": "stdout",
     "output_type": "stream",
     "text": [
      "[np.float64(10.683349999999999), np.float64(10.657297368421052), np.float64(10.631244736842104), np.float64(10.605192105263157), np.float64(10.57913947368421), np.float64(11.295286842105261), np.float64(11.269234210526314), np.float64(11.243181578947366), np.float64(11.217128947368419), np.float64(11.191076315789472), np.float64(11.165023684210524), np.float64(11.138971052631577), np.float64(11.486568421052631), np.float64(11.460515789473684), np.float64(11.434463157894736), np.float64(11.40841052631579), np.float64(11.382357894736842), np.float64(11.356305263157894), np.float64(11.330252631578947), np.float64(11.3042)]\n"
     ]
    },
    {
     "data": {
      "image/png": "[encoded data removed]",
      "text/plain": [
       "<Figure size 640x480 with 1 Axes>"
      ]
     },
     "metadata": {},
     "output_type": "display_data"
    }
   ],
   "source": [
    "# Répartition linéaire des epsilons\n",
    "\n",
    "eps_values = np.linspace(1, 0.01, 20)\n",
    "\n",
    "dyadic_estimates = [dyadic_w1(p_samples, q_samples, eps) for eps in eps_values]\n",
    "print (dyadic_estimates)\n",
    "\n",
    "\n",
    "plt.plot(eps_values, dyadic_estimates)\n",
    "plt.axhline(W1_true, color='green', linestyle='--')\n",
    "plt.grid(True)\n",
    "plt.show()"
   ]
  },
  {
   "cell_type": "code",
   "execution_count": 37,
   "id": "3a1b4cba",
   "metadata": {},
   "outputs": [
    {
     "name": "stdout",
     "output_type": "stream",
     "text": [
      "[np.float64(11.3492), np.float64(11.3042), np.float64(11.2997), np.float64(11.299249999999999), np.float64(11.299204999999999), np.float64(11.2992005), np.float64(11.29920005), np.float64(11.299200005)]\n"
     ]
    },
    {
     "data": {
      "image/png": "[encoded data removed]",
      "text/plain": [
       "<Figure size 640x480 with 1 Axes>"
      ]
     },
     "metadata": {},
     "output_type": "display_data"
    }
   ],
   "source": [
    "# Répartition exponentielle des epsilons\n",
    "\n",
    "eps_values = [10**(-i) for i in range(1, 9)]\n",
    "\n",
    "dyadic_estimates = [dyadic_w1(p_samples, q_samples, eps) for eps in eps_values]\n",
    "print (dyadic_estimates)\n",
    "\n",
    "\n",
    "plt.loglog(eps_values, dyadic_estimates)\n",
    "plt.axhline(W1_true, color='green', linestyle='--')\n",
    "plt.grid(True)\n",
    "plt.show()"
   ]
  }
 ],
 "metadata": {
  "kernelspec": {
   "display_name": "Python 3",
   "language": "python",
   "name": "python3"
  },
  "language_info": {
   "codemirror_mode": {
    "name": "ipython",
    "version": 3
   },
   "file_extension": ".py",
   "mimetype": "text/x-python",
   "name": "python",
   "nbconvert_exporter": "python",
   "pygments_lexer": "ipython3",
   "version": "3.12.9"
  }
 },
 "nbformat": 4,
 "nbformat_minor": 5
}
