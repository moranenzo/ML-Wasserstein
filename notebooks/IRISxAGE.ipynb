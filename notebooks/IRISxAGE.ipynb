{
 "cells": [
  {
   "cell_type": "markdown",
   "id": "5ffabd62",
   "metadata": {},
   "source": [
    "# Clustering over INCOME and AGE across the IRIS"
   ]
  },
  {
   "cell_type": "markdown",
   "id": "eede670c",
   "metadata": {},
   "source": [
    "## Import"
   ]
  },
  {
   "cell_type": "code",
   "execution_count": 1,
   "id": "fa2bc375",
   "metadata": {},
   "outputs": [
    {
     "name": "stdout",
     "output_type": "stream",
     "text": [
      "Requirement already satisfied: openpyxl in /opt/python/lib/python3.13/site-packages (3.1.5)\n",
      "Requirement already satisfied: et-xmlfile in /opt/python/lib/python3.13/site-packages (from openpyxl) (2.0.0)\n",
      "Requirement already satisfied: ipywidgets in /opt/python/lib/python3.13/site-packages (8.1.7)\n",
      "Requirement already satisfied: comm>=0.1.3 in /opt/python/lib/python3.13/site-packages (from ipywidgets) (0.2.2)\n",
      "Requirement already satisfied: ipython>=6.1.0 in /opt/python/lib/python3.13/site-packages (from ipywidgets) (9.3.0)\n",
      "Requirement already satisfied: traitlets>=4.3.1 in /opt/python/lib/python3.13/site-packages (from ipywidgets) (5.14.3)\n",
      "Requirement already satisfied: widgetsnbextension~=4.0.14 in /opt/python/lib/python3.13/site-packages (from ipywidgets) (4.0.14)\n",
      "Requirement already satisfied: jupyterlab_widgets~=3.0.15 in /opt/python/lib/python3.13/site-packages (from ipywidgets) (3.0.15)\n",
      "Requirement already satisfied: decorator in /opt/python/lib/python3.13/site-packages (from ipython>=6.1.0->ipywidgets) (5.2.1)\n",
      "Requirement already satisfied: ipython-pygments-lexers in /opt/python/lib/python3.13/site-packages (from ipython>=6.1.0->ipywidgets) (1.1.1)\n",
      "Requirement already satisfied: jedi>=0.16 in /opt/python/lib/python3.13/site-packages (from ipython>=6.1.0->ipywidgets) (0.19.2)\n",
      "Requirement already satisfied: matplotlib-inline in /opt/python/lib/python3.13/site-packages (from ipython>=6.1.0->ipywidgets) (0.1.7)\n",
      "Requirement already satisfied: pexpect>4.3 in /opt/python/lib/python3.13/site-packages (from ipython>=6.1.0->ipywidgets) (4.9.0)\n",
      "Requirement already satisfied: prompt_toolkit<3.1.0,>=3.0.41 in /opt/python/lib/python3.13/site-packages (from ipython>=6.1.0->ipywidgets) (3.0.51)\n",
      "Requirement already satisfied: pygments>=2.4.0 in /opt/python/lib/python3.13/site-packages (from ipython>=6.1.0->ipywidgets) (2.19.2)\n",
      "Requirement already satisfied: stack_data in /opt/python/lib/python3.13/site-packages (from ipython>=6.1.0->ipywidgets) (0.6.3)\n",
      "Requirement already satisfied: wcwidth in /opt/python/lib/python3.13/site-packages (from prompt_toolkit<3.1.0,>=3.0.41->ipython>=6.1.0->ipywidgets) (0.2.13)\n",
      "Requirement already satisfied: parso<0.9.0,>=0.8.4 in /opt/python/lib/python3.13/site-packages (from jedi>=0.16->ipython>=6.1.0->ipywidgets) (0.8.4)\n",
      "Requirement already satisfied: ptyprocess>=0.5 in /opt/python/lib/python3.13/site-packages (from pexpect>4.3->ipython>=6.1.0->ipywidgets) (0.7.0)\n",
      "Requirement already satisfied: executing>=1.2.0 in /opt/python/lib/python3.13/site-packages (from stack_data->ipython>=6.1.0->ipywidgets) (2.2.0)\n",
      "Requirement already satisfied: asttokens>=2.1.0 in /opt/python/lib/python3.13/site-packages (from stack_data->ipython>=6.1.0->ipywidgets) (3.0.0)\n",
      "Requirement already satisfied: pure-eval in /opt/python/lib/python3.13/site-packages (from stack_data->ipython>=6.1.0->ipywidgets) (0.2.3)\n"
     ]
    }
   ],
   "source": [
    "!pip install openpyxl # for pd.read_excel\n",
    "!pip install ipywidgets # for tqdm.notebook\n"
   ]
  },
  {
   "cell_type": "code",
   "execution_count": 2,
   "id": "ee013e46",
   "metadata": {},
   "outputs": [],
   "source": [
    "import numpy as np\n",
    "import ot    # pip install pot\n",
    "import pandas as pd\n",
    "import matplotlib.pyplot as plt\n",
    "\n",
    "from sklearn.decomposition import PCA\n",
    "from sklearn.cluster import KMeans\n",
    "\n",
    "import sys\n",
    "sys.path.append(\"../src\")\n",
    "from clustering_methods import wbarycenter_clustering_nd\n",
    "from utils import reconstruct_joint_distribution_ot\n",
    "\n",
    "from tqdm.notebook import tqdm\n",
    "import geopandas as gpd\n"
   ]
  },
  {
   "cell_type": "markdown",
   "id": "256a2d6e",
   "metadata": {},
   "source": [
    "### Income Deciles per IRIS"
   ]
  },
  {
   "cell_type": "code",
   "execution_count": 3,
   "id": "7e9db764",
   "metadata": {},
   "outputs": [],
   "source": [
    "# INCOME DECILES PER IRIS\n",
    "\n",
    "# Load the file\n",
    "df_income_temp = pd.read_csv('../data/BASE_TD_FILO_DEC_IRIS_2020.csv', sep=';', decimal=',')\n",
    "\n",
    "\n",
    "# Decile columns\n",
    "decile_cols = ['DEC_D120', 'DEC_D220', 'DEC_D320', 'DEC_D420', 'DEC_MED20', 'DEC_D620', 'DEC_D720', 'DEC_D820', 'DEC_D920']\n",
    "\n",
    "# Convert from object to float64\n",
    "df_income_temp[decile_cols] = df_income_temp[decile_cols].apply(pd.to_numeric, errors='coerce')\n",
    "\n",
    "# Remove the 1319 rows with missing deciles\n",
    "df_income = df_income_temp.dropna(subset=decile_cols).reset_index(drop=True)\n",
    "\n",
    "distributions = df_income[decile_cols].to_numpy()\n",
    "\n",
    "# Useful \n",
    "support = np.arange(1, 10)  # D1 to D9\n",
    "colors = ['cornflowerblue', 'forestgreen', 'red', 'deeppink', 'orange', 'brown', 'purple']\n",
    "age_groups = [\"0_17\", \"18_29\", \"30_39\", \"40_49\", \"50_64\", \"65_74\", \"75P\"]\n",
    "\n",
    "\n",
    "n_distributions = distributions.shape[0]"
   ]
  },
  {
   "cell_type": "markdown",
   "id": "62ccd981",
   "metadata": {},
   "source": [
    "### Average Income per age"
   ]
  },
  {
   "cell_type": "code",
   "execution_count": 4,
   "id": "1b41d1c9",
   "metadata": {},
   "outputs": [],
   "source": [
    "# AVERAGE INCOME PER AGE\n",
    "\n",
    "# Load the file\n",
    "df_income_age = pd.read_excel(\"../data/reve-niv-vie-individu-age-med.xlsx\", skiprows=3)\n"
   ]
  },
  {
   "cell_type": "code",
   "execution_count": 5,
   "id": "2d0ab763",
   "metadata": {},
   "outputs": [],
   "source": [
    "# Keep only the 2020 column\n",
    "df_income_age = df_income_age[[\"Tranche d’âge\", '2020³ ⁴']]\n",
    "\n",
    "# Rename the column\n",
    "df_income_age = df_income_age.rename(columns={'2020³ ⁴': \"MEDIAN_INCOME\"})\n",
    "\n",
    "# Rename the age groups\n",
    "renaming_dict = {\n",
    "    \"Moins de 18 ans\": \"0_17\",\n",
    "    \"De 18 à 29 ans\": \"18_29\",\n",
    "    \"De 30 à 39 ans\": \"30_39\",\n",
    "    \"De 40 à 49 ans\": \"40_49\",\n",
    "    \"De 50 à 64 ans\": \"50_64\",\n",
    "    \"De 65 à 74 ans\": \"65_74\",\n",
    "    \"75 ans et plus\": \"75P\"\n",
    "}\n",
    "df_income_age[\"AGE_GROUP\"] = df_income_age[\"Tranche d’âge\"].replace(renaming_dict)\n",
    "\n",
    "# Get rid of the metadata lines\n",
    "df_income_age = df_income_age[df_income_age['AGE_GROUP'].isin(age_groups)].reset_index(drop=True)\n",
    "\n",
    "# Keep only the relevant columns\n",
    "df_income_age = df_income_age[[\"AGE_GROUP\", \"MEDIAN_INCOME\"]]\n"
   ]
  },
  {
   "cell_type": "markdown",
   "id": "a0674967",
   "metadata": {},
   "source": [
    "### Population per age "
   ]
  },
  {
   "cell_type": "markdown",
   "id": "e2133701",
   "metadata": {},
   "source": [
    "To apply our algorithms using income by age group, we need to estimate the population in each corresponding age range for every IRIS. However, the INSEE population dataset provides age groupings that do not match exactly with those used in the national income-by-age statistics. To reconcile the two, we reconstruct the target age groups — (0–17), (18–29), (30–39), (40–49), (50–64), (65–74), and 75+ — by combining and subtracting available groups from the population dataset. In some cases, we rely on approximations (e.g., estimating the 45–54 group to split 40–49 and 50–64) to ensure consistency with the income data structure. This harmonization step is essential to later compute joint distributions of age and income at the IRIS level."
   ]
  },
  {
   "cell_type": "code",
   "execution_count": 6,
   "id": "f1742632",
   "metadata": {},
   "outputs": [],
   "source": [
    "# POPULATION PER AGE\n",
    "\n",
    "# Load the Excel sheet\n",
    "df_pop_temp = pd.read_excel(\"../data/base-ic-evol-struct-pop-2020.xlsx\", sheet_name=0, skiprows=5)\n"
   ]
  },
  {
   "cell_type": "code",
   "execution_count": 7,
   "id": "b8373101",
   "metadata": {},
   "outputs": [],
   "source": [
    "# Directly accessible age groups\n",
    "df_pop_temp[\"AGE_0_17\"] = df_pop_temp[\"P20_POP0002\"] + df_pop_temp[\"P20_POP0305\"] + df_pop_temp[\"P20_POP0610\"] + df_pop_temp[\"P20_POP1117\"]\n",
    "df_pop_temp[\"AGE_18_29\"] = df_pop_temp[\"P20_POP0014\"] + df_pop_temp[\"P20_POP1529\"] - df_pop_temp[\"AGE_0_17\"]\n",
    "df_pop_temp[\"AGE_30_39\"] = df_pop_temp[\"P20_POP2539\"] + df_pop_temp[\"P20_POP1824\"] - df_pop_temp[\"AGE_18_29\"]\n",
    "df_pop_temp[\"AGE_65_74\"] = df_pop_temp[\"P20_POP65P\"] - df_pop_temp[\"P20_POP75P\"]\n",
    "# No processing needed for 75+ age group\n",
    "\n",
    "# Approximation of the 45–54 group to help deduce 40–49 and 50–64\n",
    "df_pop_temp[\"AGE_45_54\"] = (\n",
    "    df_pop_temp[\"AGE_0_17\"] + df_pop_temp[\"P20_POP1824\"] + df_pop_temp[\"P20_POP2539\"] + df_pop_temp[\"P20_POP4054\"]\n",
    "    - (df_pop_temp[\"P20_POP0014\"] + df_pop_temp[\"P20_POP1529\"] + df_pop_temp[\"P20_POP3044\"])\n",
    ")\n",
    "\n",
    "# Approximate 40–49 from 40–54 and part of 45–54\n",
    "df_pop_temp[\"AGE_40_49\"] = df_pop_temp[\"P20_POP4054\"] - 0.5 * df_pop_temp[\"AGE_45_54\"]\n",
    "\n",
    "# Approximate 50–64 from 55–64 and part of 45–54\n",
    "df_pop_temp[\"AGE_50_64\"] = df_pop_temp[\"P20_POP5564\"] + 0.5 * df_pop_temp[\"AGE_45_54\"]\n",
    "\n",
    "# Renaming for clarity\n",
    "df_pop_temp[\"0_17\"] = df_pop_temp[\"AGE_0_17\"]\n",
    "df_pop_temp[\"18_29\"] = df_pop_temp[\"AGE_18_29\"]\n",
    "df_pop_temp[\"30_39\"] = df_pop_temp[\"AGE_30_39\"]\n",
    "df_pop_temp[\"40_49\"] = df_pop_temp[\"AGE_40_49\"]\n",
    "df_pop_temp[\"50_64\"] = df_pop_temp[\"AGE_50_64\"]\n",
    "df_pop_temp[\"65_74\"] = df_pop_temp[\"AGE_65_74\"]\n",
    "df_pop_temp[\"75P\"] = df_pop_temp[\"P20_POP75P\"]\n",
    "\n",
    "# Final columns to keep\n",
    "final_cols = [\"IRIS\", \"REG\", \"DEP\", \"LIBCOM\", \"LIBIRIS\"] + age_groups\n",
    "\n",
    "df_pop = df_pop_temp[final_cols]\n"
   ]
  },
  {
   "cell_type": "markdown",
   "id": "6136029b",
   "metadata": {},
   "source": [
    "## Joint Age-Income Distributions"
   ]
  },
  {
   "cell_type": "markdown",
   "id": "4407567c",
   "metadata": {},
   "source": [
    "### Reconstructing the joint age–income distribution"
   ]
  },
  {
   "cell_type": "markdown",
   "id": "97469093",
   "metadata": {},
   "source": [
    "For each IRIS, we reconstruct a joint probability distribution π over age groups and income levels. The marginal distributions are:\n",
    "* the age distribution of the IRIS (based on population counts per age group), and\n",
    "* a uniform distribution over the income deciles observed in the IRIS.\n",
    "\n",
    "We use optimal transport to find the coupling π that best aligns the income levels with the national average income for each age group, minimizing the cost:\n",
    "\n",
    "$$\n",
    "C_{i,j} = |R_j - m(T_i)|\n",
    "$$\n",
    "\n",
    "where $R_j$ is the j-th income level (decile), and $m(T_i)$ is the national average income for age group $T_i$.\n",
    "\n",
    "The result is a joint distribution π (a matrix), interpreted as the most plausible alignment between age and income in the IRIS, under minimal deviation from national trends."
   ]
  },
  {
   "cell_type": "markdown",
   "id": "15c1e39e",
   "metadata": {},
   "source": [
    "### Computation for Each IRIS"
   ]
  },
  {
   "cell_type": "code",
   "execution_count": 9,
   "id": "0bcd8f52",
   "metadata": {},
   "outputs": [
    {
     "data": {
      "application/vnd.jupyter.widget-view+json": {
       "model_id": "1b36f8b4748e45d2b43727410ce19e00",
       "version_major": 2,
       "version_minor": 0
      },
      "text/plain": [
       "  0%|          | 0/14703 [00:00<?, ?it/s]"
      ]
     },
     "metadata": {},
     "output_type": "display_data"
    }
   ],
   "source": [
    "# Compute national median income per age group\n",
    "age_income_medians = df_income_age.set_index(\"AGE_GROUP\").loc[age_groups, \"MEDIAN_INCOME\"].to_numpy()\n",
    "\n",
    "# Find common IRIS identifiers present in both datasets\n",
    "common_iris = sorted(set(df_income[\"IRIS\"]).intersection(df_pop[\"IRIS\"]))\n",
    "\n",
    "# Compute joint distributions\n",
    "joint_distributions = []\n",
    "iris_ids = []\n",
    "\n",
    "for iris in tqdm(common_iris):\n",
    "    row_income = df_income[df_income[\"IRIS\"] == iris]\n",
    "    row_pop = df_pop[df_pop[\"IRIS\"] == iris]\n",
    "\n",
    "    if row_income.empty or row_pop.empty:\n",
    "        continue  # Skip if data is missing for this IRIS\n",
    "\n",
    "    # Age group weights (normalized)\n",
    "    age_counts = row_pop.iloc[0][age_groups].to_numpy()\n",
    "    age_weights = age_counts / age_counts.sum()\n",
    "\n",
    "    # Income decile values\n",
    "    income_deciles = row_income.iloc[0][decile_cols].to_numpy()\n",
    "\n",
    "    # Compute the joint distribution π using optimal transport\n",
    "    pi = reconstruct_joint_distribution_ot(age_weights, income_deciles, age_income_medians)\n",
    "\n",
    "    joint_distributions.append(pi)\n",
    "    iris_ids.append(iris)\n",
    "\n",
    "# Stack the joint distributions into a 3D array: (n_iris, n_age_groups, n_income_deciles)\n",
    "joint_distributions = np.stack(joint_distributions)\n"
   ]
  },
  {
   "cell_type": "code",
   "execution_count": 40,
   "id": "fa1c7ff3",
   "metadata": {},
   "outputs": [
    {
     "data": {
      "image/png": "[encoded data removed]",
      "text/plain": [
       "<Figure size 1200x400 with 4 Axes>"
      ]
     },
     "metadata": {},
     "output_type": "display_data"
    }
   ],
   "source": [
    "# Plot random joint distributions\n",
    "rng = np.random.default_rng(42)\n",
    "indices = rng.choice(len(joint_distributions), size=3, replace=False)\n",
    "\n",
    "plt.figure(figsize=(12, 4))\n",
    "\n",
    "for i in range(3):\n",
    "    plt.subplot(1, 3, i + 1)\n",
    "    plt.imshow(joint_distributions[indices[i]], cmap='viridis', aspect='auto')\n",
    "    plt.title(f\"Sample {indices[i]}\")\n",
    "    plt.xlabel(\"Decile\")\n",
    "    plt.ylabel(\"Age class\")\n",
    "\n",
    "plt.tight_layout()\n",
    "plt.colorbar(label=\"Probability\")\n",
    "plt.show()"
   ]
  },
  {
   "cell_type": "markdown",
   "id": "0e7bbdb9",
   "metadata": {},
   "source": [
    "* **`a`** est un vecteur de taille $n$ tel que $a_i\\ge0$ et $\\sum_i a_i = 1$. Il représente la **marge** de la première loi discrète sur son support indexé par $i$.\n",
    "* **`b`** est un vecteur de taille $m$ tel que $b_j\\ge0$ et $\\sum_j b_j = 1$. Il représente la **marge** de la seconde loi discrète sur son support indexé par $j$.\n",
    "* **`M`** est une matrice de taille $n\\times m$ (ou $n\\times n$ si les deux lois partagent le même support) dont l’entrée $M[i,j]$ est le **coût unitaire** pour transporter **une unité de masse** du point $i$ de la loi 1 vers le point $j$ de la loi 2.\n",
    "\n",
    "Quand tu appelles :\n",
    "\n",
    "```python\n",
    "cost = ot.emd2(a, b, M)\n",
    "```\n",
    "\n",
    "le solver résout le problème de Kantorovich :\n",
    "\n",
    "$$\n",
    "\\min_{\\pi\\in\\mathbb R_+^{n\\times m}}\n",
    "\\sum_{i=1}^n\\sum_{j=1}^m \\pi_{ij}\\,M_{ij}\n",
    "\\quad\\text{tel que}\\quad \n",
    "\\sum_j \\pi_{ij} = a_i,\\;\n",
    "\\sum_i \\pi_{ij} = b_j.\n",
    "$$\n",
    "\n",
    "* La contrainte $\\sum_j \\pi_{ij}=a_i$ garantit que la première marginale de $\\pi$ est $a$.\n",
    "* La contrainte $\\sum_i \\pi_{ij}=b_j$ garantit que la seconde marginale de $\\pi$ est $b$.\n",
    "* Le résultat `cost` est le **coût minimal total** du transport optimal entre ces deux lois.\n",
    "\n",
    "En résumé, **`ot.emd2(a, b, M)`** te donne la distance de Wasserstein (avec coût $M$) entre deux distributions représentées par leurs poids `a` et `b` sur leurs supports indexés.\n"
   ]
  },
  {
   "cell_type": "markdown",
   "id": "cfe7c4ff",
   "metadata": {},
   "source": [
    "Le point crucial, c’est que **toutes tes joint\\_distributions** sont alignées sur le **même schéma discret** (7 tranches d’âge × 9 déciles) — **peu importe** que les vraies valeurs de R₁…R₉ varient d’un IRIS à l’autre, on les indexe toujours par **décile ordinal** (1, 2, …, 9).\n",
    "\n",
    "---\n",
    "\n",
    "## 📐 Comment marche la cost‑matrix ?\n",
    "\n",
    "1. **Support discret commun**\n",
    "   On ne met pas les valeurs réelles des revenus dans le support de l’OT, on met **l’indice de la tranche** (décile) et **l’indice de la tranche d’âge**.\n",
    "   → Chaque bin est repéré par son couple **(age\\_idx, decile\\_idx)**.\n",
    "\n",
    "2. **Coordonnées du support**\n",
    "\n",
    "   ```python\n",
    "   coords = [(i,j) for i in range(n_ages) for j in range(n_deciles)]\n",
    "   ```\n",
    "\n",
    "   C’est le même pour tous les IRIS, donc on peut calculer une **cost\\_matrix unique** :\n",
    "\n",
    "   ```python\n",
    "   cost_matrix = ot.dist(coords, coords)  # euclidean distance entre bins\n",
    "   ```\n",
    "\n",
    "3. **Interprétation**\n",
    "\n",
    "   * Transporter 1 unité de masse du bin (i,j) vers (i′,j′) coûte la distance euclidienne entre (i,j) et (i′,j′) dans le **couple d’indices**.\n",
    "   * On ignore ici les écarts en euros réels, on traite le positionnement ordinal comme proxy.\n",
    "\n",
    "---\n",
    "\n",
    "## 🎯 Pourquoi c’est acceptable\n",
    "\n",
    "* **Alignement des supports** : tous les $\\pi$ ont la même dimension $(7\\times9)$, on peut les comparer.\n",
    "* **Distance “moyenne”** : on mesure à quel point les formes de lois jointe diffèrent en décalages d’âge vs décile ordinal, ce qui capture les transitions d’une tranche à l’autre.\n",
    "\n",
    "---\n",
    "\n",
    "## 🚀 Si tu veux incorporer les **valeurs réelles** de revenu\n",
    "\n",
    "Tu peux passer dans un espace continu **2D** :\n",
    "\n",
    "* Coordonnée d’un bin = $(\\text{m}(T_i), R_j)$\n",
    "* Alors\n",
    "\n",
    "  ```python\n",
    "  coords = np.array([\n",
    "    (income_median_by_age[i], income_values[j])\n",
    "    for i in range(n_ages)\n",
    "    for j in range(n_deciles)\n",
    "  ])\n",
    "  cost_matrix = ot.dist(coords, coords)\n",
    "  ```\n",
    "* Là tu prends en compte **l’écart réel en euros** entre un bin et un autre.\n",
    "\n",
    "---\n",
    "\n",
    "### En résumé\n",
    "\n",
    "* **Le code original** utilise le même support discret pour tous les IRIS (déciles ordinales), d’où la cost\\_matrix unique.\n",
    "* **Pour inclure les vraies valeurs R\\_i**, il faut remplacer `coords = [(i,j)]` par `coords = [(m(T_i), R_j)]`, et tu gardes un seul cost\\_matrix partagé.\n",
    "\n",
    "Cela te permettra de mesurer un vrai coût monétaire *et* d’âge dans le même OT, sans perdre l’alignement des supports.\n"
   ]
  },
  {
   "cell_type": "code",
   "execution_count": 54,
   "id": "1524ee0c",
   "metadata": {},
   "outputs": [
    {
     "data": {
      "application/vnd.jupyter.widget-view+json": {
       "model_id": "376b23ebadf44c9a9d176d02788cf282",
       "version_major": 2,
       "version_minor": 0
      },
      "text/plain": [
       "Assigning to barycenters:   0%|          | 0/14703 [00:00<?, ?it/s]"
      ]
     },
     "metadata": {},
     "output_type": "display_data"
    }
   ],
   "source": [
    "n_clusters = 2\n",
    "reg=1e-1\n",
    "rng = np.random.default_rng(42)\n",
    "n_samples = joint_distributions.shape[0]\n",
    "\n",
    "barycenters = joint_distributions[rng.choice(n_samples, size=n_clusters, replace=False)]\n",
    "\n",
    "shape = joint_distributions.shape[1:]\n",
    "n_bins = np.prod(shape)\n",
    "\n",
    "# Flatten distributions and barycenters\n",
    "data_flat = joint_distributions.reshape(n_samples, n_bins)\n",
    "bary_flat = np.stack([b.reshape(n_bins) for b in barycenters], axis=0)\n",
    "\n",
    "# Normalize to ensure each is a proper probability mass\n",
    "data_flat /= data_flat.sum(axis=1, keepdims=True)\n",
    "bary_flat /= bary_flat.sum(axis=1, keepdims=True)\n",
    "\n",
    "coords = np.array([(i, j) for i in range(shape[0]) for j in range(shape[1])])\n",
    "cost_matrix = ot.dist(coords, coords)\n",
    "\n",
    "assignments = np.zeros(n_samples, dtype=int)\n",
    "\n",
    "for i in tqdm(range(n_samples), desc=\"Assigning to barycenters\"):\n",
    "    distances = np.zeros(n_clusters, dtype=float)\n",
    "    for j in range(n_clusters):\n",
    "        distances[j] = ot.emd2(data_flat[i], bary_flat[j], cost_matrix)\n",
    "    assignments[i] = np.argmin(distances)"
   ]
  },
  {
   "cell_type": "code",
   "execution_count": 52,
   "id": "2964c40f",
   "metadata": {},
   "outputs": [
    {
     "name": "stdout",
     "output_type": "stream",
     "text": [
      "2471\n",
      "12232\n"
     ]
    }
   ],
   "source": [
    "for i in range(n_clusters):\n",
    "    print(len(np.where(assignments == i)[0]))"
   ]
  },
  {
   "cell_type": "code",
   "execution_count": 56,
   "id": "99159344",
   "metadata": {},
   "outputs": [
    {
     "data": {
      "application/vnd.jupyter.widget-view+json": {
       "model_id": "467482decfcc4ff997a104a370ae141f",
       "version_major": 2,
       "version_minor": 0
      },
      "text/plain": [
       "Recomputing barycenters:   0%|          | 0/2 [00:00<?, ?it/s]"
      ]
     },
     "metadata": {},
     "output_type": "display_data"
    }
   ],
   "source": [
    "new_barycenters = []\n",
    "for k in tqdm(range(n_clusters), desc=\"Recomputing barycenters\"):\n",
    "    # Select all members of cluster k\n",
    "    members = joint_distributions[assignments == k]\n",
    "\n",
    "    # If the cluster is empty, reinitialize with a random sample\n",
    "    if len(members) == 0:\n",
    "        idx = rng.integers(0, joint_distributions.shape[0])\n",
    "        new_barycenters.append(joint_distributions[idx])\n",
    "        continue \n",
    "\n",
    "    # Flatten and transpose to get shape (n_bins, n_members)\n",
    "    A = members.reshape(len(members), n_bins).T\n",
    "\n",
    "    # Compute the (unregularized) Wasserstein barycenter\n",
    "    bary_flat = ot.bregman.barycenter(A, cost_matrix, reg)\n",
    "\n",
    "    # Reshape back to 2D (n_age, n_decile)\n",
    "    new_barycenters.append(bary_flat.reshape(shape))\n"
   ]
  },
  {
   "cell_type": "code",
   "execution_count": 17,
   "id": "0d9f069f",
   "metadata": {},
   "outputs": [
    {
     "data": {
      "text/plain": [
       "'\\nassignments, barycenters = wbarycenter_clustering_nd(\\n    data=joint_distributions,  # (n_iris, 7, 9)\\n    n_clusters=3,\\n    n_iter=5,\\n    reg=0.1\\n)\\n'"
      ]
     },
     "execution_count": 17,
     "metadata": {},
     "output_type": "execute_result"
    }
   ],
   "source": [
    "\"\"\"\n",
    "assignments, barycenters = wbarycenter_clustering_nd(\n",
    "    data=joint_distributions,  # (n_iris, 7, 9)\n",
    "    n_clusters=3,\n",
    "    n_iter=5,\n",
    "    reg=0.1\n",
    ")\n",
    "\"\"\"\n"
   ]
  },
  {
   "cell_type": "code",
   "execution_count": 57,
   "id": "6871413d",
   "metadata": {},
   "outputs": [
    {
     "name": "stdout",
     "output_type": "stream",
     "text": [
      "--- Barycentre 0 ---\n",
      "Shape: (7, 9)\n",
      "Min: 0.00e+00\n",
      "Max: 1.11e-01\n",
      "Sum: 1.000000\n",
      "Contains NaN: False\n",
      "Zero elements: 48 / 63\n",
      "\n",
      "--- Barycentre 1 ---\n",
      "Shape: (7, 9)\n",
      "Min: 0.00e+00\n",
      "Max: 1.11e-01\n",
      "Sum: 1.000000\n",
      "Contains NaN: False\n",
      "Zero elements: 48 / 63\n",
      "\n"
     ]
    }
   ],
   "source": [
    "for i, b in enumerate(barycenters):\n",
    "    print(f\"--- Barycentre {i} ---\")\n",
    "    print(f\"Shape: {b.shape}\")\n",
    "    print(f\"Min: {b.min():.2e}\")\n",
    "    print(f\"Max: {b.max():.2e}\")\n",
    "    print(f\"Sum: {b.sum():.6f}\")\n",
    "    print(f\"Contains NaN: {np.isnan(b).any()}\")\n",
    "    print(f\"Zero elements: {np.sum(b == 0)} / {b.size}\")\n",
    "    print()\n"
   ]
  },
  {
   "cell_type": "code",
   "execution_count": 58,
   "id": "f8f2a89f",
   "metadata": {},
   "outputs": [
    {
     "data": {
      "image/png": "[encoded data removed]",
      "text/plain": [
       "<Figure size 600x500 with 2 Axes>"
      ]
     },
     "metadata": {},
     "output_type": "display_data"
    },
    {
     "data": {
      "image/png": "[encoded data removed]",
      "text/plain": [
       "<Figure size 600x500 with 2 Axes>"
      ]
     },
     "metadata": {},
     "output_type": "display_data"
    }
   ],
   "source": [
    "for i, barycenter in enumerate(barycenters):\n",
    "    plt.figure(figsize=(6, 5))\n",
    "    plt.imshow(barycenter, cmap='viridis', aspect='auto')\n",
    "    plt.colorbar(label=\"Probability\")\n",
    "    plt.title(f\"Barycentre {i+1}\")\n",
    "    plt.xlabel(\"Décile\")\n",
    "    plt.ylabel(\"Classe d'âge\")\n",
    "    plt.tight_layout()\n",
    "    plt.show()\n"
   ]
  }
 ],
 "metadata": {
  "kernelspec": {
   "display_name": "Python 3",
   "language": "python",
   "name": "python3"
  },
  "language_info": {
   "codemirror_mode": {
    "name": "ipython",
    "version": 3
   },
   "file_extension": ".py",
   "mimetype": "text/x-python",
   "name": "python",
   "nbconvert_exporter": "python",
   "pygments_lexer": "ipython3",
   "version": "3.13.5"
  }
 },
 "nbformat": 4,
 "nbformat_minor": 5
}
