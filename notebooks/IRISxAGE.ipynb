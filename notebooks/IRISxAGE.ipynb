{
 "cells": [
  {
   "cell_type": "markdown",
   "id": "5ffabd62",
   "metadata": {},
   "source": [
    "# Clustering over INCOME and AGE across the IRIS"
   ]
  },
  {
   "cell_type": "markdown",
   "id": "eede670c",
   "metadata": {},
   "source": [
    "# Import"
   ]
  },
  {
   "cell_type": "code",
   "execution_count": null,
   "id": "fa2bc375",
   "metadata": {},
   "outputs": [
    {
     "name": "stdout",
     "output_type": "stream",
     "text": [
      "Collecting openpyxl\n",
      "  Downloading openpyxl-3.1.5-py2.py3-none-any.whl.metadata (2.5 kB)\n",
      "Collecting et-xmlfile (from openpyxl)\n",
      "  Downloading et_xmlfile-2.0.0-py3-none-any.whl.metadata (2.7 kB)\n",
      "Downloading openpyxl-3.1.5-py2.py3-none-any.whl (250 kB)\n",
      "Downloading et_xmlfile-2.0.0-py3-none-any.whl (18 kB)\n",
      "Installing collected packages: et-xmlfile, openpyxl\n",
      "\u001b[2K   \u001b[90m━━━━━━━━━━━━━━━━━━━━━━━━━━━━━━━━━━━━━━━━\u001b[0m \u001b[32m2/2\u001b[0m [openpyxl]1/2\u001b[0m [openpyxl]\n",
      "\u001b[1A\u001b[2KSuccessfully installed et-xmlfile-2.0.0 openpyxl-3.1.5\n",
      "Collecting ipywidgets\n",
      "  Downloading ipywidgets-8.1.7-py3-none-any.whl.metadata (2.4 kB)\n",
      "Requirement already satisfied: comm>=0.1.3 in /opt/python/lib/python3.13/site-packages (from ipywidgets) (0.2.2)\n",
      "Requirement already satisfied: ipython>=6.1.0 in /opt/python/lib/python3.13/site-packages (from ipywidgets) (9.4.0)\n",
      "Requirement already satisfied: traitlets>=4.3.1 in /opt/python/lib/python3.13/site-packages (from ipywidgets) (5.14.3)\n",
      "Collecting widgetsnbextension~=4.0.14 (from ipywidgets)\n",
      "  Downloading widgetsnbextension-4.0.14-py3-none-any.whl.metadata (1.6 kB)\n",
      "Collecting jupyterlab_widgets~=3.0.15 (from ipywidgets)\n",
      "  Downloading jupyterlab_widgets-3.0.15-py3-none-any.whl.metadata (20 kB)\n",
      "Requirement already satisfied: decorator in /opt/python/lib/python3.13/site-packages (from ipython>=6.1.0->ipywidgets) (5.2.1)\n",
      "Requirement already satisfied: ipython-pygments-lexers in /opt/python/lib/python3.13/site-packages (from ipython>=6.1.0->ipywidgets) (1.1.1)\n",
      "Requirement already satisfied: jedi>=0.16 in /opt/python/lib/python3.13/site-packages (from ipython>=6.1.0->ipywidgets) (0.19.2)\n",
      "Requirement already satisfied: matplotlib-inline in /opt/python/lib/python3.13/site-packages (from ipython>=6.1.0->ipywidgets) (0.1.7)\n",
      "Requirement already satisfied: pexpect>4.3 in /opt/python/lib/python3.13/site-packages (from ipython>=6.1.0->ipywidgets) (4.9.0)\n",
      "Requirement already satisfied: prompt_toolkit<3.1.0,>=3.0.41 in /opt/python/lib/python3.13/site-packages (from ipython>=6.1.0->ipywidgets) (3.0.51)\n",
      "Requirement already satisfied: pygments>=2.4.0 in /opt/python/lib/python3.13/site-packages (from ipython>=6.1.0->ipywidgets) (2.19.2)\n",
      "Requirement already satisfied: stack_data in /opt/python/lib/python3.13/site-packages (from ipython>=6.1.0->ipywidgets) (0.6.3)\n",
      "Requirement already satisfied: wcwidth in /opt/python/lib/python3.13/site-packages (from prompt_toolkit<3.1.0,>=3.0.41->ipython>=6.1.0->ipywidgets) (0.2.13)\n",
      "Requirement already satisfied: parso<0.9.0,>=0.8.4 in /opt/python/lib/python3.13/site-packages (from jedi>=0.16->ipython>=6.1.0->ipywidgets) (0.8.4)\n",
      "Requirement already satisfied: ptyprocess>=0.5 in /opt/python/lib/python3.13/site-packages (from pexpect>4.3->ipython>=6.1.0->ipywidgets) (0.7.0)\n",
      "Requirement already satisfied: executing>=1.2.0 in /opt/python/lib/python3.13/site-packages (from stack_data->ipython>=6.1.0->ipywidgets) (2.2.0)\n",
      "Requirement already satisfied: asttokens>=2.1.0 in /opt/python/lib/python3.13/site-packages (from stack_data->ipython>=6.1.0->ipywidgets) (3.0.0)\n",
      "Requirement already satisfied: pure-eval in /opt/python/lib/python3.13/site-packages (from stack_data->ipython>=6.1.0->ipywidgets) (0.2.3)\n",
      "Downloading ipywidgets-8.1.7-py3-none-any.whl (139 kB)\n",
      "Downloading jupyterlab_widgets-3.0.15-py3-none-any.whl (216 kB)\n",
      "Downloading widgetsnbextension-4.0.14-py3-none-any.whl (2.2 MB)\n",
      "\u001b[2K   \u001b[90m━━━━━━━━━━━━━━━━━━━━━━━━━━━━━━━━━━━━━━━━\u001b[0m \u001b[32m2.2/2.2 MB\u001b[0m \u001b[31m6.4 MB/s\u001b[0m eta \u001b[36m0:00:00\u001b[0mta \u001b[36m0:00:01\u001b[0m\n",
      "\u001b[?25hInstalling collected packages: widgetsnbextension, jupyterlab_widgets, ipywidgets\n",
      "\u001b[2K   \u001b[90m━━━━━━━━━━━━━━━━━━━━━━━━━━━━━━━━━━━━━━━━\u001b[0m \u001b[32m3/3\u001b[0m [ipywidgets]3\u001b[0m [ipywidgets]\n",
      "\u001b[1A\u001b[2KSuccessfully installed ipywidgets-8.1.7 jupyterlab_widgets-3.0.15 widgetsnbextension-4.0.14\n",
      "Collecting pot\n",
      "  Downloading pot-0.9.5.tar.gz (440 kB)\n",
      "  Installing build dependencies ... \u001b[?25ldone\n",
      "\u001b[?25h  Getting requirements to build wheel ... \u001b[?25ldone\n",
      "\u001b[?25h  Preparing metadata (pyproject.toml) ... \u001b[?25ldone\n",
      "\u001b[?25hRequirement already satisfied: numpy>=1.16 in /opt/python/lib/python3.13/site-packages (from pot) (2.3.1)\n",
      "Requirement already satisfied: scipy>=1.6 in /opt/python/lib/python3.13/site-packages (from pot) (1.16.0)\n",
      "Building wheels for collected packages: pot\n",
      "  Building wheel for pot (pyproject.toml) ... \u001b[?25ldone\n",
      "\u001b[?25h  Created wheel for pot: filename=pot-0.9.5-cp313-cp313-linux_x86_64.whl size=786177 sha256=0846511afc1a84d0a4f860491b2681dea1a45f7322f538e193ae5b3e7123cad1\n",
      "  Stored in directory: /home/onyxia/.cache/pip/wheels/44/fb/a4/23569bf6fcc9769e136e9ca6eb1821eda44f81c4c809083c00\n",
      "Successfully built pot\n",
      "Installing collected packages: pot\n",
      "Successfully installed pot-0.9.5\n"
     ]
    }
   ],
   "source": [
    "!pip install openpyxl # for pd.read_excel\n",
    "!pip install ipywidgets # for tqdm.notebook\n",
    "!pip install pot\n"
   ]
  },
  {
   "cell_type": "code",
   "execution_count": null,
   "id": "ee013e46",
   "metadata": {},
   "outputs": [],
   "source": [
    "import numpy as np\n",
    "import ot    # pip install pot\n",
    "import pandas as pd\n",
    "import matplotlib.pyplot as plt\n",
    "\n",
    "from tqdm.notebook import tqdm\n",
    "import geopandas as gpd\n",
    "\n",
    "from sklearn.decomposition import PCA\n",
    "from sklearn.cluster import KMeans\n",
    "\n",
    "import sys\n",
    "sys.path.append(\"../src\")\n",
    "from clustering_methods import bary_WKMeans, dist_WKMeans\n",
    "from utils import reconstruct_joint_distribution_ot, computeDistanceMatrix\n"
   ]
  },
  {
   "cell_type": "markdown",
   "id": "256a2d6e",
   "metadata": {},
   "source": [
    "### Income Deciles per IRIS"
   ]
  },
  {
   "cell_type": "code",
   "execution_count": null,
   "id": "7e9db764",
   "metadata": {},
   "outputs": [],
   "source": [
    "# Load the file\n",
    "df_income_temp = pd.read_csv('../data/BASE_TD_FILO_DEC_IRIS_2020.csv', sep=';', decimal=',')\n",
    "\n",
    "\n",
    "# Decile columns\n",
    "decile_cols = ['DEC_D120', 'DEC_D220', 'DEC_D320', 'DEC_D420', 'DEC_MED20', 'DEC_D620', 'DEC_D720', 'DEC_D820', 'DEC_D920']\n",
    "\n",
    "# Convert from object to float64\n",
    "df_income_temp[decile_cols] = df_income_temp[decile_cols].apply(pd.to_numeric, errors='coerce')\n",
    "\n",
    "# Remove the 1319 rows with missing deciles\n",
    "df_income = df_income_temp.dropna(subset=decile_cols).reset_index(drop=True)\n",
    "\n",
    "distributions = df_income[decile_cols].to_numpy()\n",
    "\n",
    "# Useful \n",
    "colors = ['cornflowerblue', 'forestgreen', 'red', 'deeppink', 'orange', 'brown', 'purple']\n",
    "age_groups = [\"0_17\", \"18_29\", \"30_39\", \"40_49\", \"50_64\", \"65_74\", \"75P\"]\n",
    "\n",
    "\n",
    "n_distributions = distributions.shape[0]"
   ]
  },
  {
   "cell_type": "markdown",
   "id": "62ccd981",
   "metadata": {},
   "source": [
    "### Average Income per age"
   ]
  },
  {
   "cell_type": "code",
   "execution_count": null,
   "id": "2d0ab763",
   "metadata": {},
   "outputs": [],
   "source": [
    "# Load the file\n",
    "df_income_age = pd.read_excel(\"../data/reve-niv-vie-individu-age-med.xlsx\", skiprows=3)\n",
    "\n",
    "# Keep only the 2020 column\n",
    "df_income_age = df_income_age[[\"Tranche d’âge\", '2020³ ⁴']]\n",
    "\n",
    "# Rename the column\n",
    "df_income_age = df_income_age.rename(columns={'2020³ ⁴': \"MEDIAN_INCOME\"})\n",
    "\n",
    "# Rename the age groups\n",
    "renaming_dict = {\n",
    "    \"Moins de 18 ans\": \"0_17\",\n",
    "    \"De 18 à 29 ans\": \"18_29\",\n",
    "    \"De 30 à 39 ans\": \"30_39\",\n",
    "    \"De 40 à 49 ans\": \"40_49\",\n",
    "    \"De 50 à 64 ans\": \"50_64\",\n",
    "    \"De 65 à 74 ans\": \"65_74\",\n",
    "    \"75 ans et plus\": \"75P\"\n",
    "}\n",
    "df_income_age[\"AGE_GROUP\"] = df_income_age[\"Tranche d’âge\"].replace(renaming_dict)\n",
    "\n",
    "# Get rid of the metadata lines\n",
    "df_income_age = df_income_age[df_income_age['AGE_GROUP'].isin(age_groups)].reset_index(drop=True)\n",
    "\n",
    "# Keep only the relevant columns\n",
    "df_income_age = df_income_age[[\"AGE_GROUP\", \"MEDIAN_INCOME\"]]\n"
   ]
  },
  {
   "cell_type": "code",
   "execution_count": null,
   "id": "9cbf052b",
   "metadata": {},
   "outputs": [
    {
     "data": {
      "text/html": [
       "<div>\n",
       "<style scoped>\n",
       "    .dataframe tbody tr th:only-of-type {\n",
       "        vertical-align: middle;\n",
       "    }\n",
       "\n",
       "    .dataframe tbody tr th {\n",
       "        vertical-align: top;\n",
       "    }\n",
       "\n",
       "    .dataframe thead th {\n",
       "        text-align: right;\n",
       "    }\n",
       "</style>\n",
       "<table border=\"1\" class=\"dataframe\">\n",
       "  <thead>\n",
       "    <tr style=\"text-align: right;\">\n",
       "      <th></th>\n",
       "      <th>IRIS</th>\n",
       "      <th>DEC_PIMP20</th>\n",
       "      <th>DEC_TP6020</th>\n",
       "      <th>DEC_Q120</th>\n",
       "      <th>DEC_MED20</th>\n",
       "      <th>DEC_Q320</th>\n",
       "      <th>DEC_EQ20</th>\n",
       "      <th>DEC_D120</th>\n",
       "      <th>DEC_D220</th>\n",
       "      <th>DEC_D320</th>\n",
       "      <th>...</th>\n",
       "      <th>DEC_RD20</th>\n",
       "      <th>DEC_S80S2020</th>\n",
       "      <th>DEC_GI20</th>\n",
       "      <th>DEC_PACT20</th>\n",
       "      <th>DEC_PTSA20</th>\n",
       "      <th>DEC_PCHO20</th>\n",
       "      <th>DEC_PBEN20</th>\n",
       "      <th>DEC_PPEN20</th>\n",
       "      <th>DEC_PAUT20</th>\n",
       "      <th>DEC_NOTE20</th>\n",
       "    </tr>\n",
       "  </thead>\n",
       "  <tbody>\n",
       "    <tr>\n",
       "      <th>0</th>\n",
       "      <td>010040101</td>\n",
       "      <td>41,8</td>\n",
       "      <td>32,7</td>\n",
       "      <td>10940</td>\n",
       "      <td>18240.0</td>\n",
       "      <td>24950</td>\n",
       "      <td>0,77</td>\n",
       "      <td>6220.0</td>\n",
       "      <td>9630.0</td>\n",
       "      <td>12440.0</td>\n",
       "      <td>...</td>\n",
       "      <td>5,3</td>\n",
       "      <td>6,8</td>\n",
       "      <td>0,328</td>\n",
       "      <td>68,0</td>\n",
       "      <td>61,1</td>\n",
       "      <td>4,0</td>\n",
       "      <td>2,9</td>\n",
       "      <td>28,8</td>\n",
       "      <td>3,2</td>\n",
       "      <td>0</td>\n",
       "    </tr>\n",
       "    <tr>\n",
       "      <th>1</th>\n",
       "      <td>010040102</td>\n",
       "      <td>39,0</td>\n",
       "      <td>41,1</td>\n",
       "      <td>9010</td>\n",
       "      <td>15860.0</td>\n",
       "      <td>23660</td>\n",
       "      <td>0,92</td>\n",
       "      <td>4030.0</td>\n",
       "      <td>7750.0</td>\n",
       "      <td>10150.0</td>\n",
       "      <td>...</td>\n",
       "      <td>7,8</td>\n",
       "      <td>9,7</td>\n",
       "      <td>0,370</td>\n",
       "      <td>70,4</td>\n",
       "      <td>63,2</td>\n",
       "      <td>4,8</td>\n",
       "      <td>2,4</td>\n",
       "      <td>26,3</td>\n",
       "      <td>3,3</td>\n",
       "      <td>0</td>\n",
       "    </tr>\n",
       "    <tr>\n",
       "      <th>2</th>\n",
       "      <td>010040201</td>\n",
       "      <td>45,6</td>\n",
       "      <td>29,2</td>\n",
       "      <td>11700</td>\n",
       "      <td>19130.0</td>\n",
       "      <td>27000</td>\n",
       "      <td>0,80</td>\n",
       "      <td>6150.0</td>\n",
       "      <td>10030.0</td>\n",
       "      <td>13260.0</td>\n",
       "      <td>...</td>\n",
       "      <td>5,7</td>\n",
       "      <td>7,6</td>\n",
       "      <td>0,342</td>\n",
       "      <td>68,9</td>\n",
       "      <td>61,5</td>\n",
       "      <td>3,9</td>\n",
       "      <td>3,5</td>\n",
       "      <td>27,9</td>\n",
       "      <td>3,2</td>\n",
       "      <td>0</td>\n",
       "    </tr>\n",
       "    <tr>\n",
       "      <th>3</th>\n",
       "      <td>010040202</td>\n",
       "      <td>59,8</td>\n",
       "      <td>14,0</td>\n",
       "      <td>17500</td>\n",
       "      <td>24790.0</td>\n",
       "      <td>33710</td>\n",
       "      <td>0,65</td>\n",
       "      <td>10820.0</td>\n",
       "      <td>15850.0</td>\n",
       "      <td>19050.0</td>\n",
       "      <td>...</td>\n",
       "      <td>4,1</td>\n",
       "      <td>5,5</td>\n",
       "      <td>0,317</td>\n",
       "      <td>69,9</td>\n",
       "      <td>63,7</td>\n",
       "      <td>2,7</td>\n",
       "      <td>3,5</td>\n",
       "      <td>23,4</td>\n",
       "      <td>6,7</td>\n",
       "      <td>0</td>\n",
       "    </tr>\n",
       "    <tr>\n",
       "      <th>4</th>\n",
       "      <td>010330102</td>\n",
       "      <td>39,1</td>\n",
       "      <td>30,6</td>\n",
       "      <td>11100</td>\n",
       "      <td>19090.0</td>\n",
       "      <td>29590</td>\n",
       "      <td>0,97</td>\n",
       "      <td>4930.0</td>\n",
       "      <td>9220.0</td>\n",
       "      <td>12910.0</td>\n",
       "      <td>...</td>\n",
       "      <td>8,6</td>\n",
       "      <td>10,7</td>\n",
       "      <td>0,391</td>\n",
       "      <td>73,2</td>\n",
       "      <td>66,6</td>\n",
       "      <td>5,0</td>\n",
       "      <td>1,6</td>\n",
       "      <td>23,8</td>\n",
       "      <td>3,0</td>\n",
       "      <td>0</td>\n",
       "    </tr>\n",
       "  </tbody>\n",
       "</table>\n",
       "<p>5 rows × 25 columns</p>\n",
       "</div>"
      ],
      "text/plain": [
       "        IRIS DEC_PIMP20 DEC_TP6020 DEC_Q120  DEC_MED20 DEC_Q320 DEC_EQ20  \\\n",
       "0  010040101       41,8       32,7    10940    18240.0    24950     0,77   \n",
       "1  010040102       39,0       41,1     9010    15860.0    23660     0,92   \n",
       "2  010040201       45,6       29,2    11700    19130.0    27000     0,80   \n",
       "3  010040202       59,8       14,0    17500    24790.0    33710     0,65   \n",
       "4  010330102       39,1       30,6    11100    19090.0    29590     0,97   \n",
       "\n",
       "   DEC_D120  DEC_D220  DEC_D320  ...  DEC_RD20  DEC_S80S2020  DEC_GI20  \\\n",
       "0    6220.0    9630.0   12440.0  ...       5,3           6,8     0,328   \n",
       "1    4030.0    7750.0   10150.0  ...       7,8           9,7     0,370   \n",
       "2    6150.0   10030.0   13260.0  ...       5,7           7,6     0,342   \n",
       "3   10820.0   15850.0   19050.0  ...       4,1           5,5     0,317   \n",
       "4    4930.0    9220.0   12910.0  ...       8,6          10,7     0,391   \n",
       "\n",
       "   DEC_PACT20  DEC_PTSA20 DEC_PCHO20 DEC_PBEN20 DEC_PPEN20 DEC_PAUT20  \\\n",
       "0        68,0        61,1        4,0        2,9       28,8        3,2   \n",
       "1        70,4        63,2        4,8        2,4       26,3        3,3   \n",
       "2        68,9        61,5        3,9        3,5       27,9        3,2   \n",
       "3        69,9        63,7        2,7        3,5       23,4        6,7   \n",
       "4        73,2        66,6        5,0        1,6       23,8        3,0   \n",
       "\n",
       "  DEC_NOTE20  \n",
       "0          0  \n",
       "1          0  \n",
       "2          0  \n",
       "3          0  \n",
       "4          0  \n",
       "\n",
       "[5 rows x 25 columns]"
      ]
     },
     "execution_count": 5,
     "metadata": {},
     "output_type": "execute_result"
    }
   ],
   "source": [
    "df_income.head()"
   ]
  },
  {
   "cell_type": "markdown",
   "id": "a0674967",
   "metadata": {},
   "source": [
    "### Population per age "
   ]
  },
  {
   "cell_type": "markdown",
   "id": "e2133701",
   "metadata": {},
   "source": [
    "To apply our algorithms using income by age group, we need to estimate the population in each corresponding age range for every IRIS. However, the INSEE population dataset provides age groupings that do not match exactly with those used in the national income-by-age statistics. To reconcile the two, we reconstruct the target age groups — (0–17), (18–29), (30–39), (40–49), (50–64), (65–74), and 75+ — by combining and subtracting available groups from the population dataset. In some cases, we rely on approximations (e.g., estimating the 45–54 group to split 40–49 and 50–64) to ensure consistency with the income data structure. This harmonization step is essential to later compute joint distributions of age and income at the IRIS level."
   ]
  },
  {
   "cell_type": "code",
   "execution_count": null,
   "id": "b8373101",
   "metadata": {},
   "outputs": [],
   "source": [
    "# Load the Excel sheet\n",
    "df_pop_temp = pd.read_excel(\"../data/base-ic-evol-struct-pop-2020.xlsx\", sheet_name=0, skiprows=5)\n",
    "\n",
    "# Directly accessible age groups\n",
    "df_pop_temp[\"AGE_0_17\"] = df_pop_temp[\"P20_POP0002\"] + df_pop_temp[\"P20_POP0305\"] + df_pop_temp[\"P20_POP0610\"] + df_pop_temp[\"P20_POP1117\"]\n",
    "df_pop_temp[\"AGE_18_29\"] = df_pop_temp[\"P20_POP0014\"] + df_pop_temp[\"P20_POP1529\"] - df_pop_temp[\"AGE_0_17\"]\n",
    "df_pop_temp[\"AGE_30_39\"] = df_pop_temp[\"P20_POP2539\"] + df_pop_temp[\"P20_POP1824\"] - df_pop_temp[\"AGE_18_29\"]\n",
    "df_pop_temp[\"AGE_65_74\"] = df_pop_temp[\"P20_POP65P\"] - df_pop_temp[\"P20_POP75P\"]\n",
    "# No processing needed for 75+ age group\n",
    "\n",
    "# Approximation of the 45–54 group to help deduce 40–49 and 50–64\n",
    "df_pop_temp[\"AGE_45_54\"] = (\n",
    "    df_pop_temp[\"AGE_0_17\"] + df_pop_temp[\"P20_POP1824\"] + df_pop_temp[\"P20_POP2539\"] + df_pop_temp[\"P20_POP4054\"]\n",
    "    - (df_pop_temp[\"P20_POP0014\"] + df_pop_temp[\"P20_POP1529\"] + df_pop_temp[\"P20_POP3044\"])\n",
    ")\n",
    "\n",
    "# Approximate 40–49 from 40–54 and part of 45–54\n",
    "df_pop_temp[\"AGE_40_49\"] = df_pop_temp[\"P20_POP4054\"] - 0.5 * df_pop_temp[\"AGE_45_54\"]\n",
    "\n",
    "# Approximate 50–64 from 55–64 and part of 45–54\n",
    "df_pop_temp[\"AGE_50_64\"] = df_pop_temp[\"P20_POP5564\"] + 0.5 * df_pop_temp[\"AGE_45_54\"]\n",
    "\n",
    "# Renaming for clarity\n",
    "df_pop_temp[\"0_17\"] = df_pop_temp[\"AGE_0_17\"]\n",
    "df_pop_temp[\"18_29\"] = df_pop_temp[\"AGE_18_29\"]\n",
    "df_pop_temp[\"30_39\"] = df_pop_temp[\"AGE_30_39\"]\n",
    "df_pop_temp[\"40_49\"] = df_pop_temp[\"AGE_40_49\"]\n",
    "df_pop_temp[\"50_64\"] = df_pop_temp[\"AGE_50_64\"]\n",
    "df_pop_temp[\"65_74\"] = df_pop_temp[\"AGE_65_74\"]\n",
    "df_pop_temp[\"75P\"] = df_pop_temp[\"P20_POP75P\"]\n",
    "\n",
    "# Final columns to keep\n",
    "final_cols = [\"IRIS\", \"REG\", \"DEP\", \"LIBCOM\", \"LIBIRIS\"] + age_groups\n",
    "\n",
    "df_pop = df_pop_temp[final_cols]\n"
   ]
  },
  {
   "cell_type": "markdown",
   "id": "6136029b",
   "metadata": {},
   "source": [
    "## Joint Age-Income Distributions"
   ]
  },
  {
   "cell_type": "markdown",
   "id": "4407567c",
   "metadata": {},
   "source": [
    "### Reconstructing the joint age–income distribution"
   ]
  },
  {
   "cell_type": "markdown",
   "id": "97469093",
   "metadata": {},
   "source": [
    "For each IRIS, we reconstruct a joint probability distribution π over age groups and income levels. The marginal distributions are:\n",
    "* the age distribution of the IRIS (based on population counts per age group), and\n",
    "* a uniform distribution over the income deciles observed in the IRIS.\n",
    "\n",
    "We use optimal transport to find the coupling π that best aligns the income levels with the national average income for each age group, minimizing the cost:\n",
    "\n",
    "$$\n",
    "C_{i,j} = |R_j - m(T_i)|\n",
    "$$\n",
    "\n",
    "where $R_j$ is the j-th income level (decile), and $m(T_i)$ is the national average income for age group $T_i$.\n",
    "\n",
    "The result is a joint distribution π (a matrix), interpreted as the most plausible alignment between age and income in the IRIS, under minimal deviation from national trends."
   ]
  },
  {
   "cell_type": "markdown",
   "id": "15c1e39e",
   "metadata": {},
   "source": [
    "### Computation for Each IRIS"
   ]
  },
  {
   "cell_type": "code",
   "execution_count": null,
   "id": "0bcd8f52",
   "metadata": {},
   "outputs": [
    {
     "data": {
      "application/vnd.jupyter.widget-view+json": {
       "model_id": "561f76a2346946e2bc88f5ad6993660a",
       "version_major": 2,
       "version_minor": 0
      },
      "text/plain": [
       "  0%|          | 0/14703 [00:00<?, ?it/s]"
      ]
     },
     "metadata": {},
     "output_type": "display_data"
    },
    {
     "ename": "KeyboardInterrupt",
     "evalue": "",
     "output_type": "error",
     "traceback": [
      "\u001b[31m---------------------------------------------------------------------------\u001b[39m",
      "\u001b[31mKeyboardInterrupt\u001b[39m                         Traceback (most recent call last)",
      "\u001b[36mCell\u001b[39m\u001b[36m \u001b[39m\u001b[32mIn[7]\u001b[39m\u001b[32m, line 14\u001b[39m\n\u001b[32m     12\u001b[39m \u001b[38;5;28;01mfor\u001b[39;00m iris \u001b[38;5;129;01min\u001b[39;00m tqdm(common_iris):\n\u001b[32m     13\u001b[39m     row_income = df_income[df_income[\u001b[33m\"\u001b[39m\u001b[33mIRIS\u001b[39m\u001b[33m\"\u001b[39m] == iris]\n\u001b[32m---> \u001b[39m\u001b[32m14\u001b[39m     row_pop = df_pop[\u001b[43mdf_pop\u001b[49m\u001b[43m[\u001b[49m\u001b[33;43m\"\u001b[39;49m\u001b[33;43mIRIS\u001b[39;49m\u001b[33;43m\"\u001b[39;49m\u001b[43m]\u001b[49m\u001b[43m \u001b[49m\u001b[43m==\u001b[49m\u001b[43m \u001b[49m\u001b[43miris\u001b[49m]\n\u001b[32m     16\u001b[39m     \u001b[38;5;28;01mif\u001b[39;00m row_income.empty \u001b[38;5;129;01mor\u001b[39;00m row_pop.empty:\n\u001b[32m     17\u001b[39m         \u001b[38;5;28;01mcontinue\u001b[39;00m  \u001b[38;5;66;03m# Skip if data is missing for this IRIS\u001b[39;00m\n",
      "\u001b[36mFile \u001b[39m\u001b[32m/opt/python/lib/python3.13/site-packages/pandas/core/ops/common.py:76\u001b[39m, in \u001b[36m_unpack_zerodim_and_defer.<locals>.new_method\u001b[39m\u001b[34m(self, other)\u001b[39m\n\u001b[32m     72\u001b[39m             \u001b[38;5;28;01mreturn\u001b[39;00m \u001b[38;5;28mNotImplemented\u001b[39m\n\u001b[32m     74\u001b[39m other = item_from_zerodim(other)\n\u001b[32m---> \u001b[39m\u001b[32m76\u001b[39m \u001b[38;5;28;01mreturn\u001b[39;00m \u001b[43mmethod\u001b[49m\u001b[43m(\u001b[49m\u001b[38;5;28;43mself\u001b[39;49m\u001b[43m,\u001b[49m\u001b[43m \u001b[49m\u001b[43mother\u001b[49m\u001b[43m)\u001b[49m\n",
      "\u001b[36mFile \u001b[39m\u001b[32m/opt/python/lib/python3.13/site-packages/pandas/core/arraylike.py:40\u001b[39m, in \u001b[36mOpsMixin.__eq__\u001b[39m\u001b[34m(self, other)\u001b[39m\n\u001b[32m     38\u001b[39m \u001b[38;5;129m@unpack_zerodim_and_defer\u001b[39m(\u001b[33m\"\u001b[39m\u001b[33m__eq__\u001b[39m\u001b[33m\"\u001b[39m)\n\u001b[32m     39\u001b[39m \u001b[38;5;28;01mdef\u001b[39;00m\u001b[38;5;250m \u001b[39m\u001b[34m__eq__\u001b[39m(\u001b[38;5;28mself\u001b[39m, other):\n\u001b[32m---> \u001b[39m\u001b[32m40\u001b[39m     \u001b[38;5;28;01mreturn\u001b[39;00m \u001b[38;5;28;43mself\u001b[39;49m\u001b[43m.\u001b[49m\u001b[43m_cmp_method\u001b[49m\u001b[43m(\u001b[49m\u001b[43mother\u001b[49m\u001b[43m,\u001b[49m\u001b[43m \u001b[49m\u001b[43moperator\u001b[49m\u001b[43m.\u001b[49m\u001b[43meq\u001b[49m\u001b[43m)\u001b[49m\n",
      "\u001b[36mFile \u001b[39m\u001b[32m/opt/python/lib/python3.13/site-packages/pandas/core/series.py:6130\u001b[39m, in \u001b[36mSeries._cmp_method\u001b[39m\u001b[34m(self, other, op)\u001b[39m\n\u001b[32m   6127\u001b[39m lvalues = \u001b[38;5;28mself\u001b[39m._values\n\u001b[32m   6128\u001b[39m rvalues = extract_array(other, extract_numpy=\u001b[38;5;28;01mTrue\u001b[39;00m, extract_range=\u001b[38;5;28;01mTrue\u001b[39;00m)\n\u001b[32m-> \u001b[39m\u001b[32m6130\u001b[39m res_values = \u001b[43mops\u001b[49m\u001b[43m.\u001b[49m\u001b[43mcomparison_op\u001b[49m\u001b[43m(\u001b[49m\u001b[43mlvalues\u001b[49m\u001b[43m,\u001b[49m\u001b[43m \u001b[49m\u001b[43mrvalues\u001b[49m\u001b[43m,\u001b[49m\u001b[43m \u001b[49m\u001b[43mop\u001b[49m\u001b[43m)\u001b[49m\n\u001b[32m   6132\u001b[39m \u001b[38;5;28;01mreturn\u001b[39;00m \u001b[38;5;28mself\u001b[39m._construct_result(res_values, name=res_name)\n",
      "\u001b[36mFile \u001b[39m\u001b[32m/opt/python/lib/python3.13/site-packages/pandas/core/ops/array_ops.py:344\u001b[39m, in \u001b[36mcomparison_op\u001b[39m\u001b[34m(left, right, op)\u001b[39m\n\u001b[32m    341\u001b[39m     \u001b[38;5;28;01mreturn\u001b[39;00m invalid_comparison(lvalues, rvalues, op)\n\u001b[32m    343\u001b[39m \u001b[38;5;28;01melif\u001b[39;00m lvalues.dtype == \u001b[38;5;28mobject\u001b[39m \u001b[38;5;129;01mor\u001b[39;00m \u001b[38;5;28misinstance\u001b[39m(rvalues, \u001b[38;5;28mstr\u001b[39m):\n\u001b[32m--> \u001b[39m\u001b[32m344\u001b[39m     res_values = \u001b[43mcomp_method_OBJECT_ARRAY\u001b[49m\u001b[43m(\u001b[49m\u001b[43mop\u001b[49m\u001b[43m,\u001b[49m\u001b[43m \u001b[49m\u001b[43mlvalues\u001b[49m\u001b[43m,\u001b[49m\u001b[43m \u001b[49m\u001b[43mrvalues\u001b[49m\u001b[43m)\u001b[49m\n\u001b[32m    346\u001b[39m \u001b[38;5;28;01melse\u001b[39;00m:\n\u001b[32m    347\u001b[39m     res_values = _na_arithmetic_op(lvalues, rvalues, op, is_cmp=\u001b[38;5;28;01mTrue\u001b[39;00m)\n",
      "\u001b[36mFile \u001b[39m\u001b[32m/opt/python/lib/python3.13/site-packages/pandas/core/ops/array_ops.py:129\u001b[39m, in \u001b[36mcomp_method_OBJECT_ARRAY\u001b[39m\u001b[34m(op, x, y)\u001b[39m\n\u001b[32m    127\u001b[39m     result = libops.vec_compare(x.ravel(), y.ravel(), op)\n\u001b[32m    128\u001b[39m \u001b[38;5;28;01melse\u001b[39;00m:\n\u001b[32m--> \u001b[39m\u001b[32m129\u001b[39m     result = \u001b[43mlibops\u001b[49m\u001b[43m.\u001b[49m\u001b[43mscalar_compare\u001b[49m\u001b[43m(\u001b[49m\u001b[43mx\u001b[49m\u001b[43m.\u001b[49m\u001b[43mravel\u001b[49m\u001b[43m(\u001b[49m\u001b[43m)\u001b[49m\u001b[43m,\u001b[49m\u001b[43m \u001b[49m\u001b[43my\u001b[49m\u001b[43m,\u001b[49m\u001b[43m \u001b[49m\u001b[43mop\u001b[49m\u001b[43m)\u001b[49m\n\u001b[32m    130\u001b[39m \u001b[38;5;28;01mreturn\u001b[39;00m result.reshape(x.shape)\n",
      "\u001b[31mKeyboardInterrupt\u001b[39m: "
     ]
    }
   ],
   "source": [
    "# Compute national median income per age group\n",
    "age_income_medians = df_income_age.set_index(\"AGE_GROUP\").loc[age_groups, \"MEDIAN_INCOME\"].to_numpy()\n",
    "\n",
    "# Find common IRIS identifiers present in both datasets\n",
    "common_iris = sorted(set(df_income[\"IRIS\"]).intersection(df_pop[\"IRIS\"]))\n",
    "\n",
    "# Compute joint distributions\n",
    "joint_distributions = []\n",
    "joint_supports = []\n",
    "iris_ids = []\n",
    "\n",
    "for iris in tqdm(common_iris):\n",
    "    row_income = df_income[df_income[\"IRIS\"] == iris]\n",
    "    row_pop = df_pop[df_pop[\"IRIS\"] == iris]\n",
    "\n",
    "    if row_income.empty or row_pop.empty:\n",
    "        continue  # Skip if data is missing for this IRIS\n",
    "\n",
    "    # Age group weights (normalized)\n",
    "    age_counts = row_pop.iloc[0][age_groups].to_numpy()\n",
    "    age_weights = age_counts / age_counts.sum()\n",
    "\n",
    "    # Income decile values\n",
    "    income_deciles = row_income.iloc[0][decile_cols].to_numpy()\n",
    "\n",
    "    # Compute the joint distribution π using optimal transport\n",
    "    pi, supp= reconstruct_joint_distribution_ot(age_weights, income_deciles, age_income_medians)\n",
    "\n",
    "    joint_supports.append(supp)\n",
    "    joint_distributions.append(pi)\n",
    "    iris_ids.append(iris)\n",
    "\n",
    "# Normalisation des supports pour équilibrer les échelles âge/revenu\n",
    "def normalize_supports(supports):\n",
    "    all_supports = np.vstack(supports)\n",
    "    min_vals = all_supports.min(axis=0)\n",
    "    max_vals = all_supports.max(axis=0)\n",
    "    normalized = [(s - min_vals) / (max_vals - min_vals) for s in supports]\n",
    "    return normalized, min_vals, max_vals\n",
    "\n",
    "joint_supports, support_min, support_max = normalize_supports(joint_supports)\n",
    "\n",
    "\n",
    "# Stack the joint distributions into a 3D array: (n_iris, n_age_groups, n_income_deciles)\n",
    "joint_supports = np.stack(joint_supports)\n",
    "joint_distributions = np.stack(joint_distributions)\n"
   ]
  },
  {
   "cell_type": "code",
   "execution_count": null,
   "id": "bd20c98d",
   "metadata": {},
   "outputs": [
    {
     "name": "stdout",
     "output_type": "stream",
     "text": [
      "[6.0000e+00 3.5211e+05]\n"
     ]
    }
   ],
   "source": [
    "print(support_max)"
   ]
  },
  {
   "cell_type": "code",
   "execution_count": null,
   "id": "fa1c7ff3",
   "metadata": {},
   "outputs": [
    {
     "data": {
      "image/png": "[encoded data removed]",
      "text/plain": [
       "<Figure size 1500x400 with 4 Axes>"
      ]
     },
     "metadata": {},
     "output_type": "display_data"
    }
   ],
   "source": [
    "# Exemple avec 3 lois tirées aléatoirement\n",
    "rng = np.random.default_rng(42)\n",
    "indices = rng.choice(len(joint_distributions), size=3, replace=False)\n",
    "\n",
    "plt.figure(figsize=(15, 4))\n",
    "\n",
    "for i in range(3):\n",
    "    dist = joint_distributions[indices[i]]\n",
    "    supp = joint_supports[indices[i]]\n",
    "    age_classes = supp[:, 0]\n",
    "    income_deciles = supp[:, 1]\n",
    "\n",
    "    plt.subplot(1, 3, i + 1)\n",
    "    scatter = plt.scatter(\n",
    "        income_deciles, age_classes,\n",
    "        c=dist,\n",
    "        cmap='viridis',\n",
    "        s=300 * dist,  # taille relative au poids\n",
    "        edgecolor='k'\n",
    "    )\n",
    "    plt.title(f\"Sample {indices[i]}\")\n",
    "    plt.xlabel(\"Decile de revenu\")\n",
    "    plt.ylabel(\"Classe d'âge\")\n",
    "    plt.xlim(0, 1)\n",
    "    plt.ylim(0, 1)\n",
    "    plt.grid(True)\n",
    "\n",
    "plt.tight_layout()\n",
    "cbar = plt.colorbar(scatter, ax=plt.gcf().axes, shrink=0.95)\n",
    "cbar.set_label(\"Probabilité\")\n",
    "plt.show()\n"
   ]
  },
  {
   "cell_type": "markdown",
   "id": "2e514f4a",
   "metadata": {},
   "source": [
    "# Clustering"
   ]
  },
  {
   "cell_type": "markdown",
   "id": "20b904e3",
   "metadata": {},
   "source": [
    "## Introduction to Wasserstein K-means"
   ]
  },
  {
   "cell_type": "markdown",
   "id": "d6079ec7",
   "metadata": {},
   "source": [
    "### Distance in the Wasserstein space\n",
    "\n",
    "We will now try to cluster our IRIS based on the joint-distributions we computed earlier.\n",
    "To apply a K-means algorithm to this data, we must first define a meaningful distance between observations.\n",
    "\n",
    "We choose the Earth Mover's Distance (EMD), which corresponds to the Wasserstein distance of order 1. It arises from the Kantorovich optimal transport problem:\n",
    "\n",
    "$$\n",
    "\\min_{\\pi\\in\\mathbb R_+^{n\\times m}}\n",
    "\\sum_{i=1}^n\\sum_{j=1}^m \\pi_{ij}\\,M_{ij}\n",
    "\\quad\\text{such that}\\quad \n",
    "\\sum_j \\pi_{ij} = a_i,\\quad\n",
    "\\sum_i \\pi_{ij} = b_j.\n",
    "$$\n",
    "\n",
    "Here:\n",
    "\n",
    "* The constraint $\\sum_j \\pi_{ij}=a_i$ ensures that the **first marginal** of $\\pi$ is $a$.\n",
    "* The constraint $\\sum_i \\pi_{ij}=b_j$ ensures that the **second marginal** of $\\pi$ is $b$.\n",
    "* The result of the optimization, called the **cost**, represents the **minimal total cost** of transporting mass from $a$ to $b$ under cost matrix $M$.\n",
    "\n",
    "This distance is easily computable using the [POT library](https://pythonot.github.io/) (Python Optimal Transport), via the function:\n",
    "\n",
    "```python\n",
    "cost = ot.emd2(a, b, M)\n",
    "```\n",
    "\n",
    "Where:\n",
    "\n",
    "* **`a`** is a probability vector of size $n$: $a_i \\geq 0$, $\\sum_i a_i = 1$. It represents the **first distribution**, supported on $n$ points.\n",
    "* **`b`** is a probability vector of size $m$: $b_j \\geq 0$, $\\sum_j b_j = 1$. It represents the **second distribution**, supported on $m$ points.\n",
    "* **`M`** is a cost matrix of shape $n \\times m$, where each element $M_{ij}$ represents the **cost of transporting one unit of mass** from location $i$ to location $j$."
   ]
  },
  {
   "cell_type": "markdown",
   "id": "cfe7c4ff",
   "metadata": {},
   "source": [
    "### Quick addition for the cost matrix\n",
    "\n",
    "All of our joint_distributions share a common discrete structure (7 age groups × 9 income deciles), because we index revenue not by its actual value but by its ordinal decile position. Concretely, each “bin” corresponds to a pair $(\\text{age\\_idx}, \\text{decile\\_idx})$, forming a fixed grid.\n",
    "\n",
    "Because this grid is identical for every IRIS, we can use a single cost matrix for all comparisons:\n",
    "\n",
    "```python\n",
    "coords = [(i, j) for i in range(7) for j in range(9)]\n",
    "cost_matrix = ot.dist(coords, coords)\n",
    "```\n",
    "\n",
    "This matrix defines the ground cost as the Euclidean distance between bins in the integer index space. This shared metric lets us compute meaningful Wasserstein distances across different IRIS efficiently, without needing to recompute it for each pair. As noted in optimal transport theory, the cost matrix is independent of the actual distributions because it only depends on how we define the “bins” themselves."
   ]
  },
  {
   "cell_type": "markdown",
   "id": "b4518284",
   "metadata": {},
   "source": [
    "## Clustering based on barycenters (B-WKM)"
   ]
  },
  {
   "cell_type": "markdown",
   "id": "7f3d043d",
   "metadata": {},
   "source": [
    "This **centroid-based Wasserstein K-means** extends the classical Lloyd’s K-means to the space of probability measures by replacing Euclidean centroids and norms with **Wasserstein barycenters** and $W_2^2$ distances. As outlined by Domazakis et al. (2019) and formalized by Zhuang et al. (2022), the algorithm iteratively alternates between assignment and update (see below)."
   ]
  },
  {
   "cell_type": "code",
   "execution_count": null,
   "id": "0c7af18b",
   "metadata": {},
   "outputs": [],
   "source": [
    "data = joint_distributions[:1000]\n",
    "supports = joint_supports[:1000]\n",
    "n_clusters = 2\n",
    "random_state = 42\n",
    "reg=1e-1\n",
    "\n",
    "rng = np.random.default_rng(random_state)\n",
    "n_samples = data.shape[0]\n",
    "shape = data.shape[1:]\n",
    "n_bins = np.prod(shape)"
   ]
  },
  {
   "cell_type": "markdown",
   "id": "afa77f6c",
   "metadata": {},
   "source": [
    "* **Assignment step**: at each iteration, assign each distribution $\\mu_i$ to the cluster whose centroid (a Wasserstein barycenter $\\nu_k$) minimizes $W_2(\\mu_i, \\nu_k)$."
   ]
  },
  {
   "cell_type": "code",
   "execution_count": null,
   "id": "1524ee0c",
   "metadata": {},
   "outputs": [],
   "source": [
    "# Flatten and Normalize the input distributions\n",
    "data_flat = data.reshape(n_samples, n_bins)\n",
    "data_flat /= data_flat.sum(axis=1, keepdims=True)\n",
    "\n",
    "# Initialization: randomly choose initial barycenters among the data\n",
    "indices = rng.choice(n_samples, size=n_clusters, replace=False)\n",
    "bary_flat = data_flat[indices]\n",
    "bary_supports = supports[indices]\n",
    "\n",
    "assignments = np.zeros(n_samples, dtype=int)\n",
    "\n",
    "for i in tqdm(range(n_samples), desc=\"Assigning to barycenters\"):\n",
    "    distances = np.zeros(n_clusters, dtype=float)\n",
    "    for j in range(n_clusters):\n",
    "        # Compute cost matrix\n",
    "        cost_matrix = ot.dist(supports[i], supports[j])\n",
    "        distances[j] = ot.emd2(data_flat[i], bary_flat[j], cost_matrix)\n",
    "    assignments[i] = np.argmin(distances)"
   ]
  },
  {
   "cell_type": "markdown",
   "id": "a23592d9",
   "metadata": {},
   "source": [
    "* **Centroid update step**: recompute each cluster’s centroid as the Wasserstein barycenter of all $\\mu_i$ in that cluster—i.e., solve \n",
    "\n",
    "$$\n",
    "\\nu_k = \\arg \\min_{\\nu} \\frac 1 {|G_k|} \\sum_{i \\in G_k} W_2^2(\\mu_i,\\nu)\n",
    "$$\n"
   ]
  },
  {
   "cell_type": "code",
   "execution_count": null,
   "id": "00a878ac",
   "metadata": {},
   "outputs": [],
   "source": [
    "bary_flat = []\n",
    "bary_supports = []\n",
    "\n",
    "for k in tqdm(range(n_clusters), desc=\"Recomputing barycenters\"):\n",
    "    # Indices des distributions du cluster k\n",
    "    cluster_indices = np.where(assignments == k)[0]\n",
    "\n",
    "    # If the cluster is empty, reinitialize with a random sample\n",
    "    if len(cluster_indices) == 0:\n",
    "        idx = rng.integers(0, data.shape[0])\n",
    "        bary_flat.append(data_flat[idx])\n",
    "        bary_supports.append(supports[idx])\n",
    "        continue\n",
    "\n",
    "    # Récupérer les histogrammes et les supports associés\n",
    "    cluster_hists = [data_flat[i] for i in cluster_indices]\n",
    "    cluster_supports = [supports[i] for i in cluster_indices]\n",
    "\n",
    "    # Construire le support commun (union des supports)\n",
    "    combined_support = np.unique(np.vstack(cluster_supports), axis=0)\n",
    "\n",
    "    # Reprojeter chaque histogramme sur le support commun\n",
    "    projected_hists = []\n",
    "    for hist, supp in zip(cluster_hists, cluster_supports):\n",
    "        proj = np.zeros(len(combined_support))\n",
    "        for i, atom in enumerate(supp):\n",
    "            # Trouver l’indice correspondant dans le support commun\n",
    "            idx = np.where((combined_support == atom).all(axis=1))[0][0]\n",
    "            proj[idx] = hist[i]\n",
    "        projected_hists.append(proj)\n",
    "\n",
    "    projected_hists = np.array(projected_hists).T  # (n_bins, n_distributions)\n",
    "\n",
    "    # Recalculer la cost matrix sur le support commun\n",
    "    cost_matrix = ot.dist(combined_support, combined_support)\n",
    "\n",
    "    # Calcul du barycentre régularisé\n",
    "    bary = ot.bregman.barycenter(projected_hists, cost_matrix, reg)\n",
    "\n",
    "    # Stocker le barycentre et son support\n",
    "    bary_flat.append(bary)\n",
    "    bary_supports.append(combined_support)\n",
    "\n",
    "# Reshape barycenters\n",
    "bary_hists = [b.reshape(shape) for b in bary_flat]"
   ]
  },
  {
   "cell_type": "markdown",
   "id": "996a0f1e",
   "metadata": {},
   "source": [
    "\n",
    "\n",
    "While intuitive, this method can suffer from irregularity and instability in barycenters due to the non‑Euclidean curvature of Wasserstein space, which may lead to poor cluster representation and convergence issues."
   ]
  },
  {
   "cell_type": "code",
   "execution_count": null,
   "id": "2a0c2a2b",
   "metadata": {},
   "outputs": [],
   "source": [
    "def wbarycenter_clustering_v0(data, n_clusters=3, n_iter=10, reg=1e-1, random_state=None):\n",
    "    \"\"\"\n",
    "    Wasserstein K-Means barycenter-based clustering by Yubo Zhuang et al. (2022)\n",
    "    for n-dimensional histograms.\n",
    "\n",
    "    Parameters:\n",
    "        data: np.ndarray of shape (n_samples, shape)\n",
    "            Input histograms\n",
    "        n_clusters: int\n",
    "            Number of clusters.\n",
    "        n_iter: int\n",
    "            Number of iterations.\n",
    "        reg: float\n",
    "            Entropic regularization strength.\n",
    "        random_state: int or None\n",
    "            Random seed for reproducibility.\n",
    "\n",
    "    Returns:\n",
    "        assignments: np.ndarray of shape (n_samples,)\n",
    "            Cluster assignments.\n",
    "        barycenters: list of np.ndarray\n",
    "            Cluster barycenters.\n",
    "    \"\"\"    \n",
    "    rng = np.random.default_rng(random_state)\n",
    "    n_samples = data.shape[0]\n",
    "    shape = data.shape[1:]\n",
    "    n_bins = np.prod(shape)\n",
    "\n",
    "    # Initialization: randomly choose initial barycenters among the data\n",
    "    barycenters = data[rng.choice(n_samples, size=n_clusters, replace=False)]\n",
    "\n",
    "    # Flatten the input distributions\n",
    "    data_flat = data.reshape(n_samples, n_bins) \n",
    "    # Optional: uncomment below (if needed) to avoid numerical issues with NaN or empty barycenters\n",
    "    # data_flat = np.where(data_flat < 1e-12, 1e-12, data_flat)\n",
    "\n",
    "    # Normalize distributions to ensure they are valid probabilities\n",
    "    data_flat /= data_flat.sum(axis=1, keepdims=True)\n",
    "\n",
    "    # Compute cost matrix\n",
    "    coords = np.array([(i, j) for i in range(shape[0]) for j in range(shape[1])])\n",
    "    cost_matrix = ot.dist(coords, coords)\n",
    "\n",
    "    for it in tqdm(range(n_iter), desc=\"Wasserstein clustering iterations\"):\n",
    "\n",
    "        # Flatten and normalize barycenters\n",
    "        bary_flat = np.stack([b.reshape(n_bins) for b in barycenters], axis=0)\n",
    "        bary_flat /= bary_flat.sum(axis=1, keepdims=True)\n",
    "\n",
    "        # Step 1: Assignment - assign each distribution to the closest barycenter\n",
    "        assignments = np.zeros(n_samples, dtype=int)\n",
    "        \n",
    "        for i in tqdm(range(n_samples), desc=\"Assigning to barycenters\"):\n",
    "            distances = np.zeros(n_clusters, dtype=float)\n",
    "            for j in range(n_clusters):\n",
    "                distances[j] = ot.emd2(data_flat[i], bary_flat[j], cost_matrix)\n",
    "            assignments[i] = np.argmin(distances)\n",
    "    \n",
    "        # Step 2: Update - recompute the barycenters\n",
    "        barycenters = []\n",
    "        for k in tqdm(range(n_clusters), desc=\"Recomputing barycenters\"):\n",
    "            # Select all members of cluster k\n",
    "            members = data[assignments == k]\n",
    "\n",
    "            # If the cluster is empty, reinitialize with a random sample\n",
    "            if len(members) == 0:\n",
    "                idx = rng.integers(0, data.shape[0])\n",
    "                barycenters.append(data[idx])\n",
    "                continue \n",
    "\n",
    "            # Flatten and transpose to get shape (n_bins, n_members)\n",
    "            A = members.reshape(len(members), n_bins).T\n",
    "\n",
    "            # Compute regularized Wasserstein barycenter\n",
    "            bary_flat = ot.bregman.barycenter(A, cost_matrix, reg)\n",
    "\n",
    "            # Reshape back to original 2D shape\n",
    "            barycenters.append(bary_flat.reshape(shape))\n",
    "\n",
    "    return assignments, barycenters"
   ]
  },
  {
   "cell_type": "code",
   "execution_count": null,
   "id": "0d9f069f",
   "metadata": {},
   "outputs": [],
   "source": [
    "assignments, barycenters = bary_WKMeans(\n",
    "    data=joint_distributions,  # (n_iris, 7, 9)\n",
    "    n_clusters=3,\n",
    "    n_iter=5,\n",
    "    reg=0.1,\n",
    "    random_state=42\n",
    ")"
   ]
  },
  {
   "cell_type": "code",
   "execution_count": null,
   "id": "d2140965",
   "metadata": {},
   "outputs": [],
   "source": [
    "# 2 clusters, 1 iter = 20min\n",
    "# 3 clusters, 2 iter = 26min\n",
    "\n",
    "# pour toutes les observations (3 clusters, 5it)\n",
    "# 475min (8h)\n",
    "\n",
    "# pour 1000 observations (3 clusters, 5it)\n",
    "# avec clustering_methods : 37.7\n",
    "# dans le notebook : 36.6"
   ]
  },
  {
   "cell_type": "markdown",
   "id": "f274c8eb",
   "metadata": {},
   "source": [
    "## Clustering based on pairwise distances (D-WKM)"
   ]
  },
  {
   "cell_type": "code",
   "execution_count": 15,
   "id": "75945a0e",
   "metadata": {},
   "outputs": [
    {
     "name": "stdout",
     "output_type": "stream",
     "text": [
      "Pairwise distance matrix saved to: ../data/Dis_mat_1k.tkt\n"
     ]
    }
   ],
   "source": [
    "pairwise1 = computeDistanceMatrix(joint_distributions[:1000], joint_supports[:1000], save=True, filepath='../data/Dis_mat_1k.tkt')"
   ]
  },
  {
   "cell_type": "code",
   "execution_count": null,
   "id": "0764d099",
   "metadata": {},
   "outputs": [],
   "source": [
    "pairwise2 = np.loadtxt(\"../data/Dis_mat_15k.tkt\", dtype=float)"
   ]
  },
  {
   "cell_type": "code",
   "execution_count": 14,
   "id": "4f37560f",
   "metadata": {},
   "outputs": [
    {
     "data": {
      "text/plain": [
       "True"
      ]
     },
     "execution_count": 14,
     "metadata": {},
     "output_type": "execute_result"
    }
   ],
   "source": [
    "np.allclose(pairwise1, pairwise2)\n"
   ]
  },
  {
   "cell_type": "code",
   "execution_count": null,
   "id": "2c8fd5ca",
   "metadata": {},
   "outputs": [
    {
     "data": {
      "application/vnd.jupyter.widget-view+json": {
       "model_id": "810c76ae7df3493b9a748456cc259b14",
       "version_major": 2,
       "version_minor": 0
      },
      "text/plain": [
       "Wasserstein pairwise clustering iterations:   0%|          | 0/20 [00:00<?, ?it/s]"
      ]
     },
     "metadata": {},
     "output_type": "display_data"
    },
    {
     "name": "stdout",
     "output_type": "stream",
     "text": [
      "Converged at iteration 13\n"
     ]
    }
   ],
   "source": [
    "assignments = dist_WKMeans(data=joint_distributions, supports=joint_supports, dist_matrix=pairwise2, n_clusters=3, n_iter=20, random_state=42)"
   ]
  },
  {
   "cell_type": "code",
   "execution_count": null,
   "id": "53002e31",
   "metadata": {},
   "outputs": [],
   "source": [
    "# pour 1000 observations (3 clusters, 5it)\n",
    "# clustering_methods : 2m35.2"
   ]
  },
  {
   "cell_type": "code",
   "execution_count": null,
   "id": "6871413d",
   "metadata": {},
   "outputs": [],
   "source": [
    "for i, b in enumerate(barycenters):\n",
    "    print(f\"--- Barycentre {i} ---\")\n",
    "    print(f\"Shape: {b.shape}\")\n",
    "    print(f\"Min: {b.min():.2e}\")\n",
    "    print(f\"Max: {b.max():.2e}\")\n",
    "    print(f\"Sum: {b.sum():.6f}\")\n",
    "    print(f\"Contains NaN: {np.isnan(b).any()}\")\n",
    "    print(f\"Zero elements: {np.sum(b == 0)} / {b.size}\")\n",
    "    print()\n"
   ]
  },
  {
   "cell_type": "code",
   "execution_count": null,
   "id": "f8f2a89f",
   "metadata": {},
   "outputs": [],
   "source": [
    "for i, barycenter in enumerate(barycenters):\n",
    "    plt.figure(figsize=(6, 5))\n",
    "    plt.imshow(barycenter, cmap='viridis', aspect='auto')\n",
    "    plt.colorbar(label=\"Probability\")\n",
    "    plt.title(f\"Barycentre {i+1}\")\n",
    "    plt.xlabel(\"Décile\")\n",
    "    plt.ylabel(\"Classe d'âge\")\n",
    "    plt.tight_layout()\n",
    "    plt.show()\n"
   ]
  },
  {
   "cell_type": "code",
   "execution_count": null,
   "id": "aa0f50aa",
   "metadata": {},
   "outputs": [],
   "source": [
    "k_values = range(1, 11)\n",
    "\n",
    "inertias = []\n",
    "for k_test in tqdm(k_values):\n",
    "    assignments, barycenters = wbarycenter_clustering(\n",
    "    data=joint_distributions,  # (n_iris, 7, 9)\n",
    "    n_clusters=k_test,\n",
    "    n_iter=5,\n",
    "    reg=0.1,\n",
    "    random_state=42\n",
    ")\n",
    "    inertia = 0\n",
    "    for i in range(n_distributions):\n",
    "        bary = barycenters[assignments[i]]\n",
    "        inertia += ot.wasserstein_1d(support, support, distributions[i], bary)\n",
    "    inertias.append(inertia)\n",
    "\n",
    "plt.figure(figsize=(8, 5))\n",
    "plt.plot(k_values, inertias, marker='o')\n",
    "plt.title(\"Elbow Method for Optimal k\")\n",
    "plt.xlabel(\"Number of clusters k\")\n",
    "plt.ylabel(\"Total within-cluster Wasserstein distance\")\n",
    "plt.grid(True)\n",
    "plt.show()"
   ]
  },
  {
   "cell_type": "code",
   "execution_count": null,
   "id": "2c45b0a2",
   "metadata": {},
   "outputs": [],
   "source": [
    "k_values = range(1, 11)\n",
    "\n",
    "inertias = []\n",
    "for k_test in tqdm(k_values):\n",
    "    assigments = dist_WKMeans(data=joint_distributions, supports=joint_supports, dist_matrix=pairwise2, n_clusters=k_test, n_iter=20, random_state=42)\n",
    "    \n",
    "    \n",
    "    for k in tqdm(range(k_test), desc=\"Recomputing barycenters\"):\n",
    "        # Indices des distributions du cluster k\n",
    "        cluster_indices = np.where(assignments == k)[0]\n",
    "\n",
    "        # Récupérer les histogrammes et les supports associés\n",
    "        cluster_hists = [joint_distributions[i] for i in cluster_indices]\n",
    "        cluster_supports = [joint_supports[i] for i in cluster_indices]\n",
    "\n",
    "        # Construire le support commun (union des supports)\n",
    "        combined_support = np.unique(np.vstack(cluster_supports), axis=0)\n",
    "\n",
    "        # Reprojeter chaque histogramme sur le support commun\n",
    "        projected_hists = []\n",
    "        for hist, supp in zip(cluster_hists, cluster_supports):\n",
    "            proj = np.zeros(len(combined_support))\n",
    "            for i, atom in enumerate(supp):\n",
    "                # Trouver l’indice correspondant dans le support commun\n",
    "                idx = np.where((combined_support == atom).all(axis=1))[0][0]\n",
    "                proj[idx] = hist[i]\n",
    "            projected_hists.append(proj)\n",
    "\n",
    "        projected_hists = np.array(projected_hists).T  # (n_bins, n_distributions)\n",
    "\n",
    "        # Recalculer la cost matrix sur le support commun\n",
    "        cost_matrix = ot.dist(combined_support, combined_support)\n",
    "\n",
    "        # Calcul du barycentre régularisé\n",
    "        bary = ot.bregman.barycenter(projected_hists, cost_matrix, reg)\n",
    "\n",
    "        # Stocker le barycentre et son support\n",
    "        bary_flat.append(bary)\n",
    "        bary_supports.append(combined_support)\n",
    "\n",
    "    # Reshape barycenters\n",
    "    bary_hists = [b.reshape(shape) for b in bary_flat]\n",
    "        \n",
    "    inertia = 0\n",
    "    for i in range(n_distributions):\n",
    "        bary_id = assignments[i]\n",
    "        inertia += ot.wasserstein(joint_supports[i], bary_supports[bary_id], joint_distributions[i], bary_flat[bary_id])\n",
    "    inertias.append(inertia)\n"
   ]
  }
 ],
 "metadata": {
  "kernelspec": {
   "display_name": "Python 3",
   "language": "python",
   "name": "python3"
  },
  "language_info": {
   "codemirror_mode": {
    "name": "ipython",
    "version": 3
   },
   "file_extension": ".py",
   "mimetype": "text/x-python",
   "name": "python",
   "nbconvert_exporter": "python",
   "pygments_lexer": "ipython3",
   "version": "3.13.5"
  }
 },
 "nbformat": 4,
 "nbformat_minor": 5
}
