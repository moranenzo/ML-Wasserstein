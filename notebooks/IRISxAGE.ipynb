{
 "cells": [
  {
   "cell_type": "markdown",
   "id": "5ffabd62",
   "metadata": {},
   "source": [
    "# Clustering over INCOME and AGE across the IRIS"
   ]
  },
  {
   "cell_type": "markdown",
   "id": "eede670c",
   "metadata": {},
   "source": [
    "# Import"
   ]
  },
  {
   "cell_type": "code",
   "execution_count": 1,
   "id": "fa2bc375",
   "metadata": {},
   "outputs": [
    {
     "name": "stdout",
     "output_type": "stream",
     "text": [
      "Requirement already satisfied: openpyxl in /opt/python/lib/python3.13/site-packages (3.1.5)\n",
      "Requirement already satisfied: et-xmlfile in /opt/python/lib/python3.13/site-packages (from openpyxl) (2.0.0)\n",
      "Requirement already satisfied: ipywidgets in /opt/python/lib/python3.13/site-packages (8.1.7)\n",
      "Requirement already satisfied: comm>=0.1.3 in /opt/python/lib/python3.13/site-packages (from ipywidgets) (0.2.2)\n",
      "Requirement already satisfied: ipython>=6.1.0 in /opt/python/lib/python3.13/site-packages (from ipywidgets) (9.4.0)\n",
      "Requirement already satisfied: traitlets>=4.3.1 in /opt/python/lib/python3.13/site-packages (from ipywidgets) (5.14.3)\n",
      "Requirement already satisfied: widgetsnbextension~=4.0.14 in /opt/python/lib/python3.13/site-packages (from ipywidgets) (4.0.14)\n",
      "Requirement already satisfied: jupyterlab_widgets~=3.0.15 in /opt/python/lib/python3.13/site-packages (from ipywidgets) (3.0.15)\n",
      "Requirement already satisfied: decorator in /opt/python/lib/python3.13/site-packages (from ipython>=6.1.0->ipywidgets) (5.2.1)\n",
      "Requirement already satisfied: ipython-pygments-lexers in /opt/python/lib/python3.13/site-packages (from ipython>=6.1.0->ipywidgets) (1.1.1)\n",
      "Requirement already satisfied: jedi>=0.16 in /opt/python/lib/python3.13/site-packages (from ipython>=6.1.0->ipywidgets) (0.19.2)\n",
      "Requirement already satisfied: matplotlib-inline in /opt/python/lib/python3.13/site-packages (from ipython>=6.1.0->ipywidgets) (0.1.7)\n",
      "Requirement already satisfied: pexpect>4.3 in /opt/python/lib/python3.13/site-packages (from ipython>=6.1.0->ipywidgets) (4.9.0)\n",
      "Requirement already satisfied: prompt_toolkit<3.1.0,>=3.0.41 in /opt/python/lib/python3.13/site-packages (from ipython>=6.1.0->ipywidgets) (3.0.51)\n",
      "Requirement already satisfied: pygments>=2.4.0 in /opt/python/lib/python3.13/site-packages (from ipython>=6.1.0->ipywidgets) (2.19.2)\n",
      "Requirement already satisfied: stack_data in /opt/python/lib/python3.13/site-packages (from ipython>=6.1.0->ipywidgets) (0.6.3)\n",
      "Requirement already satisfied: wcwidth in /opt/python/lib/python3.13/site-packages (from prompt_toolkit<3.1.0,>=3.0.41->ipython>=6.1.0->ipywidgets) (0.2.13)\n",
      "Requirement already satisfied: parso<0.9.0,>=0.8.4 in /opt/python/lib/python3.13/site-packages (from jedi>=0.16->ipython>=6.1.0->ipywidgets) (0.8.4)\n",
      "Requirement already satisfied: ptyprocess>=0.5 in /opt/python/lib/python3.13/site-packages (from pexpect>4.3->ipython>=6.1.0->ipywidgets) (0.7.0)\n",
      "Requirement already satisfied: executing>=1.2.0 in /opt/python/lib/python3.13/site-packages (from stack_data->ipython>=6.1.0->ipywidgets) (2.2.0)\n",
      "Requirement already satisfied: asttokens>=2.1.0 in /opt/python/lib/python3.13/site-packages (from stack_data->ipython>=6.1.0->ipywidgets) (3.0.0)\n",
      "Requirement already satisfied: pure-eval in /opt/python/lib/python3.13/site-packages (from stack_data->ipython>=6.1.0->ipywidgets) (0.2.3)\n",
      "Requirement already satisfied: pot in /opt/python/lib/python3.13/site-packages (0.9.5)\n",
      "Requirement already satisfied: numpy>=1.16 in /opt/python/lib/python3.13/site-packages (from pot) (2.3.1)\n",
      "Requirement already satisfied: scipy>=1.6 in /opt/python/lib/python3.13/site-packages (from pot) (1.16.0)\n"
     ]
    }
   ],
   "source": [
    "!pip install openpyxl # for pd.read_excel\n",
    "!pip install ipywidgets # for tqdm.notebook\n",
    "!pip install pot\n"
   ]
  },
  {
   "cell_type": "code",
   "execution_count": null,
   "id": "ee013e46",
   "metadata": {},
   "outputs": [],
   "source": [
    "import numpy as np\n",
    "import ot    # pip install pot\n",
    "import pandas as pd\n",
    "import matplotlib.pyplot as plt\n",
    "\n",
    "from tqdm.notebook import tqdm\n",
    "import geopandas as gpd\n",
    "\n",
    "from sklearn.decomposition import PCA\n",
    "from sklearn.cluster import KMeans\n",
    "\n",
    "import sys\n",
    "sys.path.append(\"../src\")\n",
    "from clustering_methods import bary_WKMeans, dist_WKMeans\n",
    "from utils import reconstruct_joint_distribution_ot, computeDistanceMatrix\n"
   ]
  },
  {
   "cell_type": "markdown",
   "id": "256a2d6e",
   "metadata": {},
   "source": [
    "### Income Deciles per IRIS"
   ]
  },
  {
   "cell_type": "code",
   "execution_count": 3,
   "id": "7e9db764",
   "metadata": {},
   "outputs": [],
   "source": [
    "# Load the file\n",
    "df_income_temp = pd.read_csv('../data/BASE_TD_FILO_DEC_IRIS_2020.csv', sep=';', decimal=',')\n",
    "\n",
    "\n",
    "# Decile columns\n",
    "decile_cols = ['DEC_D120', 'DEC_D220', 'DEC_D320', 'DEC_D420', 'DEC_MED20', 'DEC_D620', 'DEC_D720', 'DEC_D820', 'DEC_D920']\n",
    "\n",
    "# Convert from object to float64\n",
    "df_income_temp[decile_cols] = df_income_temp[decile_cols].apply(pd.to_numeric, errors='coerce')\n",
    "\n",
    "# Remove the 1319 rows with missing deciles\n",
    "df_income = df_income_temp.dropna(subset=decile_cols).reset_index(drop=True)\n",
    "\n",
    "distributions = df_income[decile_cols].to_numpy()\n",
    "\n",
    "# Useful \n",
    "colors = ['cornflowerblue', 'forestgreen', 'red', 'deeppink', 'orange', 'brown', 'purple']\n",
    "age_groups = [\"0_17\", \"18_29\", \"30_39\", \"40_49\", \"50_64\", \"65_74\", \"75P\"]\n",
    "\n",
    "\n",
    "n_distributions = distributions.shape[0]"
   ]
  },
  {
   "cell_type": "markdown",
   "id": "62ccd981",
   "metadata": {},
   "source": [
    "### Average Income per age"
   ]
  },
  {
   "cell_type": "code",
   "execution_count": 4,
   "id": "2d0ab763",
   "metadata": {},
   "outputs": [],
   "source": [
    "# Load the file\n",
    "df_income_age = pd.read_excel(\"../data/reve-niv-vie-individu-age-med.xlsx\", skiprows=3)\n",
    "\n",
    "# Keep only the 2020 column\n",
    "df_income_age = df_income_age[[\"Tranche d’âge\", '2020³ ⁴']]\n",
    "\n",
    "# Rename the column\n",
    "df_income_age = df_income_age.rename(columns={'2020³ ⁴': \"MEDIAN_INCOME\"})\n",
    "\n",
    "# Rename the age groups\n",
    "renaming_dict = {\n",
    "    \"Moins de 18 ans\": \"0_17\",\n",
    "    \"De 18 à 29 ans\": \"18_29\",\n",
    "    \"De 30 à 39 ans\": \"30_39\",\n",
    "    \"De 40 à 49 ans\": \"40_49\",\n",
    "    \"De 50 à 64 ans\": \"50_64\",\n",
    "    \"De 65 à 74 ans\": \"65_74\",\n",
    "    \"75 ans et plus\": \"75P\"\n",
    "}\n",
    "df_income_age[\"AGE_GROUP\"] = df_income_age[\"Tranche d’âge\"].replace(renaming_dict)\n",
    "\n",
    "# Get rid of the metadata lines\n",
    "df_income_age = df_income_age[df_income_age['AGE_GROUP'].isin(age_groups)].reset_index(drop=True)\n",
    "\n",
    "# Keep only the relevant columns\n",
    "df_income_age = df_income_age[[\"AGE_GROUP\", \"MEDIAN_INCOME\"]]\n"
   ]
  },
  {
   "cell_type": "markdown",
   "id": "a0674967",
   "metadata": {},
   "source": [
    "### Population per age "
   ]
  },
  {
   "cell_type": "markdown",
   "id": "e2133701",
   "metadata": {},
   "source": [
    "To apply our algorithms using income by age group, we need to estimate the population in each corresponding age range for every IRIS. However, the INSEE population dataset provides age groupings that do not match exactly with those used in the national income-by-age statistics. To reconcile the two, we reconstruct the target age groups — (0–17), (18–29), (30–39), (40–49), (50–64), (65–74), and 75+ — by combining and subtracting available groups from the population dataset. In some cases, we rely on approximations (e.g., estimating the 45–54 group to split 40–49 and 50–64) to ensure consistency with the income data structure. This harmonization step is essential to later compute joint distributions of age and income at the IRIS level."
   ]
  },
  {
   "cell_type": "code",
   "execution_count": 5,
   "id": "b8373101",
   "metadata": {},
   "outputs": [],
   "source": [
    "# Load the Excel sheet\n",
    "df_pop_temp = pd.read_excel(\"../data/base-ic-evol-struct-pop-2020.xlsx\", sheet_name=0, skiprows=5)\n",
    "\n",
    "# Directly accessible age groups\n",
    "df_pop_temp[\"AGE_0_17\"] = df_pop_temp[\"P20_POP0002\"] + df_pop_temp[\"P20_POP0305\"] + df_pop_temp[\"P20_POP0610\"] + df_pop_temp[\"P20_POP1117\"]\n",
    "df_pop_temp[\"AGE_18_29\"] = df_pop_temp[\"P20_POP0014\"] + df_pop_temp[\"P20_POP1529\"] - df_pop_temp[\"AGE_0_17\"]\n",
    "df_pop_temp[\"AGE_30_39\"] = df_pop_temp[\"P20_POP2539\"] + df_pop_temp[\"P20_POP1824\"] - df_pop_temp[\"AGE_18_29\"]\n",
    "df_pop_temp[\"AGE_65_74\"] = df_pop_temp[\"P20_POP65P\"] - df_pop_temp[\"P20_POP75P\"]\n",
    "# No processing needed for 75+ age group\n",
    "\n",
    "# Approximation of the 45–54 group to help deduce 40–49 and 50–64\n",
    "df_pop_temp[\"AGE_45_54\"] = (\n",
    "    df_pop_temp[\"AGE_0_17\"] + df_pop_temp[\"P20_POP1824\"] + df_pop_temp[\"P20_POP2539\"] + df_pop_temp[\"P20_POP4054\"]\n",
    "    - (df_pop_temp[\"P20_POP0014\"] + df_pop_temp[\"P20_POP1529\"] + df_pop_temp[\"P20_POP3044\"])\n",
    ")\n",
    "\n",
    "# Approximate 40–49 from 40–54 and part of 45–54\n",
    "df_pop_temp[\"AGE_40_49\"] = df_pop_temp[\"P20_POP4054\"] - 0.5 * df_pop_temp[\"AGE_45_54\"]\n",
    "\n",
    "# Approximate 50–64 from 55–64 and part of 45–54\n",
    "df_pop_temp[\"AGE_50_64\"] = df_pop_temp[\"P20_POP5564\"] + 0.5 * df_pop_temp[\"AGE_45_54\"]\n",
    "\n",
    "# Renaming for clarity\n",
    "df_pop_temp[\"0_17\"] = df_pop_temp[\"AGE_0_17\"]\n",
    "df_pop_temp[\"18_29\"] = df_pop_temp[\"AGE_18_29\"]\n",
    "df_pop_temp[\"30_39\"] = df_pop_temp[\"AGE_30_39\"]\n",
    "df_pop_temp[\"40_49\"] = df_pop_temp[\"AGE_40_49\"]\n",
    "df_pop_temp[\"50_64\"] = df_pop_temp[\"AGE_50_64\"]\n",
    "df_pop_temp[\"65_74\"] = df_pop_temp[\"AGE_65_74\"]\n",
    "df_pop_temp[\"75P\"] = df_pop_temp[\"P20_POP75P\"]\n",
    "\n",
    "# Final columns to keep\n",
    "final_cols = [\"IRIS\", \"REG\", \"DEP\", \"LIBCOM\", \"LIBIRIS\"] + age_groups\n",
    "\n",
    "df_pop = df_pop_temp[final_cols]\n"
   ]
  },
  {
   "cell_type": "markdown",
   "id": "6136029b",
   "metadata": {},
   "source": [
    "## Joint Age-Income Distributions"
   ]
  },
  {
   "cell_type": "markdown",
   "id": "4407567c",
   "metadata": {},
   "source": [
    "### Reconstructing the joint age–income distribution"
   ]
  },
  {
   "cell_type": "markdown",
   "id": "97469093",
   "metadata": {},
   "source": [
    "For each IRIS, we reconstruct a joint probability distribution π over age groups and income levels. The marginal distributions are:\n",
    "* the age distribution of the IRIS (based on population counts per age group), and\n",
    "* a uniform distribution over the income deciles observed in the IRIS.\n",
    "\n",
    "We use optimal transport to find the coupling π that best aligns the income levels with the national average income for each age group, minimizing the cost:\n",
    "\n",
    "$$\n",
    "C_{i,j} = |R_j - m(T_i)|\n",
    "$$\n",
    "\n",
    "where $R_j$ is the j-th income level (decile), and $m(T_i)$ is the national average income for age group $T_i$.\n",
    "\n",
    "The result is a joint distribution π (a matrix), interpreted as the most plausible alignment between age and income in the IRIS, under minimal deviation from national trends."
   ]
  },
  {
   "cell_type": "markdown",
   "id": "15c1e39e",
   "metadata": {},
   "source": [
    "### Computation for Each IRIS"
   ]
  },
  {
   "cell_type": "code",
   "execution_count": 6,
   "id": "0bcd8f52",
   "metadata": {},
   "outputs": [
    {
     "data": {
      "application/vnd.jupyter.widget-view+json": {
       "model_id": "218686cedb544ab3a5d0101bfc4fd866",
       "version_major": 2,
       "version_minor": 0
      },
      "text/plain": [
       "  0%|          | 0/14703 [00:00<?, ?it/s]"
      ]
     },
     "metadata": {},
     "output_type": "display_data"
    }
   ],
   "source": [
    "# Compute national median income per age group\n",
    "age_income_medians = df_income_age.set_index(\"AGE_GROUP\").loc[age_groups, \"MEDIAN_INCOME\"].to_numpy()\n",
    "\n",
    "# Find common IRIS identifiers present in both datasets\n",
    "common_iris = sorted(set(df_income[\"IRIS\"]).intersection(df_pop[\"IRIS\"]))\n",
    "\n",
    "# Compute joint distributions\n",
    "joint_distributions = []\n",
    "iris_ids = []\n",
    "\n",
    "for iris in tqdm(common_iris):\n",
    "    row_income = df_income[df_income[\"IRIS\"] == iris]\n",
    "    row_pop = df_pop[df_pop[\"IRIS\"] == iris]\n",
    "\n",
    "    if row_income.empty or row_pop.empty:\n",
    "        continue  # Skip if data is missing for this IRIS\n",
    "\n",
    "    # Age group weights (normalized)\n",
    "    age_counts = row_pop.iloc[0][age_groups].to_numpy()\n",
    "    age_weights = age_counts / age_counts.sum()\n",
    "\n",
    "    # Income decile values\n",
    "    income_deciles = row_income.iloc[0][decile_cols].to_numpy()\n",
    "\n",
    "    # Compute the joint distribution π using optimal transport\n",
    "    pi = reconstruct_joint_distribution_ot(age_weights, income_deciles, age_income_medians)\n",
    "\n",
    "    joint_distributions.append(pi)\n",
    "    iris_ids.append(iris)\n",
    "\n",
    "# Stack the joint distributions into a 3D array: (n_iris, n_age_groups, n_income_deciles)\n",
    "joint_distributions = np.stack(joint_distributions)\n"
   ]
  },
  {
   "cell_type": "code",
   "execution_count": 7,
   "id": "fa1c7ff3",
   "metadata": {},
   "outputs": [
    {
     "data": {
      "image/png": "[encoded data removed]",
      "text/plain": [
       "<Figure size 1200x400 with 4 Axes>"
      ]
     },
     "metadata": {},
     "output_type": "display_data"
    }
   ],
   "source": [
    "# Plot random joint distributions\n",
    "rng = np.random.default_rng(42)\n",
    "indices = rng.choice(len(joint_distributions), size=3, replace=False)\n",
    "\n",
    "plt.figure(figsize=(12, 4))\n",
    "\n",
    "for i in range(3):\n",
    "    plt.subplot(1, 3, i + 1)\n",
    "    plt.imshow(joint_distributions[indices[i]], cmap='viridis', aspect='auto')\n",
    "    plt.title(f\"Sample {indices[i]}\")\n",
    "    plt.xlabel(\"Decile\")\n",
    "    plt.ylabel(\"Age class\")\n",
    "\n",
    "plt.tight_layout()\n",
    "plt.colorbar(label=\"Probability\")\n",
    "plt.show()"
   ]
  },
  {
   "cell_type": "markdown",
   "id": "2e514f4a",
   "metadata": {},
   "source": [
    "# Clustering"
   ]
  },
  {
   "cell_type": "markdown",
   "id": "20b904e3",
   "metadata": {},
   "source": [
    "## Introduction to Wasserstein K-means"
   ]
  },
  {
   "cell_type": "markdown",
   "id": "d6079ec7",
   "metadata": {},
   "source": [
    "### Distance in the Wasserstein space\n",
    "\n",
    "We will now try to cluster our IRIS based on the joint-distributions we computed earlier.\n",
    "To apply a K-means algorithm to this data, we must first define a meaningful distance between observations.\n",
    "\n",
    "We choose the Earth Mover's Distance (EMD), which corresponds to the Wasserstein distance of order 1. It arises from the Kantorovich optimal transport problem:\n",
    "\n",
    "$$\n",
    "\\min_{\\pi\\in\\mathbb R_+^{n\\times m}}\n",
    "\\sum_{i=1}^n\\sum_{j=1}^m \\pi_{ij}\\,M_{ij}\n",
    "\\quad\\text{such that}\\quad \n",
    "\\sum_j \\pi_{ij} = a_i,\\quad\n",
    "\\sum_i \\pi_{ij} = b_j.\n",
    "$$\n",
    "\n",
    "Here:\n",
    "\n",
    "* The constraint $\\sum_j \\pi_{ij}=a_i$ ensures that the **first marginal** of $\\pi$ is $a$.\n",
    "* The constraint $\\sum_i \\pi_{ij}=b_j$ ensures that the **second marginal** of $\\pi$ is $b$.\n",
    "* The result of the optimization, called the **cost**, represents the **minimal total cost** of transporting mass from $a$ to $b$ under cost matrix $M$.\n",
    "\n",
    "This distance is easily computable using the [POT library](https://pythonot.github.io/) (Python Optimal Transport), via the function:\n",
    "\n",
    "```python\n",
    "cost = ot.emd2(a, b, M)\n",
    "```\n",
    "\n",
    "Where:\n",
    "\n",
    "* **`a`** is a probability vector of size $n$: $a_i \\geq 0$, $\\sum_i a_i = 1$. It represents the **first distribution**, supported on $n$ points.\n",
    "* **`b`** is a probability vector of size $m$: $b_j \\geq 0$, $\\sum_j b_j = 1$. It represents the **second distribution**, supported on $m$ points.\n",
    "* **`M`** is a cost matrix of shape $n \\times m$, where each element $M_{ij}$ represents the **cost of transporting one unit of mass** from location $i$ to location $j$."
   ]
  },
  {
   "cell_type": "markdown",
   "id": "cfe7c4ff",
   "metadata": {},
   "source": [
    "### Quick addition for the cost matrix\n",
    "\n",
    "All of our joint_distributions share a common discrete structure (7 age groups × 9 income deciles), because we index revenue not by its actual value but by its ordinal decile position. Concretely, each “bin” corresponds to a pair $(\\text{age\\_idx}, \\text{decile\\_idx})$, forming a fixed grid.\n",
    "\n",
    "Because this grid is identical for every IRIS, we can use a single cost matrix for all comparisons:\n",
    "\n",
    "```python\n",
    "coords = [(i, j) for i in range(7) for j in range(9)]\n",
    "cost_matrix = ot.dist(coords, coords)\n",
    "```\n",
    "\n",
    "This matrix defines the ground cost as the Euclidean distance between bins in the integer index space. This shared metric lets us compute meaningful Wasserstein distances across different IRIS efficiently, without needing to recompute it for each pair. As noted in optimal transport theory, the cost matrix is independent of the actual distributions because it only depends on how we define the “bins” themselves."
   ]
  },
  {
   "cell_type": "markdown",
   "id": "b4518284",
   "metadata": {},
   "source": [
    "## Clustering based on barycenters (B-WKM)"
   ]
  },
  {
   "cell_type": "markdown",
   "id": "7f3d043d",
   "metadata": {},
   "source": [
    "This **centroid-based Wasserstein K-means** extends the classical Lloyd’s K-means to the space of probability measures by replacing Euclidean centroids and norms with **Wasserstein barycenters** and $W_2^2$ distances. As outlined by Domazakis et al. (2019) and formalized by Zhuang et al. (2022), the algorithm iteratively alternates between assignment and update (see below)."
   ]
  },
  {
   "cell_type": "code",
   "execution_count": 8,
   "id": "0c7af18b",
   "metadata": {},
   "outputs": [],
   "source": [
    "data = joint_distributions[:1000]\n",
    "n_clusters = 2\n",
    "random_state = 42\n",
    "reg=1e-1\n",
    "\n",
    "rng = np.random.default_rng(random_state)\n",
    "n_samples = data.shape[0]\n",
    "shape = data.shape[1:]\n",
    "n_bins = np.prod(shape)"
   ]
  },
  {
   "cell_type": "markdown",
   "id": "afa77f6c",
   "metadata": {},
   "source": [
    "* **Assignment step**: at each iteration, assign each distribution $\\mu_i$ to the cluster whose centroid (a Wasserstein barycenter $\\nu_k$) minimizes $W_2(\\mu_i, \\nu_k)$."
   ]
  },
  {
   "cell_type": "code",
   "execution_count": 9,
   "id": "1524ee0c",
   "metadata": {},
   "outputs": [
    {
     "data": {
      "application/vnd.jupyter.widget-view+json": {
       "model_id": "8968e5967a784995b8ceb7a38b460ae8",
       "version_major": 2,
       "version_minor": 0
      },
      "text/plain": [
       "Assigning to barycenters:   0%|          | 0/1000 [00:00<?, ?it/s]"
      ]
     },
     "metadata": {},
     "output_type": "display_data"
    }
   ],
   "source": [
    "barycenters = data[rng.choice(n_samples, size=n_clusters, replace=False)]\n",
    "\n",
    "# Flatten distributions and barycenters\n",
    "data_flat = data.reshape(n_samples, n_bins)\n",
    "bary_flat = np.stack([b.reshape(n_bins) for b in barycenters], axis=0)\n",
    "\n",
    "# Normalize to ensure each is a proper probability mass\n",
    "data_flat /= data_flat.sum(axis=1, keepdims=True)\n",
    "bary_flat /= bary_flat.sum(axis=1, keepdims=True)\n",
    "\n",
    "coords = np.array([(i, j) for i in range(shape[0]) for j in range(shape[1])])\n",
    "cost_matrix = ot.dist(coords, coords)\n",
    "\n",
    "assignments = np.zeros(n_samples, dtype=int)\n",
    "\n",
    "for i in tqdm(range(n_samples), desc=\"Assigning to barycenters\"):\n",
    "    distances = np.zeros(n_clusters, dtype=float)\n",
    "    for j in range(n_clusters):\n",
    "        distances[j] = ot.emd2(data_flat[i], bary_flat[j], cost_matrix)\n",
    "    assignments[i] = np.argmin(distances)"
   ]
  },
  {
   "cell_type": "markdown",
   "id": "a23592d9",
   "metadata": {},
   "source": [
    "* **Centroid update step**: recompute each cluster’s centroid as the Wasserstein barycenter of all $\\mu_i$ in that cluster—i.e., solve \n",
    "\n",
    "$$\n",
    "\\nu_k = \\arg \\min_{\\nu} \\frac 1 {|G_k|} \\sum_{i \\in G_k} W_2^2(\\mu_i,\\nu)\n",
    "$$\n"
   ]
  },
  {
   "cell_type": "code",
   "execution_count": 10,
   "id": "99159344",
   "metadata": {},
   "outputs": [
    {
     "data": {
      "application/vnd.jupyter.widget-view+json": {
       "model_id": "d0bb207e10e14257b0360d8b5eae45d2",
       "version_major": 2,
       "version_minor": 0
      },
      "text/plain": [
       "Recomputing barycenters:   0%|          | 0/2 [00:00<?, ?it/s]"
      ]
     },
     "metadata": {},
     "output_type": "display_data"
    }
   ],
   "source": [
    "new_barycenters = []\n",
    "for k in tqdm(range(n_clusters), desc=\"Recomputing barycenters\"):\n",
    "    # Select all members of cluster k\n",
    "    members = data[assignments == k]\n",
    "\n",
    "    # If the cluster is empty, reinitialize with a random sample\n",
    "    if len(members) == 0:\n",
    "        idx = rng.integers(0, data.shape[0])\n",
    "        new_barycenters.append(data[idx])\n",
    "        continue \n",
    "\n",
    "    # Flatten and transpose to get shape (n_bins, n_members)\n",
    "    A = members.reshape(len(members), n_bins).T\n",
    "\n",
    "    # Compute the (unregularized) Wasserstein barycenter\n",
    "    bary_flat = ot.bregman.barycenter(A, cost_matrix, reg)\n",
    "\n",
    "    # Reshape back to 2D (n_age, n_decile)\n",
    "    new_barycenters.append(bary_flat.reshape(shape))\n"
   ]
  },
  {
   "cell_type": "markdown",
   "id": "996a0f1e",
   "metadata": {},
   "source": [
    "\n",
    "\n",
    "While intuitive, this method can suffer from irregularity and instability in barycenters due to the non‑Euclidean curvature of Wasserstein space, which may lead to poor cluster representation and convergence issues."
   ]
  },
  {
   "cell_type": "code",
   "execution_count": 11,
   "id": "2a0c2a2b",
   "metadata": {},
   "outputs": [],
   "source": [
    "def wbarycenter_clustering_v0(data, n_clusters=3, n_iter=10, reg=1e-1, random_state=None):\n",
    "    \"\"\"\n",
    "    Wasserstein K-Means barycenter-based clustering by Yubo Zhuang et al. (2022)\n",
    "    for n-dimensional histograms.\n",
    "\n",
    "    Parameters:\n",
    "        data: np.ndarray of shape (n_samples, shape)\n",
    "            Input histograms\n",
    "        n_clusters: int\n",
    "            Number of clusters.\n",
    "        n_iter: int\n",
    "            Number of iterations.\n",
    "        reg: float\n",
    "            Entropic regularization strength.\n",
    "        random_state: int or None\n",
    "            Random seed for reproducibility.\n",
    "\n",
    "    Returns:\n",
    "        assignments: np.ndarray of shape (n_samples,)\n",
    "            Cluster assignments.\n",
    "        barycenters: list of np.ndarray\n",
    "            Cluster barycenters.\n",
    "    \"\"\"    \n",
    "    rng = np.random.default_rng(random_state)\n",
    "    n_samples = data.shape[0]\n",
    "    shape = data.shape[1:]\n",
    "    n_bins = np.prod(shape)\n",
    "\n",
    "    # Initialization: randomly choose initial barycenters among the data\n",
    "    barycenters = data[rng.choice(n_samples, size=n_clusters, replace=False)]\n",
    "\n",
    "    # Flatten the input distributions\n",
    "    data_flat = data.reshape(n_samples, n_bins) \n",
    "    # Optional: uncomment below (if needed) to avoid numerical issues with NaN or empty barycenters\n",
    "    # data_flat = np.where(data_flat < 1e-12, 1e-12, data_flat)\n",
    "\n",
    "    # Normalize distributions to ensure they are valid probabilities\n",
    "    data_flat /= data_flat.sum(axis=1, keepdims=True)\n",
    "\n",
    "    # Compute cost matrix\n",
    "    coords = np.array([(i, j) for i in range(shape[0]) for j in range(shape[1])])\n",
    "    cost_matrix = ot.dist(coords, coords)\n",
    "\n",
    "    for it in tqdm(range(n_iter), desc=\"Wasserstein clustering iterations\"):\n",
    "\n",
    "        # Flatten and normalize barycenters\n",
    "        bary_flat = np.stack([b.reshape(n_bins) for b in barycenters], axis=0)\n",
    "        bary_flat /= bary_flat.sum(axis=1, keepdims=True)\n",
    "\n",
    "        # Step 1: Assignment - assign each distribution to the closest barycenter\n",
    "        assignments = np.zeros(n_samples, dtype=int)\n",
    "        \n",
    "        for i in tqdm(range(n_samples), desc=\"Assigning to barycenters\"):\n",
    "            distances = np.zeros(n_clusters, dtype=float)\n",
    "            for j in range(n_clusters):\n",
    "                distances[j] = ot.emd2(data_flat[i], bary_flat[j], cost_matrix)\n",
    "            assignments[i] = np.argmin(distances)\n",
    "    \n",
    "        # Step 2: Update - recompute the barycenters\n",
    "        barycenters = []\n",
    "        for k in tqdm(range(n_clusters), desc=\"Recomputing barycenters\"):\n",
    "            # Select all members of cluster k\n",
    "            members = data[assignments == k]\n",
    "\n",
    "            # If the cluster is empty, reinitialize with a random sample\n",
    "            if len(members) == 0:\n",
    "                idx = rng.integers(0, data.shape[0])\n",
    "                barycenters.append(data[idx])\n",
    "                continue \n",
    "\n",
    "            # Flatten and transpose to get shape (n_bins, n_members)\n",
    "            A = members.reshape(len(members), n_bins).T\n",
    "\n",
    "            # Compute regularized Wasserstein barycenter\n",
    "            bary_flat = ot.bregman.barycenter(A, cost_matrix, reg)\n",
    "\n",
    "            # Reshape back to original 2D shape\n",
    "            barycenters.append(bary_flat.reshape(shape))\n",
    "\n",
    "    return assignments, barycenters"
   ]
  },
  {
   "cell_type": "code",
   "execution_count": null,
   "id": "0d9f069f",
   "metadata": {},
   "outputs": [
    {
     "data": {
      "application/vnd.jupyter.widget-view+json": {
       "model_id": "964dc8dbeef24246a8fec0aac82b693b",
       "version_major": 2,
       "version_minor": 0
      },
      "text/plain": [
       "Wasserstein clustering iterations:   0%|          | 0/5 [00:00<?, ?it/s]"
      ]
     },
     "metadata": {},
     "output_type": "display_data"
    },
    {
     "data": {
      "application/vnd.jupyter.widget-view+json": {
       "model_id": "8240717c9ce64ac1a7208d261b227be3",
       "version_major": 2,
       "version_minor": 0
      },
      "text/plain": [
       "Assigning to barycenters:   0%|          | 0/14703 [00:00<?, ?it/s]"
      ]
     },
     "metadata": {},
     "output_type": "display_data"
    },
    {
     "data": {
      "application/vnd.jupyter.widget-view+json": {
       "model_id": "60a669216177459a83ef9e471f863b68",
       "version_major": 2,
       "version_minor": 0
      },
      "text/plain": [
       "Recomputing barycenters:   0%|          | 0/3 [00:00<?, ?it/s]"
      ]
     },
     "metadata": {},
     "output_type": "display_data"
    },
    {
     "data": {
      "application/vnd.jupyter.widget-view+json": {
       "model_id": "2b7b1d6dbda14141ab8c9ec0a730644e",
       "version_major": 2,
       "version_minor": 0
      },
      "text/plain": [
       "Assigning to barycenters:   0%|          | 0/14703 [00:00<?, ?it/s]"
      ]
     },
     "metadata": {},
     "output_type": "display_data"
    },
    {
     "data": {
      "application/vnd.jupyter.widget-view+json": {
       "model_id": "df5ec5e20ef04bebb1520af73c62a995",
       "version_major": 2,
       "version_minor": 0
      },
      "text/plain": [
       "Recomputing barycenters:   0%|          | 0/3 [00:00<?, ?it/s]"
      ]
     },
     "metadata": {},
     "output_type": "display_data"
    },
    {
     "data": {
      "application/vnd.jupyter.widget-view+json": {
       "model_id": "684304c73ce14854afa4eb08cd538722",
       "version_major": 2,
       "version_minor": 0
      },
      "text/plain": [
       "Assigning to barycenters:   0%|          | 0/14703 [00:00<?, ?it/s]"
      ]
     },
     "metadata": {},
     "output_type": "display_data"
    },
    {
     "data": {
      "application/vnd.jupyter.widget-view+json": {
       "model_id": "37c33c64736a4d088793ee943b3c891e",
       "version_major": 2,
       "version_minor": 0
      },
      "text/plain": [
       "Recomputing barycenters:   0%|          | 0/3 [00:00<?, ?it/s]"
      ]
     },
     "metadata": {},
     "output_type": "display_data"
    },
    {
     "data": {
      "application/vnd.jupyter.widget-view+json": {
       "model_id": "bc8e50ff65b44574a092282f725dad10",
       "version_major": 2,
       "version_minor": 0
      },
      "text/plain": [
       "Assigning to barycenters:   0%|          | 0/14703 [00:00<?, ?it/s]"
      ]
     },
     "metadata": {},
     "output_type": "display_data"
    },
    {
     "data": {
      "application/vnd.jupyter.widget-view+json": {
       "model_id": "0c3c0e27b54245ebadb65096086ce089",
       "version_major": 2,
       "version_minor": 0
      },
      "text/plain": [
       "Recomputing barycenters:   0%|          | 0/3 [00:00<?, ?it/s]"
      ]
     },
     "metadata": {},
     "output_type": "display_data"
    },
    {
     "data": {
      "application/vnd.jupyter.widget-view+json": {
       "model_id": "1c3a33cd09614f92bab195328aab642f",
       "version_major": 2,
       "version_minor": 0
      },
      "text/plain": [
       "Assigning to barycenters:   0%|          | 0/14703 [00:00<?, ?it/s]"
      ]
     },
     "metadata": {},
     "output_type": "display_data"
    },
    {
     "data": {
      "application/vnd.jupyter.widget-view+json": {
       "model_id": "ebf20abd24394f70b0b14a828a3629a9",
       "version_major": 2,
       "version_minor": 0
      },
      "text/plain": [
       "Recomputing barycenters:   0%|          | 0/3 [00:00<?, ?it/s]"
      ]
     },
     "metadata": {},
     "output_type": "display_data"
    }
   ],
   "source": [
    "assignments, barycenters = bary_WKMeans(\n",
    "    data=joint_distributions,  # (n_iris, 7, 9)\n",
    "    n_clusters=3,\n",
    "    n_iter=5,\n",
    "    reg=0.1,\n",
    "    random_state=42\n",
    ")"
   ]
  },
  {
   "cell_type": "code",
   "execution_count": null,
   "id": "d2140965",
   "metadata": {},
   "outputs": [],
   "source": [
    "# 2 clusters, 1 iter = 20min\n",
    "# 3 clusters, 2 iter = 26min\n",
    "\n",
    "# pour toutes les observations (3 clusters, 5it)\n",
    "# 475min (8h)\n",
    "\n",
    "# pour 1000 observations (3 clusters, 5it)\n",
    "# avec clustering_methods : 37.7\n",
    "# dans le notebook : 36.6"
   ]
  },
  {
   "cell_type": "markdown",
   "id": "f274c8eb",
   "metadata": {},
   "source": [
    "## Clustering based on pairwise distances (D-WKM)"
   ]
  },
  {
   "cell_type": "code",
   "execution_count": null,
   "id": "75945a0e",
   "metadata": {},
   "outputs": [],
   "source": [
    "computeDistanceMatrix(joint_distributions, save=True)"
   ]
  },
  {
   "cell_type": "code",
   "execution_count": null,
   "id": "0764d099",
   "metadata": {},
   "outputs": [],
   "source": [
    "pairwise = np.loadtxt(\"../data/Dis_mat.txt\", dtype=float)"
   ]
  },
  {
   "cell_type": "code",
   "execution_count": null,
   "id": "2c8fd5ca",
   "metadata": {},
   "outputs": [
    {
     "data": {
      "application/vnd.jupyter.widget-view+json": {
       "model_id": "7a304ebae5ac4379b478a335ae4a909f",
       "version_major": 2,
       "version_minor": 0
      },
      "text/plain": [
       "Computing pairwise distance matrix...:   0%|          | 0/14703 [00:00<?, ?it/s]"
      ]
     },
     "metadata": {},
     "output_type": "display_data"
    },
    {
     "ename": "KeyboardInterrupt",
     "evalue": "",
     "output_type": "error",
     "traceback": [
      "\u001b[31m---------------------------------------------------------------------------\u001b[39m",
      "\u001b[31mKeyboardInterrupt\u001b[39m                         Traceback (most recent call last)",
      "\u001b[36mCell\u001b[39m\u001b[36m \u001b[39m\u001b[32mIn[14]\u001b[39m\u001b[32m, line 1\u001b[39m\n\u001b[32m----> \u001b[39m\u001b[32m1\u001b[39m assignments = \u001b[43mwpairwise_clustering\u001b[49m\u001b[43m(\u001b[49m\n\u001b[32m      2\u001b[39m \u001b[43m    \u001b[49m\u001b[43mdata\u001b[49m\u001b[43m=\u001b[49m\u001b[43mjoint_distributions\u001b[49m\u001b[43m,\u001b[49m\u001b[43m  \u001b[49m\u001b[38;5;66;43;03m# (n_iris, 7, 9)\u001b[39;49;00m\n\u001b[32m      3\u001b[39m \u001b[43m    \u001b[49m\u001b[43mn_clusters\u001b[49m\u001b[43m=\u001b[49m\u001b[32;43m3\u001b[39;49m\u001b[43m,\u001b[49m\n\u001b[32m      4\u001b[39m \u001b[43m    \u001b[49m\u001b[43mn_iter\u001b[49m\u001b[43m=\u001b[49m\u001b[32;43m10\u001b[39;49m\u001b[43m,\u001b[49m\n\u001b[32m      5\u001b[39m \u001b[43m    \u001b[49m\u001b[43mrandom_state\u001b[49m\u001b[43m=\u001b[49m\u001b[32;43m42\u001b[39;49m\n\u001b[32m      6\u001b[39m \u001b[43m)\u001b[49m\n",
      "\u001b[36mFile \u001b[39m\u001b[32m~/work/ML-Wasserstein/notebooks/../src/clustering_methods.py:157\u001b[39m, in \u001b[36mwpairwise_clustering\u001b[39m\u001b[34m(data, n_clusters, n_iter, random_state)\u001b[39m\n\u001b[32m    155\u001b[39m \u001b[38;5;28;01mfor\u001b[39;00m i \u001b[38;5;129;01min\u001b[39;00m tqdm(\u001b[38;5;28mrange\u001b[39m(n_samples), desc=\u001b[33m\"\u001b[39m\u001b[33mComputing pairwise distance matrix...\u001b[39m\u001b[33m\"\u001b[39m):\n\u001b[32m    156\u001b[39m     \u001b[38;5;28;01mfor\u001b[39;00m j \u001b[38;5;129;01min\u001b[39;00m \u001b[38;5;28mrange\u001b[39m(i, n_samples):\n\u001b[32m--> \u001b[39m\u001b[32m157\u001b[39m         d = \u001b[43mot\u001b[49m\u001b[43m.\u001b[49m\u001b[43memd2\u001b[49m\u001b[43m(\u001b[49m\u001b[43mdata_flat\u001b[49m\u001b[43m[\u001b[49m\u001b[43mi\u001b[49m\u001b[43m]\u001b[49m\u001b[43m,\u001b[49m\u001b[43m \u001b[49m\u001b[43mdata_flat\u001b[49m\u001b[43m[\u001b[49m\u001b[43mj\u001b[49m\u001b[43m]\u001b[49m\u001b[43m,\u001b[49m\u001b[43m \u001b[49m\u001b[43mcost_matrix\u001b[49m\u001b[43m)\u001b[49m\n\u001b[32m    158\u001b[39m         pairwise_w2[i, j] = d\n\u001b[32m    159\u001b[39m         pairwise_w2[j, i] = d\n",
      "\u001b[36mFile \u001b[39m\u001b[32m/opt/python/lib/python3.13/site-packages/ot/lp/__init__.py:634\u001b[39m, in \u001b[36memd2\u001b[39m\u001b[34m(a, b, M, processes, numItermax, log, return_matrix, center_dual, numThreads, check_marginals)\u001b[39m\n\u001b[32m    631\u001b[39m         \u001b[38;5;28;01mreturn\u001b[39;00m cost\n\u001b[32m    633\u001b[39m \u001b[38;5;28;01mif\u001b[39;00m \u001b[38;5;28mlen\u001b[39m(b.shape) == \u001b[32m1\u001b[39m:\n\u001b[32m--> \u001b[39m\u001b[32m634\u001b[39m     \u001b[38;5;28;01mreturn\u001b[39;00m \u001b[43mf\u001b[49m\u001b[43m(\u001b[49m\u001b[43mb\u001b[49m\u001b[43m)\u001b[49m\n\u001b[32m    635\u001b[39m nb = b.shape[\u001b[32m1\u001b[39m]\n\u001b[32m    637\u001b[39m \u001b[38;5;28;01mif\u001b[39;00m processes > \u001b[32m1\u001b[39m:\n",
      "\u001b[36mFile \u001b[39m\u001b[32m/opt/python/lib/python3.13/site-packages/ot/lp/__init__.py:609\u001b[39m, in \u001b[36memd2.<locals>.f\u001b[39m\u001b[34m(b)\u001b[39m\n\u001b[32m    606\u001b[39m     u, v = center_ot_dual(u, v, a, b)\n\u001b[32m    608\u001b[39m \u001b[38;5;28;01mif\u001b[39;00m np.any(~asel) \u001b[38;5;129;01mor\u001b[39;00m np.any(~bsel):\n\u001b[32m--> \u001b[39m\u001b[32m609\u001b[39m     u, v = \u001b[43mestimate_dual_null_weights\u001b[49m\u001b[43m(\u001b[49m\u001b[43mu\u001b[49m\u001b[43m,\u001b[49m\u001b[43m \u001b[49m\u001b[43mv\u001b[49m\u001b[43m,\u001b[49m\u001b[43m \u001b[49m\u001b[43ma\u001b[49m\u001b[43m,\u001b[49m\u001b[43m \u001b[49m\u001b[43mb\u001b[49m\u001b[43m,\u001b[49m\u001b[43m \u001b[49m\u001b[43mM\u001b[49m\u001b[43m)\u001b[49m\n\u001b[32m    611\u001b[39m \u001b[38;5;28;01mif\u001b[39;00m \u001b[38;5;129;01mnot\u001b[39;00m nx.is_floating_point(type_as):\n\u001b[32m    612\u001b[39m     warnings.warn(\n\u001b[32m    613\u001b[39m         \u001b[33m\"\u001b[39m\u001b[33mInput histogram consists of integer. The transport plan will be \u001b[39m\u001b[33m\"\u001b[39m\n\u001b[32m    614\u001b[39m         \u001b[33m\"\u001b[39m\u001b[33mcasted accordingly, possibly resulting in a loss of precision. \u001b[39m\u001b[33m\"\u001b[39m\n\u001b[32m   (...)\u001b[39m\u001b[32m    617\u001b[39m         stacklevel=\u001b[32m2\u001b[39m,\n\u001b[32m    618\u001b[39m     )\n",
      "\u001b[36mFile \u001b[39m\u001b[32m/opt/python/lib/python3.13/site-packages/ot/lp/__init__.py:210\u001b[39m, in \u001b[36mestimate_dual_null_weights\u001b[39m\u001b[34m(alpha0, beta0, a, b, M)\u001b[39m\n\u001b[32m    208\u001b[39m \u001b[38;5;66;03m# Compute largest violation per line and columns\u001b[39;00m\n\u001b[32m    209\u001b[39m aviol = np.max(constraint_violation, \u001b[32m1\u001b[39m)\n\u001b[32m--> \u001b[39m\u001b[32m210\u001b[39m bviol = \u001b[43mnp\u001b[49m\u001b[43m.\u001b[49m\u001b[43mmax\u001b[49m\u001b[43m(\u001b[49m\u001b[43mconstraint_violation\u001b[49m\u001b[43m,\u001b[49m\u001b[43m \u001b[49m\u001b[32;43m0\u001b[39;49m\u001b[43m)\u001b[49m\n\u001b[32m    212\u001b[39m \u001b[38;5;66;03m# update corrects violation of\u001b[39;00m\n\u001b[32m    213\u001b[39m alpha_up = -\u001b[32m1\u001b[39m * ~asel * np.maximum(aviol, \u001b[32m0\u001b[39m)\n",
      "\u001b[36mFile \u001b[39m\u001b[32m/opt/python/lib/python3.13/site-packages/numpy/_core/fromnumeric.py:3164\u001b[39m, in \u001b[36mmax\u001b[39m\u001b[34m(a, axis, out, keepdims, initial, where)\u001b[39m\n\u001b[32m   3052\u001b[39m \u001b[38;5;129m@array_function_dispatch\u001b[39m(_max_dispatcher)\n\u001b[32m   3053\u001b[39m \u001b[38;5;129m@set_module\u001b[39m(\u001b[33m'\u001b[39m\u001b[33mnumpy\u001b[39m\u001b[33m'\u001b[39m)\n\u001b[32m   3054\u001b[39m \u001b[38;5;28;01mdef\u001b[39;00m\u001b[38;5;250m \u001b[39m\u001b[34mmax\u001b[39m(a, axis=\u001b[38;5;28;01mNone\u001b[39;00m, out=\u001b[38;5;28;01mNone\u001b[39;00m, keepdims=np._NoValue, initial=np._NoValue,\n\u001b[32m   3055\u001b[39m          where=np._NoValue):\n\u001b[32m   3056\u001b[39m \u001b[38;5;250m    \u001b[39m\u001b[33;03m\"\"\"\u001b[39;00m\n\u001b[32m   3057\u001b[39m \u001b[33;03m    Return the maximum of an array or maximum along an axis.\u001b[39;00m\n\u001b[32m   3058\u001b[39m \n\u001b[32m   (...)\u001b[39m\u001b[32m   3162\u001b[39m \u001b[33;03m    5\u001b[39;00m\n\u001b[32m   3163\u001b[39m \u001b[33;03m    \"\"\"\u001b[39;00m\n\u001b[32m-> \u001b[39m\u001b[32m3164\u001b[39m     \u001b[38;5;28;01mreturn\u001b[39;00m \u001b[43m_wrapreduction\u001b[49m\u001b[43m(\u001b[49m\u001b[43ma\u001b[49m\u001b[43m,\u001b[49m\u001b[43m \u001b[49m\u001b[43mnp\u001b[49m\u001b[43m.\u001b[49m\u001b[43mmaximum\u001b[49m\u001b[43m,\u001b[49m\u001b[43m \u001b[49m\u001b[33;43m'\u001b[39;49m\u001b[33;43mmax\u001b[39;49m\u001b[33;43m'\u001b[39;49m\u001b[43m,\u001b[49m\u001b[43m \u001b[49m\u001b[43maxis\u001b[49m\u001b[43m,\u001b[49m\u001b[43m \u001b[49m\u001b[38;5;28;43;01mNone\u001b[39;49;00m\u001b[43m,\u001b[49m\u001b[43m \u001b[49m\u001b[43mout\u001b[49m\u001b[43m,\u001b[49m\n\u001b[32m   3165\u001b[39m \u001b[43m                          \u001b[49m\u001b[43mkeepdims\u001b[49m\u001b[43m=\u001b[49m\u001b[43mkeepdims\u001b[49m\u001b[43m,\u001b[49m\u001b[43m \u001b[49m\u001b[43minitial\u001b[49m\u001b[43m=\u001b[49m\u001b[43minitial\u001b[49m\u001b[43m,\u001b[49m\u001b[43m \u001b[49m\u001b[43mwhere\u001b[49m\u001b[43m=\u001b[49m\u001b[43mwhere\u001b[49m\u001b[43m)\u001b[49m\n",
      "\u001b[36mFile \u001b[39m\u001b[32m/opt/python/lib/python3.13/site-packages/numpy/_core/fromnumeric.py:86\u001b[39m, in \u001b[36m_wrapreduction\u001b[39m\u001b[34m(obj, ufunc, method, axis, dtype, out, **kwargs)\u001b[39m\n\u001b[32m     83\u001b[39m         \u001b[38;5;28;01melse\u001b[39;00m:\n\u001b[32m     84\u001b[39m             \u001b[38;5;28;01mreturn\u001b[39;00m reduction(axis=axis, out=out, **passkwargs)\n\u001b[32m---> \u001b[39m\u001b[32m86\u001b[39m \u001b[38;5;28;01mreturn\u001b[39;00m \u001b[43mufunc\u001b[49m\u001b[43m.\u001b[49m\u001b[43mreduce\u001b[49m\u001b[43m(\u001b[49m\u001b[43mobj\u001b[49m\u001b[43m,\u001b[49m\u001b[43m \u001b[49m\u001b[43maxis\u001b[49m\u001b[43m,\u001b[49m\u001b[43m \u001b[49m\u001b[43mdtype\u001b[49m\u001b[43m,\u001b[49m\u001b[43m \u001b[49m\u001b[43mout\u001b[49m\u001b[43m,\u001b[49m\u001b[43m \u001b[49m\u001b[43m*\u001b[49m\u001b[43m*\u001b[49m\u001b[43mpasskwargs\u001b[49m\u001b[43m)\u001b[49m\n",
      "\u001b[31mKeyboardInterrupt\u001b[39m: "
     ]
    }
   ],
   "source": [
    "assignments = dist_WKMeans(data=joint_distributions, dist_matrix=pairwise, n_clusters=3, n_iter=10, random_state=42)\n"
   ]
  },
  {
   "cell_type": "code",
   "execution_count": 15,
   "id": "53002e31",
   "metadata": {},
   "outputs": [],
   "source": [
    "# pour 1000 observations (3 clusters, 5it)\n",
    "# clustering_methods : 2m35.2\n",
    "\n",
    "# pour toutes les observations (3 clusters, 5it) 532min, 67% calcul de la matrice"
   ]
  },
  {
   "cell_type": "code",
   "execution_count": null,
   "id": "6871413d",
   "metadata": {},
   "outputs": [
    {
     "name": "stdout",
     "output_type": "stream",
     "text": [
      "--- Barycentre 0 ---\n",
      "Shape: (7, 9)\n",
      "Min: 3.08e-14\n",
      "Max: 8.03e-02\n",
      "Sum: 1.000000\n",
      "Contains NaN: False\n",
      "Zero elements: 0 / 63\n",
      "\n",
      "--- Barycentre 1 ---\n",
      "Shape: (7, 9)\n",
      "Min: 5.19e-28\n",
      "Max: 9.24e-02\n",
      "Sum: 1.000000\n",
      "Contains NaN: False\n",
      "Zero elements: 0 / 63\n",
      "\n",
      "--- Barycentre 2 ---\n",
      "Shape: (7, 9)\n",
      "Min: 2.66e-30\n",
      "Max: 9.35e-02\n",
      "Sum: 1.000000\n",
      "Contains NaN: False\n",
      "Zero elements: 0 / 63\n",
      "\n"
     ]
    }
   ],
   "source": [
    "for i, b in enumerate(barycenters):\n",
    "    print(f\"--- Barycentre {i} ---\")\n",
    "    print(f\"Shape: {b.shape}\")\n",
    "    print(f\"Min: {b.min():.2e}\")\n",
    "    print(f\"Max: {b.max():.2e}\")\n",
    "    print(f\"Sum: {b.sum():.6f}\")\n",
    "    print(f\"Contains NaN: {np.isnan(b).any()}\")\n",
    "    print(f\"Zero elements: {np.sum(b == 0)} / {b.size}\")\n",
    "    print()\n"
   ]
  },
  {
   "cell_type": "code",
   "execution_count": null,
   "id": "f8f2a89f",
   "metadata": {},
   "outputs": [
    {
     "data": {
      "image/png": "[encoded data removed]",
      "text/plain": [
       "<Figure size 600x500 with 2 Axes>"
      ]
     },
     "metadata": {},
     "output_type": "display_data"
    },
    {
     "data": {
      "image/png": "[encoded data removed]",
      "text/plain": [
       "<Figure size 600x500 with 2 Axes>"
      ]
     },
     "metadata": {},
     "output_type": "display_data"
    },
    {
     "data": {
      "image/png": "[encoded data removed]",
      "text/plain": [
       "<Figure size 600x500 with 2 Axes>"
      ]
     },
     "metadata": {},
     "output_type": "display_data"
    }
   ],
   "source": [
    "for i, barycenter in enumerate(barycenters):\n",
    "    plt.figure(figsize=(6, 5))\n",
    "    plt.imshow(barycenter, cmap='viridis', aspect='auto')\n",
    "    plt.colorbar(label=\"Probability\")\n",
    "    plt.title(f\"Barycentre {i+1}\")\n",
    "    plt.xlabel(\"Décile\")\n",
    "    plt.ylabel(\"Classe d'âge\")\n",
    "    plt.tight_layout()\n",
    "    plt.show()\n"
   ]
  },
  {
   "cell_type": "code",
   "execution_count": null,
   "id": "aa0f50aa",
   "metadata": {},
   "outputs": [],
   "source": [
    "k_values = range(1, 11)\n",
    "\n",
    "inertias = []\n",
    "for k_test in tqdm(k_values):\n",
    "    assignments, barycenters = wbarycenter_clustering(\n",
    "    data=joint_distributions,  # (n_iris, 7, 9)\n",
    "    n_clusters=k_test,\n",
    "    n_iter=5,\n",
    "    reg=0.1,\n",
    "    random_state=42\n",
    ")\n",
    "    inertia = 0\n",
    "    for i in range(n_distributions):\n",
    "        bary = barycenters[assignments[i]]\n",
    "        inertia += ot.wasserstein_1d(support, support, distributions[i], bary)\n",
    "    inertias.append(inertia)\n",
    "\n",
    "plt.figure(figsize=(8, 5))\n",
    "plt.plot(k_values, inertias, marker='o')\n",
    "plt.title(\"Elbow Method for Optimal k\")\n",
    "plt.xlabel(\"Number of clusters k\")\n",
    "plt.ylabel(\"Total within-cluster Wasserstein distance\")\n",
    "plt.grid(True)\n",
    "plt.show()\n",
    "\n"
   ]
  }
 ],
 "metadata": {
  "kernelspec": {
   "display_name": "Python 3",
   "language": "python",
   "name": "python3"
  },
  "language_info": {
   "codemirror_mode": {
    "name": "ipython",
    "version": 3
   },
   "file_extension": ".py",
   "mimetype": "text/x-python",
   "name": "python",
   "nbconvert_exporter": "python",
   "pygments_lexer": "ipython3",
   "version": "3.13.5"
  }
 },
 "nbformat": 4,
 "nbformat_minor": 5
}
