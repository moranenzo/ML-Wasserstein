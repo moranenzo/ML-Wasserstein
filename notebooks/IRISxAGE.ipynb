{
 "cells": [
  {
   "cell_type": "markdown",
   "id": "5ffabd62",
   "metadata": {},
   "source": [
    "# Clustering over INCOME and AGE across the IRIS"
   ]
  },
  {
   "cell_type": "markdown",
   "id": "eede670c",
   "metadata": {},
   "source": [
    "# Import"
   ]
  },
  {
   "cell_type": "code",
   "execution_count": 1,
   "id": "fa2bc375",
   "metadata": {},
   "outputs": [
    {
     "name": "stdout",
     "output_type": "stream",
     "text": [
      "Requirement already satisfied: openpyxl in /opt/python/lib/python3.13/site-packages (3.1.5)\n",
      "Requirement already satisfied: et-xmlfile in /opt/python/lib/python3.13/site-packages (from openpyxl) (2.0.0)\n",
      "Note: you may need to restart the kernel to use updated packages.\n",
      "Requirement already satisfied: ipywidgets in /opt/python/lib/python3.13/site-packages (8.1.7)\n",
      "Requirement already satisfied: comm>=0.1.3 in /opt/python/lib/python3.13/site-packages (from ipywidgets) (0.2.3)\n",
      "Requirement already satisfied: ipython>=6.1.0 in /opt/python/lib/python3.13/site-packages (from ipywidgets) (9.4.0)\n",
      "Requirement already satisfied: traitlets>=4.3.1 in /opt/python/lib/python3.13/site-packages (from ipywidgets) (5.14.3)\n",
      "Requirement already satisfied: widgetsnbextension~=4.0.14 in /opt/python/lib/python3.13/site-packages (from ipywidgets) (4.0.14)\n",
      "Requirement already satisfied: jupyterlab_widgets~=3.0.15 in /opt/python/lib/python3.13/site-packages (from ipywidgets) (3.0.15)\n",
      "Requirement already satisfied: decorator in /opt/python/lib/python3.13/site-packages (from ipython>=6.1.0->ipywidgets) (5.2.1)\n",
      "Requirement already satisfied: ipython-pygments-lexers in /opt/python/lib/python3.13/site-packages (from ipython>=6.1.0->ipywidgets) (1.1.1)\n",
      "Requirement already satisfied: jedi>=0.16 in /opt/python/lib/python3.13/site-packages (from ipython>=6.1.0->ipywidgets) (0.19.2)\n",
      "Requirement already satisfied: matplotlib-inline in /opt/python/lib/python3.13/site-packages (from ipython>=6.1.0->ipywidgets) (0.1.7)\n",
      "Requirement already satisfied: pexpect>4.3 in /opt/python/lib/python3.13/site-packages (from ipython>=6.1.0->ipywidgets) (4.9.0)\n",
      "Requirement already satisfied: prompt_toolkit<3.1.0,>=3.0.41 in /opt/python/lib/python3.13/site-packages (from ipython>=6.1.0->ipywidgets) (3.0.51)\n",
      "Requirement already satisfied: pygments>=2.4.0 in /opt/python/lib/python3.13/site-packages (from ipython>=6.1.0->ipywidgets) (2.19.2)\n",
      "Requirement already satisfied: stack_data in /opt/python/lib/python3.13/site-packages (from ipython>=6.1.0->ipywidgets) (0.6.3)\n",
      "Requirement already satisfied: wcwidth in /opt/python/lib/python3.13/site-packages (from prompt_toolkit<3.1.0,>=3.0.41->ipython>=6.1.0->ipywidgets) (0.2.13)\n",
      "Requirement already satisfied: parso<0.9.0,>=0.8.4 in /opt/python/lib/python3.13/site-packages (from jedi>=0.16->ipython>=6.1.0->ipywidgets) (0.8.4)\n",
      "Requirement already satisfied: ptyprocess>=0.5 in /opt/python/lib/python3.13/site-packages (from pexpect>4.3->ipython>=6.1.0->ipywidgets) (0.7.0)\n",
      "Requirement already satisfied: executing>=1.2.0 in /opt/python/lib/python3.13/site-packages (from stack_data->ipython>=6.1.0->ipywidgets) (2.2.0)\n",
      "Requirement already satisfied: asttokens>=2.1.0 in /opt/python/lib/python3.13/site-packages (from stack_data->ipython>=6.1.0->ipywidgets) (3.0.0)\n",
      "Requirement already satisfied: pure-eval in /opt/python/lib/python3.13/site-packages (from stack_data->ipython>=6.1.0->ipywidgets) (0.2.3)\n",
      "Note: you may need to restart the kernel to use updated packages.\n",
      "Requirement already satisfied: pot in /opt/python/lib/python3.13/site-packages (0.9.5)\n",
      "Requirement already satisfied: numpy>=1.16 in /opt/python/lib/python3.13/site-packages (from pot) (2.3.2)\n",
      "Requirement already satisfied: scipy>=1.6 in /opt/python/lib/python3.13/site-packages (from pot) (1.16.1)\n",
      "Note: you may need to restart the kernel to use updated packages.\n"
     ]
    }
   ],
   "source": [
    "%pip install openpyxl   # for pd.read_excel\n",
    "%pip install ipywidgets # for tqdm.notebook\n",
    "%pip install pot        # for ot"
   ]
  },
  {
   "cell_type": "code",
   "execution_count": 2,
   "id": "ee013e46",
   "metadata": {},
   "outputs": [],
   "source": [
    "import numpy as np\n",
    "import ot\n",
    "import pandas as pd\n",
    "import matplotlib.pyplot as plt\n",
    "from joblib import Parallel, delayed\n",
    "from tqdm.notebook import tqdm\n",
    "import geopandas as gpd\n",
    "\n",
    "from sklearn.decomposition import PCA\n",
    "from sklearn.cluster import KMeans\n",
    "\n",
    "import sys\n",
    "sys.path.append(\"..\")\n",
    "\n",
    "\n",
    "from src import (\n",
    "    bary_WKMeans,        # Wasserstein K-Means using barycenters\n",
    "    dist_WKMeans,         # Wasserstein K-Means using pairwise distances\n",
    "    reconstruct_joint_distribution,\n",
    "    normalize_supports,\n",
    "    create_regular_grid,\n",
    "    project_distribution_on_grid,\n",
    "    computeDistanceMatrix,\n",
    "    compute_barycenter_for_cluster,\n",
    "    plot_projected_distributions\n",
    ")"
   ]
  },
  {
   "cell_type": "markdown",
   "id": "256a2d6e",
   "metadata": {},
   "source": [
    "### Income Deciles per IRIS"
   ]
  },
  {
   "cell_type": "code",
   "execution_count": 3,
   "id": "7e9db764",
   "metadata": {},
   "outputs": [],
   "source": [
    "# Load income deciles dataset\n",
    "df_income = pd.read_csv('../data/BASE_TD_FILO_DEC_IRIS_2020.csv', sep=';', decimal=',')\n",
    "\n",
    "decile_cols = ['DEC_D120', 'DEC_D220', 'DEC_D320', 'DEC_D420', 'DEC_MED20', 'DEC_D620', 'DEC_D720', 'DEC_D820', 'DEC_D920']\n",
    "\n",
    "# Convert from object to float64\n",
    "df_income[decile_cols] = df_income[decile_cols].apply(pd.to_numeric, errors='coerce')\n",
    "\n",
    "# Drop the 1319 rows with missing deciles\n",
    "df_income = df_income.dropna(subset=decile_cols).reset_index(drop=True)\n",
    "\n",
    "# Useful \n",
    "colors = ['cornflowerblue', 'forestgreen', 'red', 'deeppink', 'orange', 'brown', 'purple']\n",
    "age_groups = [\"0_17\", \"18_29\", \"30_39\", \"40_49\", \"50_64\", \"65_74\", \"75P\"]"
   ]
  },
  {
   "cell_type": "markdown",
   "id": "62ccd981",
   "metadata": {},
   "source": [
    "### Average Income per age"
   ]
  },
  {
   "cell_type": "code",
   "execution_count": 4,
   "id": "2d0ab763",
   "metadata": {},
   "outputs": [],
   "source": [
    "# Load Excel file containing median income by age\n",
    "df_income_age = pd.read_excel(\"../data/reve-niv-vie-individu-age-med.xlsx\", skiprows=3)\n",
    "\n",
    "# Keep only the 2020 column\n",
    "df_income_age = df_income_age[[\"Tranche d’âge\", '2020³ ⁴']]\n",
    "\n",
    "df_income_age = df_income_age.rename(columns={'2020³ ⁴': \"MEDIAN_INCOME\"})\n",
    "\n",
    "# Standardize age group labels\n",
    "renaming_dict = {\n",
    "    \"Moins de 18 ans\": \"0_17\",\n",
    "    \"De 18 à 29 ans\": \"18_29\",\n",
    "    \"De 30 à 39 ans\": \"30_39\",\n",
    "    \"De 40 à 49 ans\": \"40_49\",\n",
    "    \"De 50 à 64 ans\": \"50_64\",\n",
    "    \"De 65 à 74 ans\": \"65_74\",\n",
    "    \"75 ans et plus\": \"75P\"\n",
    "}\n",
    "df_income_age[\"AGE_GROUP\"] = df_income_age[\"Tranche d’âge\"].replace(renaming_dict)\n",
    "\n",
    "# Keep only the rows with age groups we care about\n",
    "df_income_age = df_income_age[df_income_age['AGE_GROUP'].isin(age_groups)].reset_index(drop=True)\n",
    "\n",
    "# Keep only relevant columns\n",
    "df_income_age = df_income_age[[\"AGE_GROUP\", \"MEDIAN_INCOME\"]]\n"
   ]
  },
  {
   "cell_type": "markdown",
   "id": "a0674967",
   "metadata": {},
   "source": [
    "### Population per age "
   ]
  },
  {
   "cell_type": "markdown",
   "id": "e2133701",
   "metadata": {},
   "source": [
    "To apply our algorithms using income by age group, we need to estimate the population in each corresponding age range for every IRIS. However, the INSEE population dataset provides age groupings that do not match exactly with those used in the national income-by-age statistics. To reconcile the two, we reconstruct the target age groups — (0–17), (18–29), (30–39), (40–49), (50–64), (65–74), and 75+ — by combining and subtracting available groups from the population dataset. In some cases, we rely on approximations (e.g., estimating the 45–54 group to split 40–49 and 50–64) to ensure consistency with the income data structure. This harmonization step is essential to later compute joint distributions of age and income at the IRIS level."
   ]
  },
  {
   "cell_type": "code",
   "execution_count": 7,
   "id": "b8373101",
   "metadata": {},
   "outputs": [],
   "source": [
    "# Load population structure dataset\n",
    "df_pop_temp = pd.read_excel(\"../data/base-ic-evol-struct-pop-2020.xlsx\", sheet_name=0, skiprows=5)\n",
    "\n",
    "\n",
    "# Compute aggregated age groups manually from available columns\n",
    "\n",
    "df_pop_temp[\"AGE_0_17\"] = (\n",
    "    df_pop_temp[\"P20_POP0002\"] + df_pop_temp[\"P20_POP0305\"]\n",
    "    + df_pop_temp[\"P20_POP0610\"] + df_pop_temp[\"P20_POP1117\"]\n",
    ")\n",
    "\n",
    "df_pop_temp[\"AGE_18_29\"] = (\n",
    "    df_pop_temp[\"P20_POP0014\"] + df_pop_temp[\"P20_POP1529\"]\n",
    "    - df_pop_temp[\"AGE_0_17\"]\n",
    ")\n",
    "\n",
    "df_pop_temp[\"AGE_30_39\"] = (\n",
    "    df_pop_temp[\"P20_POP2539\"] + df_pop_temp[\"P20_POP1824\"]\n",
    "    - df_pop_temp[\"AGE_18_29\"]\n",
    ")\n",
    "\n",
    "# AGE_40_49 and AGE_50_64 are approximated using partial overlaps\n",
    "\n",
    "# Total for 45–54 age group (approximate intermediate)\n",
    "df_pop_temp[\"AGE_45_54\"] = (\n",
    "    df_pop_temp[\"AGE_0_17\"] + df_pop_temp[\"P20_POP1824\"]\n",
    "    + df_pop_temp[\"P20_POP2539\"] + df_pop_temp[\"P20_POP4054\"]\n",
    "    - (df_pop_temp[\"P20_POP0014\"] + df_pop_temp[\"P20_POP1529\"] + df_pop_temp[\"P20_POP3044\"])\n",
    ")\n",
    "\n",
    "# Estimate 40–49 from 40–54 minus half of 45–54\n",
    "df_pop_temp[\"AGE_40_49\"] = df_pop_temp[\"P20_POP4054\"] - 0.5 * df_pop_temp[\"AGE_45_54\"]\n",
    "\n",
    "# Estimate 50–64 from 55–64 plus half of 45–54\n",
    "df_pop_temp[\"AGE_50_64\"] = df_pop_temp[\"P20_POP5564\"] + 0.5 * df_pop_temp[\"AGE_45_54\"]\n",
    "\n",
    "# Compute directly available age group\n",
    "df_pop_temp[\"AGE_65_74\"] = df_pop_temp[\"P20_POP65P\"] - df_pop_temp[\"P20_POP75P\"]\n",
    "\n",
    "# Rename age columns to standard format\n",
    "df_pop_temp[\"0_17\"] = df_pop_temp[\"AGE_0_17\"]\n",
    "df_pop_temp[\"18_29\"] = df_pop_temp[\"AGE_18_29\"]\n",
    "df_pop_temp[\"30_39\"] = df_pop_temp[\"AGE_30_39\"]\n",
    "df_pop_temp[\"40_49\"] = df_pop_temp[\"AGE_40_49\"]\n",
    "df_pop_temp[\"50_64\"] = df_pop_temp[\"AGE_50_64\"]\n",
    "df_pop_temp[\"65_74\"] = df_pop_temp[\"AGE_65_74\"]\n",
    "df_pop_temp[\"75P\"] = df_pop_temp[\"P20_POP75P\"]\n",
    "\n",
    "# Final columns to keep\n",
    "final_cols = [\"IRIS\"] + age_groups\n",
    "\n",
    "df_pop = df_pop_temp[final_cols]\n"
   ]
  },
  {
   "cell_type": "markdown",
   "id": "6136029b",
   "metadata": {},
   "source": [
    "## Joint Age-Income Distributions"
   ]
  },
  {
   "cell_type": "markdown",
   "id": "4407567c",
   "metadata": {},
   "source": [
    "### Reconstructing the joint age–income distribution"
   ]
  },
  {
   "cell_type": "markdown",
   "id": "97469093",
   "metadata": {},
   "source": [
    "For each IRIS, we reconstruct a joint probability distribution π over age groups and income levels. The marginal distributions are:\n",
    "* the age distribution of the IRIS (based on population counts per age group), and\n",
    "* a uniform distribution over the income deciles observed in the IRIS.\n",
    "\n",
    "We use optimal transport to find the coupling π that best aligns the income levels with the national average income for each age group, minimizing the cost:\n",
    "\n",
    "$$\n",
    "C_{i,j} = |R_j - m(T_i)|\n",
    "$$\n",
    "\n",
    "where $R_j$ is the j-th income level (decile), and $m(T_i)$ is the national average income for age group $T_i$.\n",
    "\n",
    "The result is a joint distribution π, interpreted as the most plausible alignment between age and income in the IRIS, under minimal deviation from national trends."
   ]
  },
  {
   "cell_type": "markdown",
   "id": "15c1e39e",
   "metadata": {},
   "source": [
    "### Computation for Each IRIS"
   ]
  },
  {
   "cell_type": "code",
   "execution_count": 8,
   "id": "0bcd8f52",
   "metadata": {},
   "outputs": [
    {
     "data": {
      "application/vnd.jupyter.widget-view+json": {
       "model_id": "a43de184ddc049f9ba23ae4a38370373",
       "version_major": 2,
       "version_minor": 0
      },
      "text/plain": [
       "  0%|          | 0/14703 [00:00<?, ?it/s]"
      ]
     },
     "metadata": {},
     "output_type": "display_data"
    }
   ],
   "source": [
    "# National median income per age group\n",
    "age_income_medians = df_income_age.set_index(\"AGE_GROUP\").loc[age_groups, \"MEDIAN_INCOME\"].to_numpy()\n",
    "\n",
    "# Identify IRIS codes present in both datasets\n",
    "common_iris = sorted(set(df_income[\"IRIS\"]).intersection(df_pop[\"IRIS\"]))\n",
    "\n",
    "joint_distributions = []\n",
    "joint_supports = []\n",
    "iris_ids = []\n",
    "\n",
    "# Compute joint distribution per IRIS\n",
    "for iris in tqdm(common_iris):\n",
    "    row_income = df_income[df_income[\"IRIS\"] == iris]\n",
    "    row_pop = df_pop[df_pop[\"IRIS\"] == iris]\n",
    "\n",
    "    if row_income.empty or row_pop.empty:\n",
    "        continue  # Skip if data is missing\n",
    "\n",
    "    age_counts = row_pop.iloc[0][age_groups].to_numpy()\n",
    "    age_weights = age_counts / age_counts.sum()\n",
    "\n",
    "    income_deciles = row_income.iloc[0][decile_cols].to_numpy()\n",
    "\n",
    "    # Compute the joint distribution π using optimal transport\n",
    "    pi, supp= reconstruct_joint_distribution(age_weights, income_deciles, age_income_medians)\n",
    "\n",
    "    joint_supports.append(supp)\n",
    "    joint_distributions.append(pi)\n",
    "    iris_ids.append(iris)\n",
    "\n",
    "# Normalize and stack joint distributions into tensors\n",
    "joint_supports, support_min, support_max = normalize_supports(joint_supports)\n",
    "joint_supports = np.stack(joint_supports)\n",
    "joint_distributions = np.stack(joint_distributions)\n"
   ]
  },
  {
   "cell_type": "markdown",
   "id": "eba4a6fd",
   "metadata": {},
   "source": [
    "We now have 14,703 distributions, each defined by a support and a probability mass over that support.\n",
    "These distributions do not share a common support, as each one is defined over `age_group × {income deciles specific to the IRIS}`.\n",
    "\n",
    "Since our goal is to perform clustering and computing Wasserstein distances between distributions with different supports is computationally expensive, we project all distributions onto a common 20×20 regular grid."
   ]
  },
  {
   "cell_type": "markdown",
   "id": "b0e0363a",
   "metadata": {},
   "source": [
    "### Projection onto the common grid"
   ]
  },
  {
   "cell_type": "code",
   "execution_count": 9,
   "id": "cfddd9a4",
   "metadata": {},
   "outputs": [],
   "source": [
    "# Create a regular 20×20 grid over the age-income space\n",
    "grid = create_regular_grid(n_bins_age=20, n_bins_income=20)\n",
    "\n",
    "# Project each joint distribution onto the common grid\n",
    "distributions = np.array([\n",
    "    project_distribution_on_grid(supp.reshape(-1, 2), dist.flatten(), grid)\n",
    "    for supp, dist in zip(joint_supports, joint_distributions)\n",
    "])\n"
   ]
  },
  {
   "cell_type": "code",
   "execution_count": 10,
   "id": "dc94a3e1",
   "metadata": {},
   "outputs": [
    {
     "name": "stdout",
     "output_type": "stream",
     "text": [
      "Visualizing distribution for IRIS index 7408\n"
     ]
    },
    {
     "data": {
      "image/png": "[encoded data removed]",
      "text/plain": [
       "<Figure size 1500x400 with 4 Axes>"
      ]
     },
     "metadata": {},
     "output_type": "display_data"
    }
   ],
   "source": [
    "i = np.random.randint(0, len(distributions) - 1)\n",
    "print(f\"Visualizing distribution for IRIS index {i}\")\n",
    "plot_projected_distributions(\n",
    "    distributions[i],\n",
    "    grid_shape=(20, 20),\n",
    "    support_min=support_min,\n",
    "    support_max=support_max\n",
    ")"
   ]
  },
  {
   "cell_type": "markdown",
   "id": "2e514f4a",
   "metadata": {},
   "source": [
    "# Clustering"
   ]
  },
  {
   "cell_type": "code",
   "execution_count": 11,
   "id": "731b64a9",
   "metadata": {},
   "outputs": [],
   "source": [
    "data = distributions\n",
    "n_clusters = 3\n",
    "random_state = 42\n",
    "reg = 1e-1\n",
    "\n",
    "n_samples, n_bins = data.shape\n",
    "rng = np.random.default_rng(random_state)\n",
    "\n",
    "cost_matrix = ot.dist(grid, grid)"
   ]
  },
  {
   "cell_type": "markdown",
   "id": "20b904e3",
   "metadata": {},
   "source": [
    "## Introduction to Wasserstein K-means"
   ]
  },
  {
   "cell_type": "markdown",
   "id": "d6079ec7",
   "metadata": {},
   "source": [
    "### Distance in the Wasserstein space\n",
    "\n",
    "We now aim to cluster the IRIS units based on the joint distributions constructed earlier.\n",
    "\n",
    "To apply a K-means algorithm to this type of data, we need a meaningful distance between distributions.  \n",
    "We choose the Earth Mover’s Distance (EMD), which corresponds to the 1-Wasserstein distance. It naturally arises from the Kantorovich formulation of the optimal transport problem:\n",
    "\n",
    "$$\n",
    "\\min_{\\pi \\in \\mathbb{R}_+^{n \\times m}} \\sum_{i=1}^n \\sum_{j=1}^m \\pi_{ij} M_{ij}\n",
    "\\quad \\text{subject to} \\quad\n",
    "\\sum_j \\pi_{ij} = a_i,\\quad\n",
    "\\sum_i \\pi_{ij} = b_j\n",
    "$$\n",
    "\n",
    "Where:\n",
    "\n",
    "- $\\pi$ is the transport plan between distributions $a$ and $b$\n",
    "- $M_{ij}$ is the cost of transporting one unit of mass from point $i$ to point $j$\n",
    "- $a$ and $b$ are probability distributions supported on $n$ and $m$ points, respectively\n",
    "\n",
    "The result of this optimization is the minimal total cost of transporting the mass from $a$ to $b$, and defines the Wasserstein distance $W_1(a, b)$.\n",
    "\n",
    "In our case, each distribution is defined over a common 2D grid (age × income), and we use this fixed support to compute pairwise distances.\n",
    "\n",
    "This distance is easily computable using the [POT library](https://pythonot.github.io/), via:\n",
    "\n",
    "```python\n",
    "cost = ot.emd2(a, b, M)\n",
    "````\n",
    "\n",
    "Where:\n",
    "\n",
    "* `a` and `b` are 1D probability vectors (flattened distributions on the grid), with non-negative entries summing to 1\n",
    "* `M` is a cost matrix of shape `(n, n)` where `M[i, j]` is the ground cost between grid points `i` and `j`\n",
    "\n"
   ]
  },
  {
   "cell_type": "markdown",
   "id": "cfe7c4ff",
   "metadata": {},
   "source": [
    "### Cost matrix for Wasserstein distance\n",
    "\n",
    "Since all our distributions have been projected onto a common 2D grid (age × income), they share the same discrete support.  \n",
    "Each bin corresponds to a pair of indices $(\\text{age\\_idx}, \\text{income\\_idx})$, and this fixed structure allows us to define a single cost matrix for all pairwise distance computations.\n",
    "\n",
    "We define the ground cost as the Euclidean distance between bins on the grid:\n",
    "\n",
    "```python\n",
    "coords = [(i, j) for i in range(20) for j in range(20)]\n",
    "cost_matrix = ot.dist(coords, coords)\n",
    "````\n",
    "\n",
    "This cost matrix represents the transport cost between all pairs of bins. Since the grid is shared across all IRIS distributions, we only need to compute this matrix once.\n",
    "\n",
    "As is standard in optimal transport, the cost matrix is entirely independent of the specific distributions. It depends only on how we define the locations of the support bins."
   ]
  },
  {
   "cell_type": "markdown",
   "id": "b4518284",
   "metadata": {},
   "source": [
    "## Clustering based on barycenters (B-WKM)"
   ]
  },
  {
   "cell_type": "markdown",
   "id": "abadb4f5",
   "metadata": {},
   "source": [
    "### Explanation"
   ]
  },
  {
   "cell_type": "markdown",
   "id": "7f3d043d",
   "metadata": {},
   "source": [
    "This **centroid-based Wasserstein K-means** extends the classical Lloyd’s K-means to the space of probability measures by replacing Euclidean centroids and norms with **Wasserstein barycenters** and $W_2^2$ distances. As outlined by Domazakis et al. (2019) and formalized by Zhuang et al. (2022), the algorithm iteratively alternates between assignment and update (see below)."
   ]
  },
  {
   "cell_type": "markdown",
   "id": "afa77f6c",
   "metadata": {},
   "source": [
    "* **Assignment step**: at each iteration, assign each distribution $\\mu_i$ to the cluster whose centroid (a Wasserstein barycenter $\\nu_k$) minimizes $W_2(\\mu_i, \\nu_k)$."
   ]
  },
  {
   "cell_type": "code",
   "execution_count": 12,
   "id": "25ebea37",
   "metadata": {},
   "outputs": [
    {
     "data": {
      "application/vnd.jupyter.widget-view+json": {
       "model_id": "4406cd206de04389aa192d2f030a1c88",
       "version_major": 2,
       "version_minor": 0
      },
      "text/plain": [
       "Assigning to barycenters:   0%|          | 0/14703 [00:00<?, ?it/s]"
      ]
     },
     "metadata": {},
     "output_type": "display_data"
    }
   ],
   "source": [
    "# Normalize input distributions\n",
    "data = data / data.sum(axis=1, keepdims=True)\n",
    "\n",
    "# Initialize barycenters randomly\n",
    "indices = rng.choice(n_samples, size=n_clusters, replace=False)\n",
    "barycenters = data[indices].copy()\n",
    "\n",
    "assignments = np.full(n_samples, -1)\n",
    "\n",
    "# Method 1 (explicit and easy to understand)\n",
    "distances = np.array([\n",
    "    [ot.emd2(data[i], barycenters[k], cost_matrix) for k in range(n_clusters)]\n",
    "    for i in tqdm(range(n_samples), desc=\"Assigning to barycenters\")\n",
    "])\n",
    "assignments = distances.argmin(axis=1)\n"
   ]
  },
  {
   "cell_type": "markdown",
   "id": "94bec348",
   "metadata": {},
   "source": [
    "> *Note:* For improved performance, a parallelized version of this step is used in the complete `bary_WKM` algorithm. It leverages `joblib` to compute distances concurrently."
   ]
  },
  {
   "cell_type": "markdown",
   "id": "a23592d9",
   "metadata": {},
   "source": [
    "* **Centroid update step**: recompute each cluster’s centroid as the Wasserstein barycenter of all $\\mu_i$ in that cluster—i.e., solve \n",
    "\n",
    "$$\n",
    "\\nu_k = \\arg \\min_{\\nu} \\frac 1 {|G_k|} \\sum_{i \\in G_k} W_2^2(\\mu_i,\\nu)\n",
    "$$\n"
   ]
  },
  {
   "cell_type": "code",
   "execution_count": 13,
   "id": "00a878ac",
   "metadata": {},
   "outputs": [
    {
     "data": {
      "application/vnd.jupyter.widget-view+json": {
       "model_id": "aa36839db95a47b98db70953945fefe1",
       "version_major": 2,
       "version_minor": 0
      },
      "text/plain": [
       "Computing barycenters:   0%|          | 0/3 [00:00<?, ?it/s]"
      ]
     },
     "metadata": {},
     "output_type": "display_data"
    }
   ],
   "source": [
    "barycenters = []\n",
    "for k in tqdm(range(n_clusters), desc=\"Computing barycenters\"):\n",
    "    indices_k = np.where(assignments == k)[0]\n",
    "    if len(indices_k) == 0:\n",
    "        # Empty cluster: reinitialize barycenter randomly\n",
    "        rng_k = np.random.default_rng(seeds[k])\n",
    "        barycenters.append(data[rng_k.integers(0, n_samples)])\n",
    "    else:\n",
    "        # Extract histograms for cluster k (shape: n_bins x n_samples_in_cluster)\n",
    "        cluster_hists = data[indices_k].T\n",
    "        # Compute Wasserstein barycenter with entropic regularization\n",
    "        bary = ot.bregman.barycenter(cluster_hists, cost_matrix, reg)\n",
    "        barycenters.append(bary)\n"
   ]
  },
  {
   "cell_type": "markdown",
   "id": "cd9dad25",
   "metadata": {},
   "source": [
    "> **Note:** We also use a parallelized version of this step in the complete `bary_WKM` algorithm. It leverages `joblib` to compute each barycenter concurrently and improve performance.\n",
    ">\n",
    "> To ensure reproducibility across processes, we do **not** reuse a shared `rng` (which isn’t process-safe). Instead, we pre-generate a list of random seeds. Each process then creates its own local RNG using its assigned seed, ensuring both randomness and determinism. This avoids subtle bugs that can arise when sharing random state across parallel workers.\n"
   ]
  },
  {
   "cell_type": "markdown",
   "id": "996a0f1e",
   "metadata": {},
   "source": [
    "While intuitive, this method can suffer from irregularity and instability in barycenters due to the non‑Euclidean curvature of Wasserstein space, which may lead to poor cluster representation and convergence issues."
   ]
  },
  {
   "cell_type": "markdown",
   "id": "6337365e",
   "metadata": {},
   "source": [
    "### Results"
   ]
  },
  {
   "cell_type": "code",
   "execution_count": 14,
   "id": "0d9f069f",
   "metadata": {},
   "outputs": [
    {
     "data": {
      "application/vnd.jupyter.widget-view+json": {
       "model_id": "234033d3795d47e388428b9942852c02",
       "version_major": 2,
       "version_minor": 0
      },
      "text/plain": [
       "Wasserstein K-Means iterations:   0%|          | 0/100 [00:00<?, ?it/s]"
      ]
     },
     "metadata": {},
     "output_type": "display_data"
    },
    {
     "name": "stdout",
     "output_type": "stream",
     "text": [
      "Converged at iteration 13\n"
     ]
    }
   ],
   "source": [
    "assignments, barycenters = bary_WKMeans(\n",
    "    data=distributions,\n",
    "    grid=grid,\n",
    "    n_clusters=4,\n",
    "    n_iter=100,\n",
    "    reg=1e-1,\n",
    "    random_state=None\n",
    ")"
   ]
  },
  {
   "cell_type": "code",
   "execution_count": 15,
   "id": "848b912f",
   "metadata": {},
   "outputs": [
    {
     "name": "stdout",
     "output_type": "stream",
     "text": [
      "--- Barycentre 0 ---\n",
      "Shape: (400,)\n",
      "Min: 1.09e-04\n",
      "Max: 5.44e-03\n",
      "Sum: 1.000000\n",
      "Contains NaN: False\n",
      "Zero elements: 0 / 400\n",
      "\n",
      "--- Barycentre 1 ---\n",
      "Shape: (400,)\n",
      "Min: 8.12e-07\n",
      "Max: 9.71e-03\n",
      "Sum: 1.000000\n",
      "Contains NaN: False\n",
      "Zero elements: 0 / 400\n",
      "\n",
      "--- Barycentre 2 ---\n",
      "Shape: (400,)\n",
      "Min: 9.01e-07\n",
      "Max: 7.87e-03\n",
      "Sum: 1.000000\n",
      "Contains NaN: False\n",
      "Zero elements: 0 / 400\n",
      "\n",
      "--- Barycentre 3 ---\n",
      "Shape: (400,)\n",
      "Min: 4.29e-05\n",
      "Max: 6.58e-03\n",
      "Sum: 1.000000\n",
      "Contains NaN: False\n",
      "Zero elements: 0 / 400\n",
      "\n"
     ]
    }
   ],
   "source": [
    "for i, b in enumerate(barycenters):\n",
    "    print(f\"--- Barycentre {i} ---\")\n",
    "    print(f\"Shape: {b.shape}\")\n",
    "    print(f\"Min: {b.min():.2e}\")\n",
    "    print(f\"Max: {b.max():.2e}\")\n",
    "    print(f\"Sum: {b.sum():.6f}\")\n",
    "    print(f\"Contains NaN: {np.isnan(b).any()}\")\n",
    "    print(f\"Zero elements: {np.sum(b == 0)} / {b.size}\")\n",
    "    print()\n"
   ]
  },
  {
   "cell_type": "code",
   "execution_count": null,
   "id": "3c4c2d16",
   "metadata": {},
   "outputs": [],
   "source": [
    "plot_projected_distributions(\n",
    "    distributions=barycenters, \n",
    "    grid_shape=(20,20), \n",
    "    support_min=support_min, \n",
    "    support_max=support_max, \n",
    "    title=\"Barycenter\")"
   ]
  },
  {
   "cell_type": "markdown",
   "id": "9084e178",
   "metadata": {},
   "source": [
    "### Elbow Method\n",
    "\n",
    "To choose an appropriate number of clusters, we apply the Elbow Method.  \n",
    "We run the `bary_WKMeans` algorithm for varying values of $k$, and record the total within-cluster Wasserstein distance (inertia).  \n",
    "The goal is to identify a value of $k$ beyond which the inertia decreases more slowly, forming an “elbow” in the plot.\n"
   ]
  },
  {
   "cell_type": "code",
   "execution_count": null,
   "id": "204e35d5",
   "metadata": {},
   "outputs": [],
   "source": [
    "# Range of k values to test\n",
    "k_values = range(1, 11)\n",
    "\n",
    "inertias = []\n",
    "for k_test in tqdm(k_values, desc=\"Running Elbow Method\"):\n",
    "    # Run barycentric Wasserstein K-Means\n",
    "    assignments, barycenters = bary_WKMeans(\n",
    "        data=distributions,\n",
    "        grid=grid,\n",
    "        n_clusters=k_test,\n",
    "        n_iter=1000,\n",
    "        reg=1e-1,\n",
    "        random_state=42\n",
    "    )\n",
    "\n",
    "    # Compute inertia as the sum of squared Wasserstein distances\n",
    "    inertia_values = Parallel(n_jobs=-1)(\n",
    "        delayed(ot.emd2)(\n",
    "            distributions[i],\n",
    "            barycenters[assignments[i]],\n",
    "            cost_matrix\n",
    "        )\n",
    "        for i in range(len(distributions))\n",
    "    )\n",
    "\n",
    "    total_inertia = np.sum(inertia_values)\n",
    "    inertias.append(total_inertia)"
   ]
  },
  {
   "cell_type": "code",
   "execution_count": null,
   "id": "1d771fe6",
   "metadata": {},
   "outputs": [
    {
     "name": "stdout",
     "output_type": "stream",
     "text": [
      "[np.float64(707.3260129549708), np.float64(659.0284519245866), np.float64(658.8780941565043), np.float64(658.7754832723086), np.float64(658.7242441476094), np.float64(658.7667609439678), np.float64(698.7399500659517)]\n"
     ]
    }
   ],
   "source": [
    "k_values = range(1, 11)\n",
    "# [np.float64(707.3260129549708), np.float64(659.0284519245866), np.float64(658.8780941565043), np.float64(658.7754832723086), np.float64(658.7242441476094), np.float64(658.7667609439678), np.float64(697.5709090458654), np.float64(657.5878991548839), np.float64(654.2048632599021), np.float64(652.6456142450841)]\n",
    "# [np.float64(707.3260129549708), np.float64(659.0284519245866), np.float64(658.8780941565043), np.float64(658.7754832723086), np.float64(658.7242441476094), np.float64(658.7667609439678), np.float64(698.7399500659517)]\n",
    "print(inertias)"
   ]
  },
  {
   "cell_type": "code",
   "execution_count": 21,
   "id": "df35a322",
   "metadata": {},
   "outputs": [
    {
     "data": {
      "image/png": "[encoded data removed]",
      "text/plain": [
       "<Figure size 800x500 with 1 Axes>"
      ]
     },
     "metadata": {},
     "output_type": "display_data"
    }
   ],
   "source": [
    "# Plotting the elbow curve\n",
    "plt.figure(figsize=(8, 5))\n",
    "plt.plot(k_values[:len(inertias)], inertias, marker='o')\n",
    "plt.title(\"Elbow Method for Optimal k\")\n",
    "plt.xlabel(\"Number of clusters k\")\n",
    "plt.ylabel(\"Total within-cluster Wasserstein distance\")\n",
    "plt.grid(True)\n",
    "plt.tight_layout()\n",
    "plt.show()"
   ]
  },
  {
   "cell_type": "markdown",
   "id": "f274c8eb",
   "metadata": {},
   "source": [
    "## Clustering based on pairwise distances (D-WKM)"
   ]
  },
  {
   "cell_type": "markdown",
   "id": "174e78a5",
   "metadata": {},
   "source": [
    "### Explanation"
   ]
  },
  {
   "cell_type": "markdown",
   "id": "b73fbbf4",
   "metadata": {},
   "source": [
    "As an alternative to the centroid-based Wasserstein K-means, we implement a **distance-based variant** of the algorithm, inspired by the classical Euclidean K-means formulation based solely on intra-cluster pairwise distances.\n",
    "\n",
    "The objective function we minimize is:\n",
    "\n",
    "$$\n",
    "\\min_{G_1, \\dots, G_K} \\left\\{ \\sum_{k=1}^K \\frac{1}{|G_k|} \\sum_{i,j \\in G_k} W_2^2(\\mu_i, \\mu_j) \\; : \\; \\bigsqcup_{k=1}^K G_k = [n] \\right\\}\n",
    "$$\n",
    "\n",
    "Instead of updating cluster centroids, the algorithm reassigns each distribution to the cluster where its average squared Wasserstein distance to all current members is minimal.\n",
    "\n",
    "Importantly, the pairwise distances between distributions are **fixed** throughout the algorithm. To avoid redundant computations at each iteration, we precompute all $W_2^2$ distances and store them in a matrix. This distance matrix encodes the squared Wasserstein distances between every pair of input distributions."
   ]
  },
  {
   "cell_type": "code",
   "execution_count": null,
   "id": "75945a0e",
   "metadata": {},
   "outputs": [],
   "source": [
    "pairwise = computeDistanceMatrix(\n",
    "    data = distributions,\n",
    "    grid = grid,\n",
    "    save=True,\n",
    "    filepath='../data/Dis_mat_france.txt'\n",
    ")"
   ]
  },
  {
   "cell_type": "markdown",
   "id": "71baa1ad",
   "metadata": {},
   "source": [
    "If the matrix has already been computed and saved, we can simply reload it:"
   ]
  },
  {
   "cell_type": "code",
   "execution_count": null,
   "id": "b60462c0",
   "metadata": {},
   "outputs": [],
   "source": [
    "pairwise = np.loadtxt(\"../data/Dis_mat_france.txt\", dtype=float)"
   ]
  },
  {
   "cell_type": "markdown",
   "id": "95bfd353",
   "metadata": {},
   "source": [
    "The algorithm lies in a simple iterative procedure:\n",
    "\n",
    "* Start with an initial partition of the data into $K$ clusters."
   ]
  },
  {
   "cell_type": "code",
   "execution_count": null,
   "id": "3543b4a9",
   "metadata": {},
   "outputs": [],
   "source": [
    "# Initialize assignments randomly\n",
    "assignments = rng.integers(0, n_clusters, size=n_samples)"
   ]
  },
  {
   "cell_type": "markdown",
   "id": "a1560fa3",
   "metadata": {},
   "source": [
    "* At each iteration, reassign each distribution $\\mu_i$ to the cluster $G_k$ that minimizes its average squared distance to the current members of $G_k$."
   ]
  },
  {
   "cell_type": "code",
   "execution_count": null,
   "id": "af0a8b4c",
   "metadata": {},
   "outputs": [],
   "source": [
    "# Initialize the new assignments array\n",
    "new_assignments = np.zeros_like(assignments)\n",
    "\n",
    "for i in range(n_samples):\n",
    "    avg_dists_to_clusters = []\n",
    "\n",
    "    for k in range(n_clusters):\n",
    "        # Get indices of current members of cluster k\n",
    "        members_k = np.where(assignments == k)[0]\n",
    "\n",
    "        if len(members_k) == 0:\n",
    "            # Avoid assigning to empty clusters\n",
    "            avg_distance = np.inf\n",
    "        else:\n",
    "            # Compute average squared Wasserstein distance to cluster k\n",
    "            distances = [dist_matrix[i, j] for j in members_k]\n",
    "            avg_distance = np.mean(distances)\n",
    "\n",
    "        avg_dists_to_clusters.append(avg_distance)\n",
    "\n",
    "    # Assign distribution i to the closest cluster\n",
    "    new_assignments[i] = np.argmin(avg_dists_to_clusters)\n"
   ]
  },
  {
   "cell_type": "markdown",
   "id": "a695cbcf",
   "metadata": {},
   "source": [
    "> **Note:** This is a simplified version for clarity. The actual implementation uses a more efficient vectorized strategy to compute average distances without looping over clusters inside the main loop.\n"
   ]
  },
  {
   "cell_type": "markdown",
   "id": "97137279",
   "metadata": {},
   "source": [
    "Unlike the centroid-based version, this algorithm doesn’t compute or require barycenters at any step, making it more stable and scalable when working with a large number of high-dimensional or irregular distributions."
   ]
  },
  {
   "cell_type": "markdown",
   "id": "ab188b61",
   "metadata": {},
   "source": [
    "### Results"
   ]
  },
  {
   "cell_type": "code",
   "execution_count": null,
   "id": "2c8fd5ca",
   "metadata": {},
   "outputs": [],
   "source": [
    "assignments = dist_WKMeans(\n",
    "    data = distributions,\n",
    "    grid = grid,\n",
    "    dist_matrix=pairwise,\n",
    "    n_clusters=3,\n",
    "    n_iter=40,\n",
    "    random_state=None\n",
    ")\n",
    "\n",
    "np.unique(assignments)"
   ]
  },
  {
   "cell_type": "code",
   "execution_count": null,
   "id": "f5acac25",
   "metadata": {},
   "outputs": [],
   "source": [
    "plot_projected_distribution(\n",
    "    distributions[np.where(assignments == k)[0][0] for k in range(len(n_clusters))],\n",
    "    grid_shape=(20, 20),\n",
    "    support_min=support_min,\n",
    "    support_max=support_max,\n",
    "    title='Distribution from Cluster'\n",
    ")"
   ]
  },
  {
   "cell_type": "markdown",
   "id": "3a139b7f",
   "metadata": {},
   "source": [
    "### Elbow Method"
   ]
  },
  {
   "cell_type": "code",
   "execution_count": null,
   "id": "24bf07f2",
   "metadata": {},
   "outputs": [],
   "source": [
    "k_values = range(1, 20)\n",
    "\n",
    "inertias = []\n",
    "for k_test in tqdm(k_values):\n",
    "    assignments = dist_WKMeans(\n",
    "        data=distributions,\n",
    "        grid=grid,\n",
    "        dist_matrix=pairwise,\n",
    "        n_clusters=k_test,\n",
    "        n_iter=1000,\n",
    "        random_state=42\n",
    "    )\n",
    "\n",
    "    # Generate new seeds for barycenters\n",
    "    seeds = rng.integers(0, 1e9, size=k_test)\n",
    "\n",
    "    # Barycenter update step (parallelized with independent seeds)\n",
    "    barycenters = Parallel(n_jobs=-1)(\n",
    "        delayed(compute_barycenter_for_cluster)(\n",
    "            k, assignments, data, cost_matrix, reg, seeds[k]\n",
    "        )\n",
    "        for k in range(k_test)\n",
    "    )\n",
    "\n",
    "    inertia_values = Parallel(n_jobs=-1)(\n",
    "        delayed(ot.emd2)(\n",
    "            distributions[i],\n",
    "            barycenters[assignments[i]],\n",
    "            cost_matrix\n",
    "        )\n",
    "        for i in range(n_samples)\n",
    "    )\n",
    "\n",
    "    inertias.append(np.sum(inertia_values))\n"
   ]
  },
  {
   "cell_type": "code",
   "execution_count": null,
   "id": "02b43eb9",
   "metadata": {},
   "outputs": [],
   "source": [
    "# Plot\n",
    "plt.figure(figsize=(8, 5))\n",
    "plt.plot(k_values, inertias, marker='o')\n",
    "plt.title(\"Elbow Method for Optimal k\")\n",
    "plt.xlabel(\"Number of clusters k\")\n",
    "plt.ylabel(\"Total within-cluster Wasserstein distance\")\n",
    "plt.grid(True)\n",
    "plt.show()"
   ]
  },
  {
   "cell_type": "markdown",
   "id": "4058e999",
   "metadata": {},
   "source": [
    "# Mapping"
   ]
  },
  {
   "cell_type": "code",
   "execution_count": null,
   "id": "388f1514",
   "metadata": {},
   "outputs": [],
   "source": [
    "## Only Paris here\n",
    "\n",
    "iris_paris = [iris for iris in common_iris if iris.startswith(\"75\")]\n",
    "distributions_paris = np.array([distributions[common_iris.index(iris)] for iris in iris_paris])\n",
    "\n",
    "pairwise_paris = computeDistanceMatrix(\n",
    "    data = distributions_paris,\n",
    "    grid = grid,\n",
    "    save=True,\n",
    "    filepath='../data/Dis_mat_paris.txt'\n",
    ")\n",
    "\n",
    "pairwise_paris = np.loadtxt(\"../data/Dis_mat_paris.txt\", dtype=float)\n",
    "\n",
    "assignments_paris = dist_WKMeans(\n",
    "    data = distributions_paris,\n",
    "    grid = grid,\n",
    "    dist_matrix=pairwise_paris,\n",
    "    n_clusters=3,\n",
    "    n_iter=40,\n",
    "    random_state=None\n",
    ")\n",
    "\n",
    "np.unique(assignments_paris)"
   ]
  },
  {
   "cell_type": "markdown",
   "id": "cb2c9c1c",
   "metadata": {},
   "source": [
    "## France"
   ]
  },
  {
   "cell_type": "code",
   "execution_count": null,
   "id": "abed8d5b",
   "metadata": {},
   "outputs": [],
   "source": [
    "gdf_france_raw = gpd.read_file(\"../data/contours-iris.gpkg\")\n",
    "\n",
    "gdf_france = gdf_france_raw[gdf_france_raw[\"code_iris\"].isin(common_iris)].copy()\n",
    "gdf_france[\"code_iris\"] = gdf_france[\"code_iris\"].astype(str)\n",
    "\n",
    "\n",
    "iris_cluster_df = pd.DataFrame({\n",
    "    \"code_iris\": common_iris,\n",
    "    \"cluster\": assignments_france\n",
    "})\n",
    "\n",
    "gdf_france = gdf_france.merge(iris_cluster_df, on=\"code_iris\", how=\"left\")\n",
    "\n",
    "gdf_france['cluster'] = gdf_france['cluster'].astype('category')\n",
    "\n"
   ]
  },
  {
   "cell_type": "code",
   "execution_count": null,
   "id": "b354ae55",
   "metadata": {},
   "outputs": [],
   "source": [
    "gdf_france.plot(\n",
    "    column='cluster',\n",
    "    cmap='Accent',\n",
    "    legend=True,\n",
    "    legend_kwds={'title': 'Cluster'},  # Ajoute un titre clair à la légende\n",
    "    missing_kwds={'color': 'lightgrey', 'label': 'No data'}\n",
    ")\n",
    "plt.title(\"Wasserstein Clusters - France\")\n",
    "plt.axis('off')\n",
    "plt.show()\n"
   ]
  },
  {
   "cell_type": "markdown",
   "id": "9d5329af",
   "metadata": {},
   "source": [
    "## Paris"
   ]
  },
  {
   "cell_type": "code",
   "execution_count": null,
   "id": "b8004109",
   "metadata": {},
   "outputs": [],
   "source": [
    "iris_paris = [iris for iris in common_iris if iris.startswith(\"75\")]\n",
    "assignments_proj = np.array([assignments_france[common_iris.index(iris)] for iris in iris_paris])\n",
    "\n",
    "gdf_paris = gdf_france_raw[gdf_france_raw[\"code_iris\"].isin(iris_paris)].copy()\n",
    "\n",
    "iris_cluster_df = pd.DataFrame({\n",
    "    \"code_iris\": iris_paris,\n",
    "    \"cluster_proj\": assignments_proj,\n",
    "    \"cluster_paris\": assignments_paris\n",
    "})\n",
    "\n",
    "gdf_paris = gdf_paris.merge(iris_cluster_df, on=\"code_iris\", how=\"left\")\n",
    "\n",
    "gdf_paris['cluster_proj'] = gdf_paris['cluster_proj'].astype('category')\n",
    "gdf_paris['cluster_paris'] = gdf_paris['cluster_paris'].astype('category')\n"
   ]
  },
  {
   "cell_type": "markdown",
   "id": "1428e8b3",
   "metadata": {},
   "source": [
    "### France clustering projected on Paris"
   ]
  },
  {
   "cell_type": "code",
   "execution_count": null,
   "id": "ad957ba5",
   "metadata": {},
   "outputs": [],
   "source": [
    "gdf_paris.plot(\n",
    "    column='cluster_proj',\n",
    "    cmap='Accent',\n",
    "    legend=True,\n",
    "    legend_kwds={'title': 'Cluster'},  # Ajoute un titre clair à la légende\n",
    "    edgecolor='black',\n",
    "    linewidth=0.1,\n",
    "    missing_kwds={'color': 'lightgrey', 'label': 'No data'}\n",
    ")\n",
    "plt.title(\"Wasserstein Clusters - Paris\")\n",
    "plt.axis('off')\n",
    "plt.show()\n"
   ]
  },
  {
   "cell_type": "markdown",
   "id": "a4c2d5c8",
   "metadata": {},
   "source": [
    "### Paris Clustering"
   ]
  },
  {
   "cell_type": "code",
   "execution_count": null,
   "id": "f53088be",
   "metadata": {},
   "outputs": [],
   "source": [
    "gdf_paris.plot(\n",
    "    column='cluster_paris',\n",
    "    cmap='Accent',\n",
    "    legend=True,\n",
    "    legend_kwds={'title': 'Cluster'},  # Ajoute un titre clair à la légende\n",
    "    edgecolor='black',\n",
    "    linewidth=0.1,\n",
    "    missing_kwds={'color': 'lightgrey', 'label': 'No data'}\n",
    ")\n",
    "plt.title(\"Wasserstein Clusters - Paris\")\n",
    "plt.axis('off')\n",
    "plt.show()\n"
   ]
  },
  {
   "cell_type": "code",
   "execution_count": null,
   "id": "d5509055",
   "metadata": {},
   "outputs": [],
   "source": [
    "n_clusters = 3\n",
    "fig, axes = plt.subplots(2, n_clusters, figsize=(5*n_clusters, 8))\n",
    "\n",
    "# France clustering projected on Paris\n",
    "for k in range(n_clusters):\n",
    "    ax = axes[0, k]\n",
    "    idx = rng.choice(np.where(assignments_proj == k)[0])\n",
    "\n",
    "    dist = joint_distributions_paris[idx]\n",
    "    supp = joint_supports_paris[idx]\n",
    "    age_classes = supp[:, 0]\n",
    "    income_deciles = supp[:, 1]\n",
    "\n",
    "    scatter = ax.scatter(\n",
    "        income_deciles, age_classes,\n",
    "        c=dist,\n",
    "        cmap='viridis',\n",
    "        s=300 * dist,\n",
    "        edgecolor='k'\n",
    "    )\n",
    "    ax.set_title(f\"France Clustering - Cluster {k}\")\n",
    "    ax.set_xlabel(\"Income\")\n",
    "    ax.set_ylabel(\"Age\")\n",
    "    ax.set_xlim(0, 1)\n",
    "    ax.set_ylim(0, 1)\n",
    "    ax.grid(True)\n",
    "\n",
    "# Paris clustering\n",
    "for k in range(n_clusters):\n",
    "    ax = axes[1, k]\n",
    "    idx = rng.choice(np.where(assignments_paris == k)[0])\n",
    "\n",
    "    dist = joint_distributions_paris[idx]\n",
    "    supp = joint_supports_paris[idx]\n",
    "    age_classes = supp[:, 0]\n",
    "    income_deciles = supp[:, 1]\n",
    "\n",
    "    scatter = ax.scatter(\n",
    "        income_deciles, age_classes,\n",
    "        c=dist,\n",
    "        cmap='viridis',\n",
    "        s=300 * dist,\n",
    "        edgecolor='k'\n",
    "    )\n",
    "    ax.set_title(f\"Paris Clustering - Cluster {k}\")\n",
    "    ax.set_xlabel(\"Income\")\n",
    "    ax.set_ylabel(\"Age\")\n",
    "    ax.set_xlim(0, 1)\n",
    "    ax.set_ylim(0, 1)\n",
    "    ax.grid(True)\n",
    "\n",
    "fig.tight_layout()\n",
    "cbar = fig.colorbar(scatter, ax=axes.ravel().tolist(), shrink=0.95)\n",
    "cbar.set_label(\"Probabilité\")\n",
    "plt.show()"
   ]
  }
 ],
 "metadata": {
  "kernelspec": {
   "display_name": "Python 3",
   "language": "python",
   "name": "python3"
  },
  "language_info": {
   "codemirror_mode": {
    "name": "ipython",
    "version": 3
   },
   "file_extension": ".py",
   "mimetype": "text/x-python",
   "name": "python",
   "nbconvert_exporter": "python",
   "pygments_lexer": "ipython3",
   "version": "3.13.5"
  }
 },
 "nbformat": 4,
 "nbformat_minor": 5
}
